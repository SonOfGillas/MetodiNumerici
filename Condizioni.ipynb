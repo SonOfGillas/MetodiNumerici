{
 "cells": [
  {
   "cell_type": "code",
   "execution_count": 283,
   "id": "4fb9c8bd-7f4e-4c62-a740-f261d308927b",
   "metadata": {
    "tags": []
   },
   "outputs": [],
   "source": [
    "# Import dati dalla prof\n",
    "from scipy.io import loadmat\n",
    "import numpy as np\n",
    "import scipy.linalg as spl\n",
    "import RisolviSis as RS\n",
    "import matplotlib.pyplot as plt\n",
    "dati = loadmat('testE.mat')\n",
    "A=dati[\"A\"] \n",
    "b=dati[\"b\"]\n"
   ]
  },
  {
   "attachments": {},
   "cell_type": "markdown",
   "id": "0e50f690",
   "metadata": {},
   "source": [
    "# m = n ?"
   ]
  },
  {
   "cell_type": "code",
   "execution_count": 284,
   "id": "9be49fd6-241e-47a7-8d2f-a5bee30bcdfa",
   "metadata": {
    "tags": []
   },
   "outputs": [
    {
     "name": "stdout",
     "output_type": "stream",
     "text": [
      "Dimensione di A: 100 100\n"
     ]
    }
   ],
   "source": [
    "# Innanzittutto devo verificare se il sistema è sovradeterminato o meno\n",
    "# m =/= n il sistema è sovradeterminato.\n",
    "# Inoltre in base ai valori sulle dimensioni posso anche capire quanto sia\n",
    "# grande o meno la matrice e decidere meglio quale algortimo applicare.\n",
    "n, m = A.shape\n",
    "print(\"Dimensione di A:\", n, m)\n"
   ]
  },
  {
   "attachments": {},
   "cell_type": "markdown",
   "id": "3708391e",
   "metadata": {},
   "source": [
    "# Densa o Sparsa ?\n",
    "Questo lo faccio solo se m = n."
   ]
  },
  {
   "cell_type": "code",
   "execution_count": 285,
   "id": "b0b9bc39",
   "metadata": {},
   "outputs": [
    {
     "name": "stdout",
     "output_type": "stream",
     "text": [
      "Percentuale elementi diversi da zero: 2.98 %\n"
     ]
    }
   ],
   "source": [
    "# Se ho una matrice quadrata controllo se questa sia densa o sparsa:\n",
    "# se più del 33% degli elementi è diverso da 0 allora la matrice è densa.\n",
    "n_zeri = np.count_nonzero(A) / (n * m)\n",
    "perc_n_zeri = n_zeri * 100\n",
    "print(\"Percentuale elementi diversi da zero:\", perc_n_zeri,\"%\")\n"
   ]
  },
  {
   "attachments": {},
   "cell_type": "markdown",
   "id": "8a425854",
   "metadata": {},
   "source": [
    "# Simmetrica ?\n",
    "Solo se la matrice è grande e sparsa: in questo caso usi i metodi iterativi."
   ]
  },
  {
   "cell_type": "code",
   "execution_count": 286,
   "id": "9f62254c-8820-466c-9dcf-7db0938930f1",
   "metadata": {
    "tags": []
   },
   "outputs": [
    {
     "name": "stdout",
     "output_type": "stream",
     "text": [
      "La matrice non è simmetrica\n"
     ]
    }
   ],
   "source": [
    "# Se ho una matrice quadrata e grande e sparsa, verifico ora che la matrice sia \n",
    "# simmetrica oppure no: in base a questa valutazione capisco quale metodo \n",
    "# utilizzare.\n",
    "# Se la matrice è uguale alla trasposta allora questa sarà definita positiva.\n",
    "flag = (A == A.T)\n",
    "if (np.all(flag) == False):\n",
    "    print(\"La matrice non è simmetrica\")\n",
    "else:\n",
    "    print(\"La matrice è simmetrica e definita positiva\")\n"
   ]
  },
  {
   "attachments": {},
   "cell_type": "markdown",
   "id": "5d2f1915",
   "metadata": {},
   "source": [
    "# Simmetrica == True?\n",
    "GS SOR, Gradiente, Gradiente coniugato."
   ]
  },
  {
   "attachments": {},
   "cell_type": "markdown",
   "id": "4adae9cf",
   "metadata": {},
   "source": [
    "# Simmetrica == False?\n",
    "Controllo se la diagonale è dominante.\n",
    "\n",
    "# Diagonale dominante?\n",
    "Jacobi, Gauss-Siedel, GS SOR."
   ]
  },
  {
   "cell_type": "code",
   "execution_count": 287,
   "id": "5c2761d0",
   "metadata": {},
   "outputs": [
    {
     "name": "stdout",
     "output_type": "stream",
     "text": [
      "elemento diagonale: 2089.7\n",
      "elemento diagonale: 2088.7\n",
      "elemento diagonale: 2087.7\n",
      "elemento diagonale: 2086.7\n",
      "elemento diagonale: 2085.7\n",
      "elemento diagonale: 2084.7\n",
      "elemento diagonale: 2083.7\n",
      "elemento diagonale: 2082.7\n",
      "elemento diagonale: 2081.7\n",
      "elemento diagonale: 2080.7\n",
      "elemento diagonale: 2079.7\n",
      "elemento diagonale: 2078.7\n",
      "elemento diagonale: 2077.7\n",
      "elemento diagonale: 2076.7\n",
      "elemento diagonale: 2075.7\n",
      "elemento diagonale: 2074.7\n",
      "elemento diagonale: 2073.7\n",
      "elemento diagonale: 2072.7\n",
      "elemento diagonale: 2071.7\n",
      "elemento diagonale: 2070.7\n",
      "elemento diagonale: 2069.7000000000003\n",
      "elemento diagonale: 2068.7000000000003\n",
      "elemento diagonale: 2067.7\n",
      "elemento diagonale: 2066.7\n",
      "elemento diagonale: 2065.7\n",
      "elemento diagonale: 2064.7\n",
      "elemento diagonale: 2063.7\n",
      "elemento diagonale: 2062.7\n",
      "elemento diagonale: 2061.7000000000003\n",
      "elemento diagonale: 2060.7\n",
      "elemento diagonale: 2059.7\n",
      "elemento diagonale: 2058.7\n",
      "elemento diagonale: 2057.7\n",
      "elemento diagonale: 2056.7\n",
      "elemento diagonale: 2055.7\n",
      "elemento diagonale: 2054.7000000000003\n",
      "elemento diagonale: 2053.7\n",
      "elemento diagonale: 2052.7\n",
      "elemento diagonale: 2051.7\n",
      "elemento diagonale: 2050.7\n",
      "elemento diagonale: 2049.7\n",
      "elemento diagonale: 2048.7000000000003\n",
      "elemento diagonale: 2047.7000000000003\n",
      "elemento diagonale: 2046.6999999999998\n",
      "elemento diagonale: 2045.6999999999998\n",
      "elemento diagonale: 2044.6999999999998\n",
      "elemento diagonale: 2043.7\n",
      "elemento diagonale: 2042.7\n",
      "elemento diagonale: 2041.7\n",
      "elemento diagonale: 2040.7\n",
      "elemento diagonale: 2040.7\n",
      "elemento diagonale: 2041.7\n",
      "elemento diagonale: 2042.7\n",
      "elemento diagonale: 2043.7\n",
      "elemento diagonale: 2044.7000000000003\n",
      "elemento diagonale: 2045.7000000000003\n",
      "elemento diagonale: 2046.7000000000003\n",
      "elemento diagonale: 2047.6999999999998\n",
      "elemento diagonale: 2048.7\n",
      "elemento diagonale: 2049.7\n",
      "elemento diagonale: 2050.7\n",
      "elemento diagonale: 2051.7\n",
      "elemento diagonale: 2052.7\n",
      "elemento diagonale: 2053.7\n",
      "elemento diagonale: 2054.7000000000003\n",
      "elemento diagonale: 2055.7000000000003\n",
      "elemento diagonale: 2056.7000000000003\n",
      "elemento diagonale: 2057.7000000000003\n",
      "elemento diagonale: 2058.7000000000003\n",
      "elemento diagonale: 2059.7000000000003\n",
      "elemento diagonale: 2060.7\n",
      "elemento diagonale: 2061.7\n",
      "elemento diagonale: 2062.7\n",
      "elemento diagonale: 2063.7\n",
      "elemento diagonale: 2064.7\n",
      "elemento diagonale: 2065.7\n",
      "elemento diagonale: 2066.7\n",
      "elemento diagonale: 2067.7\n",
      "elemento diagonale: 2068.7000000000003\n",
      "elemento diagonale: 2069.7000000000003\n",
      "elemento diagonale: 2070.7000000000003\n",
      "elemento diagonale: 2071.7000000000003\n",
      "elemento diagonale: 2072.7000000000003\n",
      "elemento diagonale: 2073.7\n",
      "elemento diagonale: 2074.7\n",
      "elemento diagonale: 2075.7\n",
      "elemento diagonale: 2076.7\n",
      "elemento diagonale: 2077.7\n",
      "elemento diagonale: 2078.7\n",
      "elemento diagonale: 2079.7\n",
      "elemento diagonale: 2080.7\n",
      "elemento diagonale: 2081.7\n",
      "elemento diagonale: 2082.7000000000003\n",
      "elemento diagonale: 2083.7000000000003\n",
      "elemento diagonale: 2084.7000000000003\n",
      "elemento diagonale: 2085.7\n",
      "elemento diagonale: 2086.7\n",
      "elemento diagonale: 2087.7\n",
      "elemento diagonale: 2088.7\n",
      "elemento diagonale: 2089.7\n",
      "Matrice a diagonale dominante?  True\n"
     ]
    }
   ],
   "source": [
    "# A questo punto passo ad analizzare la diagonale della matrice: da questo \n",
    "# capisco se la diagonale è dominante o meno e se lo è anche in modo stretto.\n",
    "# A e' a diagonale dominante se il valore assoluto dell'elemento sulla diagonale \n",
    "# e' >= della somma in valore in valore assoluto di tutti i valori sulla\n",
    "# rispettiva riga.\n",
    "def check_diagonale(A):\n",
    "    n = A.shape[0]\n",
    "    flag = True\n",
    "    for i in range(n):\n",
    "       diag_elem = np.abs(A[i, i])\n",
    "       print(\"elemento diagonale:\", diag_elem)\n",
    "       # per tutte le righe: elementi in riga sommati - elemento diagonale.\n",
    "       row_sum = np.sum(np.abs(A[i, :])) - np.abs(A[i, i])\n",
    "       if diag_elem < row_sum:\n",
    "            print(\"Matrice non a diagonale dominante\")\n",
    "            flag = False\n",
    "            return flag\n",
    "    \n",
    "    # Se e' a diagonale dominante hai: Jacobi, Gauss-Siedel e GS SOR\n",
    "    return flag\n",
    "\n",
    "diag = check_diagonale(A)\n",
    "print(\"Matrice a diagonale dominante? \", diag)"
   ]
  },
  {
   "attachments": {},
   "cell_type": "markdown",
   "id": "f506c49d",
   "metadata": {},
   "source": [
    "# Piccola e Densa ?\n",
    "Ti affidi ai metodi di fattorizzazione:\n",
    "- QR: sempre possibile.\n",
    "- LU: determinante di A diverso da 0.\n",
    "- Cholesky: esiste per matrici simmetriche e definite positive."
   ]
  },
  {
   "attachments": {},
   "cell_type": "markdown",
   "id": "227c9a63",
   "metadata": {},
   "source": [
    "# Simmetria ?"
   ]
  },
  {
   "cell_type": "code",
   "execution_count": 288,
   "id": "bc63d59b",
   "metadata": {},
   "outputs": [
    {
     "name": "stdout",
     "output_type": "stream",
     "text": [
      "La matrice non è simmetrica\n"
     ]
    }
   ],
   "source": [
    "# Se la matrice è uguale alla trasposta allora questa sarà definita positiva.\n",
    "flag = (A == A.T)\n",
    "if (np.all(flag) == False):\n",
    "    print(\"La matrice non è simmetrica\")\n",
    "else:\n",
    "    print(\"La matrice è simmetrica e definita positiva\")\n"
   ]
  },
  {
   "attachments": {},
   "cell_type": "markdown",
   "id": "e553f08c",
   "metadata": {},
   "source": [
    "# Sistemi sovradeterminati"
   ]
  },
  {
   "cell_type": "code",
   "execution_count": 289,
   "id": "a99ccb2f-ed99-42ca-9ec8-c3a599abeaac",
   "metadata": {
    "tags": []
   },
   "outputs": [],
   "source": [
    "import scipy.linalg as spLin\n",
    "dati = loadmat('testF.mat')\n",
    "A1=dati[\"A\"] \n",
    "b1=dati[\"b\"]"
   ]
  },
  {
   "attachments": {},
   "cell_type": "markdown",
   "id": "f5947573",
   "metadata": {},
   "source": [
    "# m > n ?"
   ]
  },
  {
   "cell_type": "code",
   "execution_count": 290,
   "id": "38c1293f-0950-4ac2-b21d-486413ca5b91",
   "metadata": {
    "tags": []
   },
   "outputs": [
    {
     "name": "stdout",
     "output_type": "stream",
     "text": [
      "Dimensione di A 50 19\n"
     ]
    }
   ],
   "source": [
    "m, n = A1.shape\n",
    "print(\"Dimensione di A\", m ,n)"
   ]
  },
  {
   "attachments": {},
   "cell_type": "markdown",
   "id": "52dcfcdb",
   "metadata": {},
   "source": [
    "# Rango massimo ?"
   ]
  },
  {
   "cell_type": "code",
   "execution_count": 291,
   "id": "e2984c38",
   "metadata": {},
   "outputs": [
    {
     "name": "stdout",
     "output_type": "stream",
     "text": [
      "Rango massimo e il determinante è diverso da 0.\n"
     ]
    }
   ],
   "source": [
    "# Vedo se il determinante di A è diverso da 0\n",
    "rank = np.linalg.matrix_rank(A)\n",
    "if(A.shape[0] == rank):\n",
    "    print(\"Rango massimo e il determinante è diverso da 0.\")\n",
    "else:\n",
    "    print(\"Rango non massimo e il determinante è nullo.\")\n"
   ]
  },
  {
   "attachments": {},
   "cell_type": "markdown",
   "id": "d9e4104a",
   "metadata": {},
   "source": [
    "# Rango =/= max: \n",
    "SVDLS"
   ]
  },
  {
   "attachments": {},
   "cell_type": "markdown",
   "id": "a813193f",
   "metadata": {},
   "source": [
    "# Rango = max\n",
    "Calcolo l'indice di condizionamento della matrice."
   ]
  },
  {
   "cell_type": "code",
   "execution_count": 292,
   "id": "713b7655",
   "metadata": {},
   "outputs": [
    {
     "name": "stdout",
     "output_type": "stream",
     "text": [
      "5.1781251848074726e+17\n",
      "Matrice mal condizionata\n"
     ]
    }
   ],
   "source": [
    "ind_cond = np.linalg.cond(A1)\n",
    "print(ind_cond)\n",
    "\n",
    "if(ind_cond < A1.shape[0]**3):\n",
    "    print(\"Matrice ben condizionata\")\n",
    "elif(ind_cond < A1.shape[0]**10):\n",
    "    # anche se la vera condizione è un'altra\n",
    "    print(\"Matrice mediamente mal condizionata\")\n",
    "else:\n",
    "    print(\"Matrice mal condizionata\")\n"
   ]
  },
  {
   "attachments": {},
   "cell_type": "markdown",
   "id": "abb99747",
   "metadata": {},
   "source": [
    "# Matrice ben condizionata ?\n",
    "Equazioni normali\n",
    "\n",
    "# Rango max e Mediamente mal condizionata ?\n",
    "QRLS"
   ]
  }
 ],
 "metadata": {
  "kernelspec": {
   "display_name": "Python 3 (ipykernel)",
   "language": "python",
   "name": "python3"
  },
  "language_info": {
   "codemirror_mode": {
    "name": "ipython",
    "version": 3
   },
   "file_extension": ".py",
   "mimetype": "text/x-python",
   "name": "python",
   "nbconvert_exporter": "python",
   "pygments_lexer": "ipython3",
   "version": "3.11.2"
  }
 },
 "nbformat": 4,
 "nbformat_minor": 5
}
