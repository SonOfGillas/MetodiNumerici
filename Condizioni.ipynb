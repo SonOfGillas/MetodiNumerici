{
 "cells": [
  {
   "cell_type": "code",
   "execution_count": null,
   "id": "4fb9c8bd-7f4e-4c62-a740-f261d308927b",
   "metadata": {
    "tags": []
   },
   "outputs": [],
   "source": [
    "# Import dati dalla prof\n",
    "from scipy.io import loadmat\n",
    "import numpy as np\n",
    "import scipy.linalg as spl\n",
    "import RisolviSis as RS\n",
    "import matplotlib.pyplot as plt\n",
    "dati = loadmat('testE.mat')\n",
    "A=dati[\"A\"] \n",
    "b=dati[\"b\"]\n"
   ]
  },
  {
   "attachments": {},
   "cell_type": "markdown",
   "id": "0e50f690",
   "metadata": {},
   "source": [
    "# m = n ?"
   ]
  },
  {
   "cell_type": "code",
   "execution_count": null,
   "id": "9be49fd6-241e-47a7-8d2f-a5bee30bcdfa",
   "metadata": {
    "tags": []
   },
   "outputs": [],
   "source": [
    "# Innanzittutto devo verificare se il sistema è sovradeterminato o meno\n",
    "# m =/= n il sistema è sovradeterminato.\n",
    "# Inoltre in base ai valori sulle dimensioni posso anche capire quanto sia\n",
    "# grande o meno la matrice e decidere meglio quale algortimo applicare.\n",
    "n, m = A.shape\n",
    "print(\"Dimensione di A:\", n, m)\n"
   ]
  },
  {
   "attachments": {},
   "cell_type": "markdown",
   "id": "3708391e",
   "metadata": {},
   "source": [
    "# Densa o Sparsa ?\n",
    "Questo lo faccio solo se m = n."
   ]
  },
  {
   "cell_type": "code",
   "execution_count": null,
   "id": "b0b9bc39",
   "metadata": {},
   "outputs": [],
   "source": [
    "# Se ho una matrice quadrata controllo se questa sia densa o sparsa:\n",
    "# se più del 33% degli elementi è diverso da 0 allora la matrice è densa.\n",
    "n_zeri = np.count_nonzero(A) / (n * m)\n",
    "perc_n_zeri = n_zeri * 100\n",
    "print(\"Percentuale elementi diversi da zero:\", perc_n_zeri,\"%\")\n"
   ]
  },
  {
   "attachments": {},
   "cell_type": "markdown",
   "id": "8a425854",
   "metadata": {},
   "source": [
    "# Simmetrica ?\n",
    "Solo se la matrice è grande e sparsa: in questo caso usi i metodi iterativi."
   ]
  },
  {
   "cell_type": "code",
   "execution_count": null,
   "id": "9f62254c-8820-466c-9dcf-7db0938930f1",
   "metadata": {
    "tags": []
   },
   "outputs": [],
   "source": [
    "# Se ho una matrice quadrata e grande e sparsa, verifico ora che la matrice sia \n",
    "# simmetrica oppure no: in base a questa valutazione capisco quale metodo \n",
    "# utilizzare.\n",
    "# Se la matrice è uguale alla trasposta allora questa sarà definita positiva.\n",
    "flag = (A == A.T)\n",
    "if (np.all(flag) == False):\n",
    "    print(\"La matrice non è simmetrica\")\n",
    "else:\n",
    "    print(\"La matrice è simmetrica\")\n",
    "\n",
    "    # Se la matrice e' simmetrica devo vedere se è anche\n",
    "    # definita positiva: uso gli autovalori e Silvester\n",
    "    eig = np.linalg.eigvals(A)\n",
    "    if(np.all(eig>0)):\n",
    "        print(\"La matrice è definita positiva\")\n",
    "\n"
   ]
  },
  {
   "attachments": {},
   "cell_type": "markdown",
   "id": "5d2f1915",
   "metadata": {},
   "source": [
    "# Simmetrica == True?\n",
    "GS SOR, Gradiente, Gradiente coniugato."
   ]
  },
  {
   "attachments": {},
   "cell_type": "markdown",
   "id": "4adae9cf",
   "metadata": {},
   "source": [
    "# Simmetrica == False?\n",
    "Controllo se la diagonale è dominante.\n",
    "\n",
    "# Diagonale dominante?\n",
    "Jacobi, Gauss-Siedel, GS SOR."
   ]
  },
  {
   "cell_type": "code",
   "execution_count": null,
   "id": "5c2761d0",
   "metadata": {},
   "outputs": [],
   "source": [
    "# A questo punto passo ad analizzare la diagonale della matrice: da questo \n",
    "# capisco se la diagonale è dominante o meno e se lo è anche in modo stretto.\n",
    "# A e' a diagonale dominante se il valore assoluto dell'elemento sulla diagonale \n",
    "# e' >= della somma in valore in valore assoluto di tutti i valori sulla\n",
    "# rispettiva riga.\n",
    "def check_diagonale(A):\n",
    "    n = A.shape[0]\n",
    "    flag = True\n",
    "    for i in range(n):\n",
    "       diag_elem = np.abs(A[i, i])\n",
    "       print(\"elemento diagonale:\", diag_elem)\n",
    "       # per tutte le righe: elementi in riga sommati - elemento diagonale.\n",
    "       row_sum = np.sum(np.abs(A[i, :])) - np.abs(A[i, i])\n",
    "       if diag_elem < row_sum:\n",
    "            print(\"Matrice non a diagonale dominante\")\n",
    "            flag = False\n",
    "            return flag\n",
    "    \n",
    "    # Se e' a diagonale dominante hai: Jacobi, Gauss-Siedel e GS SOR\n",
    "    return flag\n",
    "\n",
    "diag = check_diagonale(A)\n",
    "print(\"Matrice a diagonale dominante? \", diag)"
   ]
  },
  {
   "attachments": {},
   "cell_type": "markdown",
   "id": "f506c49d",
   "metadata": {},
   "source": [
    "# Piccola e Densa ?\n",
    "Ti affidi ai metodi di fattorizzazione:\n",
    "- QR: sempre possibile, meglio se usato per matrici mal condizionate.\n",
    "- LU: determinante di A diverso da 0.\n",
    "- Cholesky: esiste per matrici simmetriche e definite positive."
   ]
  },
  {
   "attachments": {},
   "cell_type": "markdown",
   "id": "227c9a63",
   "metadata": {},
   "source": [
    "# Simmetria ?"
   ]
  },
  {
   "cell_type": "code",
   "execution_count": null,
   "id": "bc63d59b",
   "metadata": {},
   "outputs": [],
   "source": [
    "# Se la matrice è uguale alla trasposta allora questa sarà definita positiva.\n",
    "flag = (A == A.T)\n",
    "if (np.all(flag) == False):\n",
    "    print(\"La matrice non è simmetrica\")\n",
    "else:\n",
    "    print(\"La matrice è simmetrica e definita positiva\")\n",
    "\n",
    "    # Se la matrice e' simmetrica devo vedere se è anche\n",
    "    # definita positiva: uso gli autovalori e Silvester\n",
    "    eig = np.linalg.eigvals(A)\n",
    "    if(np.all(eig>0)):\n",
    "        print(\"La matrice è definita positiva\")\n"
   ]
  },
  {
   "attachments": {},
   "cell_type": "markdown",
   "id": "e07a6419",
   "metadata": {},
   "source": [
    "# Definita positiva?\n",
    "Cholesky.\n",
    "\n",
    "# Non definita Positiva?\n",
    "LU e QR."
   ]
  },
  {
   "cell_type": "code",
   "execution_count": null,
   "id": "22d1b79b",
   "metadata": {},
   "outputs": [],
   "source": []
  },
  {
   "attachments": {},
   "cell_type": "markdown",
   "id": "e553f08c",
   "metadata": {},
   "source": [
    "# Sistemi sovradeterminati"
   ]
  },
  {
   "cell_type": "code",
   "execution_count": null,
   "id": "a99ccb2f-ed99-42ca-9ec8-c3a599abeaac",
   "metadata": {
    "tags": []
   },
   "outputs": [],
   "source": [
    "import scipy.linalg as spLin\n",
    "dati = loadmat('testF.mat')\n",
    "A1=dati[\"A\"] \n",
    "b1=dati[\"b\"]"
   ]
  },
  {
   "attachments": {},
   "cell_type": "markdown",
   "id": "f5947573",
   "metadata": {},
   "source": [
    "# m > n ?"
   ]
  },
  {
   "cell_type": "code",
   "execution_count": null,
   "id": "38c1293f-0950-4ac2-b21d-486413ca5b91",
   "metadata": {
    "tags": []
   },
   "outputs": [],
   "source": [
    "m, n = A1.shape\n",
    "print(\"Dimensione di A\", m ,n)"
   ]
  },
  {
   "attachments": {},
   "cell_type": "markdown",
   "id": "52dcfcdb",
   "metadata": {},
   "source": [
    "# Rango massimo ?"
   ]
  },
  {
   "cell_type": "code",
   "execution_count": null,
   "id": "e2984c38",
   "metadata": {},
   "outputs": [],
   "source": [
    "# Vedo se il determinante di A è diverso da 0\n",
    "rank = np.linalg.matrix_rank(A)\n",
    "if(A.shape[0] == rank):\n",
    "    print(\"Rango massimo e il determinante è diverso da 0.\")\n",
    "else:\n",
    "    print(\"Rango non massimo e il determinante è nullo.\")\n"
   ]
  },
  {
   "attachments": {},
   "cell_type": "markdown",
   "id": "d9e4104a",
   "metadata": {},
   "source": [
    "# Rango =/= max: \n",
    "SVDLS"
   ]
  },
  {
   "attachments": {},
   "cell_type": "markdown",
   "id": "a813193f",
   "metadata": {},
   "source": [
    "# Rango = max\n",
    "Calcolo l'indice di condizionamento della matrice."
   ]
  },
  {
   "cell_type": "code",
   "execution_count": null,
   "id": "713b7655",
   "metadata": {},
   "outputs": [],
   "source": [
    "ind_cond = np.linalg.cond(A1)\n",
    "print(ind_cond)\n",
    "\n",
    "if(ind_cond < A1.shape[0]**3):\n",
    "    print(\"Matrice ben condizionata\")\n",
    "elif(ind_cond < A1.shape[0]**10):\n",
    "    # anche se la vera condizione è un'altra\n",
    "    print(\"Matrice mediamente mal condizionata\")\n",
    "else:\n",
    "    print(\"Matrice mal condizionata\")\n"
   ]
  },
  {
   "attachments": {},
   "cell_type": "markdown",
   "id": "abb99747",
   "metadata": {},
   "source": [
    "# Matrice ben condizionata ?\n",
    "Equazioni normali\n",
    "\n",
    "# Rango max e Mediamente mal condizionata ?\n",
    "QRLS"
   ]
  }
 ],
 "metadata": {
  "kernelspec": {
   "display_name": "Python 3 (ipykernel)",
   "language": "python",
   "name": "python3"
  },
  "language_info": {
   "codemirror_mode": {
    "name": "ipython",
    "version": 3
   },
   "file_extension": ".py",
   "mimetype": "text/x-python",
   "name": "python",
   "nbconvert_exporter": "python",
   "pygments_lexer": "ipython3",
   "version": "3.11.2"
  }
 },
 "nbformat": 4,
 "nbformat_minor": 5
}
