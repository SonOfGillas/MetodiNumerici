{
 "cells": [
  {
   "cell_type": "code",
   "execution_count": 1,
   "id": "4fb9c8bd-7f4e-4c62-a740-f261d308927b",
   "metadata": {
    "tags": []
   },
   "outputs": [],
   "source": [
    "# Import dati dalla prof\n",
    "from scipy.io import loadmat\n",
    "import numpy as np\n",
    "import scipy.linalg as spl\n",
    "import RisolviSis as RS\n",
    "import matplotlib.pyplot as plt\n",
    "dati = loadmat('testE.mat')\n",
    "A=dati[\"A\"] \n",
    "b=dati[\"b\"]"
   ]
  },
  {
   "cell_type": "code",
   "execution_count": 2,
   "id": "9be49fd6-241e-47a7-8d2f-a5bee30bcdfa",
   "metadata": {
    "tags": []
   },
   "outputs": [
    {
     "name": "stdout",
     "output_type": "stream",
     "text": [
      "Dimensione di A: 100 100\n"
     ]
    }
   ],
   "source": [
    "# Innanzittutto devo verificare se il sistema è sovradeterminato o meno\n",
    "# m =/= n il sistema è sovradeterminato.\n",
    "# Inoltre in base ai valori sulle dimensioni posso anche capire quanto sia\n",
    "# grande o meno la matrice e decidere meglio quale algortimo applicare.\n",
    "n, m = A.shape\n",
    "print(\"Dimensione di A:\", n, m)"
   ]
  },
  {
   "cell_type": "code",
   "execution_count": 3,
   "id": "9f62254c-8820-466c-9dcf-7db0938930f1",
   "metadata": {
    "tags": []
   },
   "outputs": [
    {
     "name": "stdout",
     "output_type": "stream",
     "text": [
      "Percentuale elementi diversi da zero: 2.98 %\n"
     ]
    }
   ],
   "source": [
    "# Siccome ho una matrice quadrata controllo se questa sia densa o sparsa:\n",
    "# se più del 33% degli elementi è diverso da 0 allora la matrice è densa\n",
    "n_zeri = np.count_nonzero(A) / (n * m)\n",
    "perc_n_zeri = n_zeri * 100\n",
    "print(\"Percentuale elementi diversi da zero:\", perc_n_zeri,\"%\")"
   ]
  },
  {
   "cell_type": "code",
   "execution_count": 4,
   "id": "0cbbd459-a1ff-4438-a26b-10aa804d2c04",
   "metadata": {
    "tags": []
   },
   "outputs": [
    {
     "name": "stdout",
     "output_type": "stream",
     "text": [
      "La matrice non è simmetrica\n",
      "no\n"
     ]
    }
   ],
   "source": [
    "flag = (A == A.T)\n",
    "if (np.all(flag) == 0):\n",
    "    print(\"La matrice non è simmetrica\")\n",
    "else:\n",
    "    print(\"La matrice è simmetrica\")\n",
    "\n",
    "if(flag.all()):\n",
    "    print(\"definita positiva\")\n",
    "else:\n",
    "    print(\"no\")\n",
    "   "
   ]
  },
  {
   "attachments": {},
   "cell_type": "markdown",
   "id": "f1903041-e6ac-4729-bd4a-298502fe501d",
   "metadata": {},
   "source": [
    "Verifico se è a diagonale dominante-\n",
    "ATTENZIONE: Verifico che la matrice sia a **diagonale dominante** (non strettamente dominante), cioè tale abs(elemento diagonale)>=sum_abs(extradiag): In questo caso i metodi convergono, ma molto lentamente perchè come si può vedere il raggio spettrale è molto vicino ad 1, quindi si ha ancora convergenza, ma lenta."
   ]
  },
  {
   "cell_type": "code",
   "execution_count": 5,
   "id": "8fff327b-0cdd-4bef-93fc-e7dff951e072",
   "metadata": {
    "tags": []
   },
   "outputs": [],
   "source": [
    "def verifica_dd(A):\n",
    "    n=A.shape[0]\n",
    "    flag=True\n",
    "    for i in range(n):\n",
    "       el_diag=np.abs(A[i,i])\n",
    "       print(\"elemento diagonale:\", el_diag)\n",
    "       # tutte le righe - elementi diagonali\n",
    "       # diagonale dominante: A è diagonale dominante se il valore \n",
    "       # assoluto del elemento sulla diagonale è >= della sommatoria \n",
    "       # in valore invalore assoluto dei restanti valori sulla riga\n",
    "       sum_extradiag=np.sum(np.abs(A[i,:]))-np.abs(A[i,i])\n",
    "       if el_diag< sum_extradiag:\n",
    "            print(\"Matrice non a diagonale  dominante\")\n",
    "            flag=False\n",
    "            return flag\n",
    "        \n",
    "    return flag\n",
    "                  \n",
    "                              "
   ]
  },
  {
   "cell_type": "code",
   "execution_count": 6,
   "id": "7cba844c-b0dc-411d-a4b0-7ed9bd26eb8f",
   "metadata": {
    "tags": []
   },
   "outputs": [
    {
     "name": "stdout",
     "output_type": "stream",
     "text": [
      "elemento diagonale: 2089.7\n",
      "elemento diagonale: 2088.7\n",
      "elemento diagonale: 2087.7\n",
      "elemento diagonale: 2086.7\n",
      "elemento diagonale: 2085.7\n",
      "elemento diagonale: 2084.7\n",
      "elemento diagonale: 2083.7\n",
      "elemento diagonale: 2082.7\n",
      "elemento diagonale: 2081.7\n",
      "elemento diagonale: 2080.7\n",
      "elemento diagonale: 2079.7\n",
      "elemento diagonale: 2078.7\n",
      "elemento diagonale: 2077.7\n",
      "elemento diagonale: 2076.7\n",
      "elemento diagonale: 2075.7\n",
      "elemento diagonale: 2074.7\n",
      "elemento diagonale: 2073.7\n",
      "elemento diagonale: 2072.7\n",
      "elemento diagonale: 2071.7\n",
      "elemento diagonale: 2070.7\n",
      "elemento diagonale: 2069.7000000000003\n",
      "elemento diagonale: 2068.7000000000003\n",
      "elemento diagonale: 2067.7\n",
      "elemento diagonale: 2066.7\n",
      "elemento diagonale: 2065.7\n",
      "elemento diagonale: 2064.7\n",
      "elemento diagonale: 2063.7\n",
      "elemento diagonale: 2062.7\n",
      "elemento diagonale: 2061.7000000000003\n",
      "elemento diagonale: 2060.7\n",
      "elemento diagonale: 2059.7\n",
      "elemento diagonale: 2058.7\n",
      "elemento diagonale: 2057.7\n",
      "elemento diagonale: 2056.7\n",
      "elemento diagonale: 2055.7\n",
      "elemento diagonale: 2054.7000000000003\n",
      "elemento diagonale: 2053.7\n",
      "elemento diagonale: 2052.7\n",
      "elemento diagonale: 2051.7\n",
      "elemento diagonale: 2050.7\n",
      "elemento diagonale: 2049.7\n",
      "elemento diagonale: 2048.7000000000003\n",
      "elemento diagonale: 2047.7000000000003\n",
      "elemento diagonale: 2046.6999999999998\n",
      "elemento diagonale: 2045.6999999999998\n",
      "elemento diagonale: 2044.6999999999998\n",
      "elemento diagonale: 2043.7\n",
      "elemento diagonale: 2042.7\n",
      "elemento diagonale: 2041.7\n",
      "elemento diagonale: 2040.7\n",
      "elemento diagonale: 2040.7\n",
      "elemento diagonale: 2041.7\n",
      "elemento diagonale: 2042.7\n",
      "elemento diagonale: 2043.7\n",
      "elemento diagonale: 2044.7000000000003\n",
      "elemento diagonale: 2045.7000000000003\n",
      "elemento diagonale: 2046.7000000000003\n",
      "elemento diagonale: 2047.6999999999998\n",
      "elemento diagonale: 2048.7\n",
      "elemento diagonale: 2049.7\n",
      "elemento diagonale: 2050.7\n",
      "elemento diagonale: 2051.7\n",
      "elemento diagonale: 2052.7\n",
      "elemento diagonale: 2053.7\n",
      "elemento diagonale: 2054.7000000000003\n",
      "elemento diagonale: 2055.7000000000003\n",
      "elemento diagonale: 2056.7000000000003\n",
      "elemento diagonale: 2057.7000000000003\n",
      "elemento diagonale: 2058.7000000000003\n",
      "elemento diagonale: 2059.7000000000003\n",
      "elemento diagonale: 2060.7\n",
      "elemento diagonale: 2061.7\n",
      "elemento diagonale: 2062.7\n",
      "elemento diagonale: 2063.7\n",
      "elemento diagonale: 2064.7\n",
      "elemento diagonale: 2065.7\n",
      "elemento diagonale: 2066.7\n",
      "elemento diagonale: 2067.7\n",
      "elemento diagonale: 2068.7000000000003\n",
      "elemento diagonale: 2069.7000000000003\n",
      "elemento diagonale: 2070.7000000000003\n",
      "elemento diagonale: 2071.7000000000003\n",
      "elemento diagonale: 2072.7000000000003\n",
      "elemento diagonale: 2073.7\n",
      "elemento diagonale: 2074.7\n",
      "elemento diagonale: 2075.7\n",
      "elemento diagonale: 2076.7\n",
      "elemento diagonale: 2077.7\n",
      "elemento diagonale: 2078.7\n",
      "elemento diagonale: 2079.7\n",
      "elemento diagonale: 2080.7\n",
      "elemento diagonale: 2081.7\n",
      "elemento diagonale: 2082.7000000000003\n",
      "elemento diagonale: 2083.7000000000003\n",
      "elemento diagonale: 2084.7000000000003\n",
      "elemento diagonale: 2085.7\n",
      "elemento diagonale: 2086.7\n",
      "elemento diagonale: 2087.7\n",
      "elemento diagonale: 2088.7\n",
      "elemento diagonale: 2089.7\n",
      "Matrice a diagonale dominante?  True\n"
     ]
    }
   ],
   "source": [
    "dd=verifica_dd(A)\n",
    "print(\"Matrice a diagonale dominante? \",dd)\n",
    " "
   ]
  },
  {
   "cell_type": "code",
   "execution_count": 7,
   "id": "4259e80e-b110-48d9-b64d-97889273a46a",
   "metadata": {
    "tags": []
   },
   "outputs": [],
   "source": [
    "def jacobi(A,b,x0,toll,it_max):\n",
    "    errore=1000\n",
    "    d=np.diag(A)\n",
    "    n=A.shape[0]\n",
    "    invM=np.diag(1/d)\n",
    "    E=np.tril(A,-1)\n",
    "    F=np.triu(A,1)\n",
    "    N=-(E+F)\n",
    "    T=np.dot(invM,N)\n",
    "    autovalori=np.linalg.eigvals(T)\n",
    "    raggiospettrale=np.max(np.abs(autovalori))\n",
    "    print(\"raggio spettrale jacobi\", raggiospettrale)\n",
    "    it=0\n",
    "    #xold=x0.copy()\n",
    "    er_vet=[]\n",
    "    while it<=it_max and errore>=toll:\n",
    "        x=(b+np.dot(N,x0))/d.reshape(n,1)\n",
    "        errore=np.linalg.norm(x-x0)/np.linalg.norm(x)\n",
    "        er_vet.append(errore)\n",
    "        x0=x.copy()\n",
    "        it=it+1\n",
    "    return x,it,er_vet"
   ]
  },
  {
   "cell_type": "code",
   "execution_count": 8,
   "id": "e8dc189a-fcaa-4099-aa4c-ed50e4c01e74",
   "metadata": {
    "tags": []
   },
   "outputs": [],
   "source": [
    "def gauss_seidel(A,b,x0,toll,it_max):\n",
    "    errore=1000\n",
    "    d=np.diag(A)\n",
    "    D=np.diag(d)\n",
    "    E=np.tril(A,-1)\n",
    "    F=np.triu(A,1)\n",
    "    M=D+E\n",
    "    N=-F\n",
    "    T=np.dot(np.linalg.inv(M),N)\n",
    "    autovalori=np.linalg.eigvals(T)\n",
    "    raggiospettrale=np.max(np.abs(autovalori))\n",
    "    print(\"raggio spettrale Gauss-Seidel \",raggiospettrale)\n",
    "    it=0\n",
    "    er_vet=[]\n",
    "    while it<=it_max and errore>=toll:\n",
    "        temp=b-np.dot(F,x0)\n",
    "        x,flag=RS.Lsolve(M,temp)\n",
    "        errore=np.linalg.norm(x-x0)/np.linalg.norm(x)\n",
    "        er_vet.append(errore)\n",
    "        x0=x.copy()\n",
    "        it=it+1\n",
    "    return x,it,er_vet"
   ]
  },
  {
   "cell_type": "code",
   "execution_count": 9,
   "id": "1206e438-bc6e-4d7f-917f-bf4bb0dfa87a",
   "metadata": {
    "tags": []
   },
   "outputs": [],
   "source": [
    "# SOR può essere utilizzato se e solo se la matrice è a diagonale strettamente\n",
    "# dominante. \n",
    "def gauss_seidel_sor(A,b,x0,toll,it_max,omega):\n",
    "    errore=1000\n",
    "    d=np.diag(A)\n",
    "    D=np.diag(d)\n",
    "    Dinv=np.diag(1/d)\n",
    "    E=np.tril(A,-1)\n",
    "    F=np.triu(A,1)\n",
    "    Momega=D+omega*E\n",
    "    Nomega=(1-omega)*D-omega*F\n",
    "    T=np.dot(np.linalg.inv(Momega),Nomega)\n",
    "    autovalori=np.linalg.eigvals(T)\n",
    "    raggiospettrale=np.max(np.abs(autovalori))\n",
    "    print(\"raggio spettrale Gauss-Seidel SOR \", raggiospettrale)\n",
    "    \n",
    "    M=D+E\n",
    "    N=-F\n",
    "    it=0\n",
    "    xold=x0.copy()\n",
    "    xnew=x0.copy()\n",
    "    er_vet=[]\n",
    "    while it<=it_max and errore>=toll:\n",
    "        temp=b-np.dot(F,xold)\n",
    "        xtilde,flag=RS.Lsolve(M,temp)\n",
    "        xnew=(1-omega)*xold+omega*xtilde\n",
    "        errore=np.linalg.norm(xnew-xold)/np.linalg.norm(xnew)\n",
    "        er_vet.append(errore)\n",
    "        xold=xnew.copy()\n",
    "        it=it+1\n",
    "    return xnew,it,er_vet"
   ]
  },
  {
   "cell_type": "code",
   "execution_count": 10,
   "id": "44ce9fca-9394-415f-968e-f1f80e0750e8",
   "metadata": {
    "tags": []
   },
   "outputs": [
    {
     "name": "stdout",
     "output_type": "stream",
     "text": [
      "raggio spettrale jacobi 0.9997193113493907\n",
      "raggio spettrale Gauss-Seidel  0.9994387014848954\n",
      "raggio spettrale Gauss-Seidel SOR  0.998689976147869\n",
      "Iterazioni Jac  36047\n",
      "Iterazioni GS  19259\n",
      "Iterazioni GS-SOR  14183\n"
     ]
    },
    {
     "data": {
      "text/plain": [
       "[<matplotlib.lines.Line2D at 0x1c7018c8f50>,\n",
       " <matplotlib.lines.Line2D at 0x1c71ee85bd0>,\n",
       " <matplotlib.lines.Line2D at 0x1c7221abe90>]"
      ]
     },
     "execution_count": 10,
     "metadata": {},
     "output_type": "execute_result"
    },
    {
     "data": {
      "image/png": "[encoded data removed]",
      "text/plain": [
       "<Figure size 640x480 with 1 Axes>"
      ]
     },
     "metadata": {},
     "output_type": "display_data"
    }
   ],
   "source": [
    "x0=np.zeros(A.shape[0]).reshape(n,1)\n",
    "toll=1e-8\n",
    "it_max=100000\n",
    "omega=1.4  #valore per cui si ha il numero minimo di iterazioni.\n",
    "solJac,itJac,err_vetJac=jacobi(A,b,x0,toll,it_max)\n",
    "solGS,itGS,err_vetGS=gauss_seidel(A,b,x0,toll,it_max)\n",
    "solGSor,itGSor,err_vetGSor=gauss_seidel_sor(A,b,x0,toll,it_max,omega)\n",
    "# In analisi numerica il raggio spettrale viene utilizzato per determinare \n",
    "# se un metodo iterativo è convergente verso la soluzione di un problema. \n",
    "# È dimostrato infatti che un metodo iterativo per la risoluzione di un sistema \n",
    "# lineare (come il metodo di Jacobi o quello di Gauss-Seidel) converge alla \n",
    "# soluzione del sistema se e solo se il raggio spettrale della matrice di \n",
    "# iterazione è strettamente minore di 1.\n",
    "print(\"Iterazioni Jac \",itJac)\n",
    "print(\"Iterazioni GS \",itGS)\n",
    "print(\"Iterazioni GS-SOR \",itGSor)\n",
    "\n",
    "plt.semilogy(np.arange(itJac),err_vetJac, 'r-', np.arange(itGS),err_vetGS, 'b', np.arange(itGSor),err_vetGSor, 'y')"
   ]
  },
  {
   "attachments": {},
   "cell_type": "markdown",
   "id": "c7b8f816-f348-44d4-b6f1-239c4ccf84a0",
   "metadata": {},
   "source": [
    "## Esercizio 2 \n",
    "Si consideri il sistema lineare Ax=b, con A matrice e b termine noto memorizzati nel file ``testF.mat``.Risolvere il sistema utilizzando il metodo più adatto. Commentare i risultati ottenuti  giustificandoli alla luce della teoria. \n",
    "\n",
    "Per la lettura dei dati procedere nel seguente modo:\n",
    "\n",
    "``from scipy.io import loadmat``\n",
    "\n",
    "``import numpy as np``\n",
    "\n",
    "``dati = loadmat('testF.mat')``\n",
    "\n",
    "``A=dati[\"A\"] ``\n",
    "\n",
    "`` b=dati[\"b\"] ``"
   ]
  },
  {
   "cell_type": "code",
   "execution_count": 11,
   "id": "a99ccb2f-ed99-42ca-9ec8-c3a599abeaac",
   "metadata": {
    "tags": []
   },
   "outputs": [
    {
     "ename": "FileNotFoundError",
     "evalue": "[Errno 2] No such file or directory: 'testF.mat'",
     "output_type": "error",
     "traceback": [
      "\u001b[1;31m---------------------------------------------------------------------------\u001b[0m",
      "\u001b[1;31mFileNotFoundError\u001b[0m                         Traceback (most recent call last)",
      "File \u001b[1;32mc:\\Users\\andre\\AppData\\Local\\Programs\\Python\\Python311\\Lib\\site-packages\\scipy\\io\\matlab\\_mio.py:39\u001b[0m, in \u001b[0;36m_open_file\u001b[1;34m(file_like, appendmat, mode)\u001b[0m\n\u001b[0;32m     38\u001b[0m \u001b[39mtry\u001b[39;00m:\n\u001b[1;32m---> 39\u001b[0m     \u001b[39mreturn\u001b[39;00m \u001b[39mopen\u001b[39;49m(file_like, mode), \u001b[39mTrue\u001b[39;00m\n\u001b[0;32m     40\u001b[0m \u001b[39mexcept\u001b[39;00m \u001b[39mOSError\u001b[39;00m \u001b[39mas\u001b[39;00m e:\n\u001b[0;32m     41\u001b[0m     \u001b[39m# Probably \"not found\"\u001b[39;00m\n",
      "\u001b[1;31mFileNotFoundError\u001b[0m: [Errno 2] No such file or directory: 'testF.mat'",
      "\nDuring handling of the above exception, another exception occurred:\n",
      "\u001b[1;31mFileNotFoundError\u001b[0m                         Traceback (most recent call last)",
      "Cell \u001b[1;32mIn[11], line 2\u001b[0m\n\u001b[0;32m      1\u001b[0m \u001b[39mimport\u001b[39;00m \u001b[39mscipy\u001b[39;00m\u001b[39m.\u001b[39;00m\u001b[39mlinalg\u001b[39;00m \u001b[39mas\u001b[39;00m \u001b[39mspLin\u001b[39;00m\n\u001b[1;32m----> 2\u001b[0m dati \u001b[39m=\u001b[39m loadmat(\u001b[39m'\u001b[39;49m\u001b[39mtestF.mat\u001b[39;49m\u001b[39m'\u001b[39;49m)\n\u001b[0;32m      3\u001b[0m A1\u001b[39m=\u001b[39mdati[\u001b[39m\"\u001b[39m\u001b[39mA\u001b[39m\u001b[39m\"\u001b[39m] \n\u001b[0;32m      4\u001b[0m b1\u001b[39m=\u001b[39mdati[\u001b[39m\"\u001b[39m\u001b[39mb\u001b[39m\u001b[39m\"\u001b[39m]\n",
      "File \u001b[1;32mc:\\Users\\andre\\AppData\\Local\\Programs\\Python\\Python311\\Lib\\site-packages\\scipy\\io\\matlab\\_mio.py:225\u001b[0m, in \u001b[0;36mloadmat\u001b[1;34m(file_name, mdict, appendmat, **kwargs)\u001b[0m\n\u001b[0;32m     88\u001b[0m \u001b[39m\u001b[39m\u001b[39m\"\"\"\u001b[39;00m\n\u001b[0;32m     89\u001b[0m \u001b[39mLoad MATLAB file.\u001b[39;00m\n\u001b[0;32m     90\u001b[0m \n\u001b[1;32m   (...)\u001b[0m\n\u001b[0;32m    222\u001b[0m \u001b[39m    3.14159265+3.14159265j])\u001b[39;00m\n\u001b[0;32m    223\u001b[0m \u001b[39m\"\"\"\u001b[39;00m\n\u001b[0;32m    224\u001b[0m variable_names \u001b[39m=\u001b[39m kwargs\u001b[39m.\u001b[39mpop(\u001b[39m'\u001b[39m\u001b[39mvariable_names\u001b[39m\u001b[39m'\u001b[39m, \u001b[39mNone\u001b[39;00m)\n\u001b[1;32m--> 225\u001b[0m \u001b[39mwith\u001b[39;49;00m _open_file_context(file_name, appendmat) \u001b[39mas\u001b[39;49;00m f:\n\u001b[0;32m    226\u001b[0m     MR, _ \u001b[39m=\u001b[39;49m mat_reader_factory(f, \u001b[39m*\u001b[39;49m\u001b[39m*\u001b[39;49mkwargs)\n\u001b[0;32m    227\u001b[0m     matfile_dict \u001b[39m=\u001b[39;49m MR\u001b[39m.\u001b[39;49mget_variables(variable_names)\n",
      "File \u001b[1;32mc:\\Users\\andre\\AppData\\Local\\Programs\\Python\\Python311\\Lib\\contextlib.py:137\u001b[0m, in \u001b[0;36m_GeneratorContextManager.__enter__\u001b[1;34m(self)\u001b[0m\n\u001b[0;32m    135\u001b[0m \u001b[39mdel\u001b[39;00m \u001b[39mself\u001b[39m\u001b[39m.\u001b[39margs, \u001b[39mself\u001b[39m\u001b[39m.\u001b[39mkwds, \u001b[39mself\u001b[39m\u001b[39m.\u001b[39mfunc\n\u001b[0;32m    136\u001b[0m \u001b[39mtry\u001b[39;00m:\n\u001b[1;32m--> 137\u001b[0m     \u001b[39mreturn\u001b[39;00m \u001b[39mnext\u001b[39m(\u001b[39mself\u001b[39m\u001b[39m.\u001b[39mgen)\n\u001b[0;32m    138\u001b[0m \u001b[39mexcept\u001b[39;00m \u001b[39mStopIteration\u001b[39;00m:\n\u001b[0;32m    139\u001b[0m     \u001b[39mraise\u001b[39;00m \u001b[39mRuntimeError\u001b[39;00m(\u001b[39m\"\u001b[39m\u001b[39mgenerator didn\u001b[39m\u001b[39m'\u001b[39m\u001b[39mt yield\u001b[39m\u001b[39m\"\u001b[39m) \u001b[39mfrom\u001b[39;00m \u001b[39mNone\u001b[39m\n",
      "File \u001b[1;32mc:\\Users\\andre\\AppData\\Local\\Programs\\Python\\Python311\\Lib\\site-packages\\scipy\\io\\matlab\\_mio.py:17\u001b[0m, in \u001b[0;36m_open_file_context\u001b[1;34m(file_like, appendmat, mode)\u001b[0m\n\u001b[0;32m     15\u001b[0m \u001b[39m@contextmanager\u001b[39m\n\u001b[0;32m     16\u001b[0m \u001b[39mdef\u001b[39;00m \u001b[39m_open_file_context\u001b[39m(file_like, appendmat, mode\u001b[39m=\u001b[39m\u001b[39m'\u001b[39m\u001b[39mrb\u001b[39m\u001b[39m'\u001b[39m):\n\u001b[1;32m---> 17\u001b[0m     f, opened \u001b[39m=\u001b[39m _open_file(file_like, appendmat, mode)\n\u001b[0;32m     18\u001b[0m     \u001b[39mtry\u001b[39;00m:\n\u001b[0;32m     19\u001b[0m         \u001b[39myield\u001b[39;00m f\n",
      "File \u001b[1;32mc:\\Users\\andre\\AppData\\Local\\Programs\\Python\\Python311\\Lib\\site-packages\\scipy\\io\\matlab\\_mio.py:45\u001b[0m, in \u001b[0;36m_open_file\u001b[1;34m(file_like, appendmat, mode)\u001b[0m\n\u001b[0;32m     43\u001b[0m     \u001b[39mif\u001b[39;00m appendmat \u001b[39mand\u001b[39;00m \u001b[39mnot\u001b[39;00m file_like\u001b[39m.\u001b[39mendswith(\u001b[39m'\u001b[39m\u001b[39m.mat\u001b[39m\u001b[39m'\u001b[39m):\n\u001b[0;32m     44\u001b[0m         file_like \u001b[39m+\u001b[39m\u001b[39m=\u001b[39m \u001b[39m'\u001b[39m\u001b[39m.mat\u001b[39m\u001b[39m'\u001b[39m\n\u001b[1;32m---> 45\u001b[0m     \u001b[39mreturn\u001b[39;00m \u001b[39mopen\u001b[39;49m(file_like, mode), \u001b[39mTrue\u001b[39;00m\n\u001b[0;32m     46\u001b[0m \u001b[39melse\u001b[39;00m:\n\u001b[0;32m     47\u001b[0m     \u001b[39mraise\u001b[39;00m \u001b[39mOSError\u001b[39;00m(\n\u001b[0;32m     48\u001b[0m         \u001b[39m'\u001b[39m\u001b[39mReader needs file name or open file-like object\u001b[39m\u001b[39m'\u001b[39m\n\u001b[0;32m     49\u001b[0m     ) \u001b[39mfrom\u001b[39;00m \u001b[39me\u001b[39;00m\n",
      "\u001b[1;31mFileNotFoundError\u001b[0m: [Errno 2] No such file or directory: 'testF.mat'"
     ]
    }
   ],
   "source": [
    "import scipy.linalg as spLin\n",
    "dati = loadmat('testF.mat')\n",
    "A1=dati[\"A\"] \n",
    "b1=dati[\"b\"]"
   ]
  },
  {
   "cell_type": "code",
   "execution_count": null,
   "id": "38c1293f-0950-4ac2-b21d-486413ca5b91",
   "metadata": {
    "tags": []
   },
   "outputs": [],
   "source": [
    "m1,n1=A1.shape\n",
    "print(\"Dimensione di A\",m1,n1)"
   ]
  },
  {
   "attachments": {},
   "cell_type": "markdown",
   "id": "2a97570b-7055-4aad-adf9-707529e6322f",
   "metadata": {},
   "source": [
    "Si tratta di un sistema sovraderminato. Verifico se la matrice è a Rango massimo facendo uso della SVD e contando il numero di valori singolari diversi da zero."
   ]
  },
  {
   "cell_type": "code",
   "execution_count": null,
   "id": "d613af54-3465-422e-ad25-71dd37bd8f22",
   "metadata": {
    "tags": []
   },
   "outputs": [],
   "source": [
    " U,s,VT=spLin.svd(A1)  #Attenzione : Restituisce U, Sigma e VT=VTrasposta)\n",
    " thresh= np.spacing(1)*m*s[0] #m=max(m,n)\n",
    " k=np.count_nonzero(s>thresh) #Calcolo del rango della matrice, numero dei valori singolari diversi maggiori della soglia\n",
    " print(\"rango=\",k)\n",
    " if k<n1 :\n",
    "    print(\"La matrice non ha rango massimo\")\n",
    " else:\n",
    "    print(\"La matrice ha rango massimo\")\n"
   ]
  },
  {
   "attachments": {},
   "cell_type": "markdown",
   "id": "3951111d-51b7-48c5-b629-ffa2bc492000",
   "metadata": {},
   "source": [
    "La matrice non è a rango massimo. Utilizzo il metodo SVD per risolvere il sistema sovradeterminato."
   ]
  },
  {
   "cell_type": "code",
   "execution_count": null,
   "id": "3aef606e-65e4-46af-95ec-9e66beeb736e",
   "metadata": {
    "tags": []
   },
   "outputs": [],
   "source": [
    "def SVDLS(A,b):\n",
    "    n=A.shape[1]  # numero di colonne di A\n",
    "    U,s,VT=spLin.svd(A)  #Attenzione : Restituisce U, Sigma e VT=VTrasposta)\n",
    "    V=VT.T\n",
    "     \n",
    "    thresh=np.spacing(1)*m*s[0] \n",
    "    ##Calcolo del rango della matrice, numero dei valori singolari maggiori di una soglia\n",
    "    k=np.count_nonzero(s>thresh)\n",
    "    print(\"rango=\",k)\n",
    "    if k<n:\n",
    "        print(\"La matrice non è a rango massimo\")\n",
    "    else:\n",
    "        print(\"La matrice è a rango massimo\")\n",
    "    d=U.T@b\n",
    "    d1=d[:k].reshape(k,1)\n",
    "    s1=s[:k].reshape(k,1)\n",
    "    #Risolve il sistema diagonale di dimensione kxk avene come matrice dei coefficienti la matrice Sigma\n",
    "    c=d1/s1\n",
    "    x=V[:,:k]@c \n",
    "    residuo=np.linalg.norm(d[k:])**2\n",
    "    return x,residuo\n",
    "     "
   ]
  },
  {
   "cell_type": "code",
   "execution_count": null,
   "id": "be8c1a5a-26cd-429c-ac78-f6cdb701427e",
   "metadata": {
    "tags": []
   },
   "outputs": [],
   "source": [
    "x,residuo=SVDLS(A1,b1)\n",
    "print(\"Soluzione nel senso dei minimi quadrati\\n  \", x)\n",
    "print(\"residuo \",residuo)\n",
    "print(\"Norma soluzione \", np.linalg.norm(x))"
   ]
  },
  {
   "cell_type": "code",
   "execution_count": null,
   "id": "561ad0b8-4cbc-4ca0-8b78-2bb77fefbad9",
   "metadata": {},
   "outputs": [],
   "source": [
    "def qrLS(A,b):\n",
    "    n=A.shape[1]  # numero di colonne di A\n",
    "    Q,R=spLin.qr(A)\n",
    "    h=Q.T@b\n",
    "    x,flag=RS.Usolve(R[0:n,:],h[0:n])\n",
    "    residuo=np.linalg.norm(h[n:])**2\n",
    "    return x,residuo"
   ]
  },
  {
   "cell_type": "code",
   "execution_count": null,
   "id": "4e6ce1f1-fadf-4cba-b45e-7eb95cb66c20",
   "metadata": {},
   "outputs": [],
   "source": [
    "def eqnorm(A,b):\n",
    " \n",
    "    G=A.T@A\n",
    "     \n",
    "    print(\"Indice di condizionamento di G \",np.linalg.cond(G))\n",
    "    f=A.T@b\n",
    "    L=spLin.cholesky(G,lower=True)\n",
    "   \n",
    "    y,flag=RS.Lsolve(L,f)\n",
    "    if flag==0:\n",
    "        x,flag=RS.Usolve(L.T,y)\n",
    "    \n",
    "    \n",
    "    return x"
   ]
  },
  {
   "attachments": {},
   "cell_type": "markdown",
   "id": "5d267660-f6e6-42aa-a6f1-86203047668e",
   "metadata": {},
   "source": [
    "## Esercizio 3"
   ]
  },
  {
   "attachments": {},
   "cell_type": "markdown",
   "id": "3429a399-3b2b-4f5d-9e5c-0d407fd88fbc",
   "metadata": {},
   "source": [
    "Caricare dal  file  Approx_C.mat  le coppie di dati sperimentali (x(i),y(i)),i=1,M) e visto il trend dei dati, scegliere opportunamente  il grado del polinomio con cui approssimare  i dati. Costruirlo con un metodo di approssimazione nel senso dei minimi quadrati a scelta tra quello più opportuno alla luce della teoria, calcolare la norma 2 al quadrato del residuo e visualizzare  il grafico.\n"
   ]
  },
  {
   "cell_type": "code",
   "execution_count": null,
   "id": "c302a772-c637-4ff5-a248-f72ee28d16f3",
   "metadata": {},
   "outputs": [],
   "source": [
    "import scipy.linalg as spLin\n",
    "dati = loadmat('Approx_C.mat')\n",
    "\n",
    "x=dati[\"x\"]\n",
    "y=dati[\"y\"]\n",
    "m=x.shape[0]\n",
    "x=x.reshape(m,)\n",
    "y=y.reshape(m,)\n",
    "plt.plot(x,y,'ro')\n",
    " \n",
    "#Visualizzando il trend dei dati osservo che hanno un andamento di un polinomio cubico\n",
    "n=3\n",
    "n1=n+1\n",
    "A3=np.vander(x,increasing=True)[:,:n1]\n",
    "print('Rango ' , np.linalg.matrix_rank(A3),'Condizionamento ',np.linalg.cond(A3))\n",
    "#La matrice A è a rango massimo e mediamente mal condizionata,\n",
    "#la matrice A^T A, avraà indice di condizionamento il quadrato dell'indice di condizionamento\n",
    "#di A, per cui uso il metodo QR\n",
    "alphaqr,res =qrLS(A3,y )\n",
    "print(\"residuo \",res)\n",
    "xx=np.linspace(np.min(x),np.max(x),200)\n",
    "polQR=np.polyval(np.flip(alphaqr),xx)\n",
    "plt.plot(xx,polQR)\n"
   ]
  },
  {
   "attachments": {},
   "cell_type": "markdown",
   "id": "b9ccdc82-a14a-47fc-8c16-39ce4bc64beb",
   "metadata": {},
   "source": [
    "## Esercizio 4\n"
   ]
  },
  {
   "attachments": {},
   "cell_type": "markdown",
   "id": "02ba2e95-b170-40b6-961c-a51445f3314a",
   "metadata": {},
   "source": [
    "Siano assegnati i punti del piano di coordinate $(x_i, y_i)$, $i=1,\\ldots,4$ con \n",
    "$$\n",
    "\\begin{array}{c}\n",
    "x_1=0, \\quad x_2=4, \\quad x_3=0, \\quad x_4=5\\\\\n",
    "y_1=0, \\quad y_2=0, \\quad y_3=4, \\quad y_4=6.\n",
    "\\end{array}\n",
    "$$ \n"
   ]
  },
  {
   "attachments": {},
   "cell_type": "markdown",
   "id": "2e482dde-6239-4a0b-82e5-4fed687c987f",
   "metadata": {},
   "source": [
    " si costruisca il sistema lineare sovradeterminato ottenuto imponendo il passaggio della circonferenza di equazione $x^2+y^2+a_1x+a_2y+a_3=0$ per i quattro punti assegnati, e si denotino con ${\\bf A}$ e ${\\bf b}$ la matrice dei coefficienti e il termine noto ottenuti;"
   ]
  },
  {
   "attachments": {},
   "cell_type": "markdown",
   "id": "9990b89e-5c4f-40e2-862c-12a7ab46178a",
   "metadata": {},
   "source": [
    "si sfrutti il metodo  più opportuno per ottenere la soluzione ${\\bf a}^*$ del problema ai minimi quadrati $\\min_{{\\bf a} \\in \\mathbb{R}^3} \\|{\\bf A}{\\bf a}-{\\bf b}\\|_2^2$;"
   ]
  },
  {
   "attachments": {},
   "cell_type": "markdown",
   "id": "1965ff3d-7b7b-4513-90c0-4a6bb1531191",
   "metadata": {},
   "source": [
    "si calcoli il valore di $\\|{\\bf A}{\\bf a}^*-{\\bf b}\\|_2^2$ e, dopo averne determinato centro e raggio, si rappresentino in una stessa figura la circonferenza di equazione $x^2+y^2+a^*_1x+a^*_2y+a^*_3=0$ (individuata dalla soluzione ${\\bf a}^*$ del problema ai minimi quadrati) e i quattro punti assegnati dal problema."
   ]
  },
  {
   "attachments": {},
   "cell_type": "markdown",
   "id": "848567a4-847f-4fe8-9e21-340e9e989f56",
   "metadata": {},
   "source": [
    "Si ricorda che data una circonferenza nella forma canonica\n",
    "$$ x^2+y^2+a_1 x+a_2 x+a_3=0$$\n",
    "\n",
    "le coordinate del suo centro sono \n",
    "$$C≡(-a_1/2,-a_2/2)$$\n",
    "\n",
    "e la lunghezza del suo raggio è data da:\n",
    "\n",
    "$$r=\\sqrt{\\frac{a_1^2}{4}+\\frac{a_2^2}{4} -a_3}$$\n",
    "\n",
    "e la circoferenza può essere rappresentata in forma parametrica $C(t),  t \\in [0, 2 \\cdot \\pi]$ e le due componenti parametriche sono $$x(t)= C_0+r\\cdot cos(t);$$ $$ y(t)= C_1+r\\cdot sin(t)$$"
   ]
  },
  {
   "cell_type": "code",
   "execution_count": null,
   "id": "2d46e01e-da81-42e9-b6de-7303e26cdcaa",
   "metadata": {},
   "outputs": [],
   "source": [
    "import math\n",
    "px=np.array([0,4,0,5])\n",
    "py=np.array([0,0,4,6])\n",
    "#Costruisco il sistema lineare sovradeterminato come richiesto\n",
    "A=np.array([[0,0,1],[4,0,1],[0,4,1],[5,6,1]])\n",
    "b=np.array([[0],[-16],[-16],[-61]])\n",
    " \n",
    "a,err=SVDLS(A,b)\n",
    "print(\"Norma 2 al quadrato dell'errore \",err)\n",
    "#Calcolo il centro\n",
    "cx=-a[0]/2\n",
    "cy=-a[1]/2\n",
    "#Calcolo il raggio con la formula data\n",
    "r1=math.sqrt((a[0]**2)/4+(a[1]**2)/4-a[2])\n",
    "t=np.linspace(0,2*math.pi,100)\n",
    "#Costruisco le due componenti parametriche della circonferemza\n",
    "x=cx+r1*np.cos(t)\n",
    "y=cy+r1*np.sin(t)\n",
    "plt.plot(x,y,'r-')\n",
    "plt.plot(px,py,'go')\n",
    "plt.axis('equal')"
   ]
  },
  {
   "attachments": {},
   "cell_type": "markdown",
   "id": "a3eb3ad1-0158-4ffc-9a28-aee767bf4bae",
   "metadata": {},
   "source": [
    "## Esercizio 5\n",
    "\n",
    "Per i dati $(x_i, y_i)$ riportati nei seguenti array\n",
    "\n",
    "x = np.array([0.0004, 0.2507, 0.5008, 2.0007, 8.0013]) \n",
    "\n",
    "y = np.array([0.0007,0.0162, 0.0288, 0.0309, 0.0310])\n",
    "\n",
    "- costruire la retta di regressione;\n",
    "- costruire la parabola approssimante i dati nel senso dei minimi quadrati;\n",
    "- determinare l'approssimazione ai minimi quadrati espressa in termini di\n",
    "basi esponenziali: $y = a + b e^{-x}+ c e^{-2x}$"
   ]
  },
  {
   "attachments": {},
   "cell_type": "markdown",
   "id": "a6336f90-c694-4222-8286-9702558ff2e7",
   "metadata": {},
   "source": [
    "Quale tra le tre approssimazioni risulta la migliore? (Confrontare i gra\f\n",
    "ci e la norma euclidea al quadrato del vettore dei residui)."
   ]
  },
  {
   "cell_type": "code",
   "execution_count": null,
   "id": "e78050ca-d8fb-4ff3-9889-7089722d8a7b",
   "metadata": {},
   "outputs": [],
   "source": [
    "m=5\n",
    "x4 = np.array([0.0004, 0.2507, 0.5008, 2.0007, 8.0013]) \n",
    "y4 = np.array([0.0007,0.0162, 0.0288, 0.0309, 0.0310]) \n",
    "M=np.zeros((5,3))\n",
    "M[:,0]=np.ones((5,))\n",
    "M[:,1]=np.exp(-x4)\n",
    "M[:,2]=np.exp(-2*x4)"
   ]
  },
  {
   "cell_type": "code",
   "execution_count": null,
   "id": "f918e64a-4152-4dd4-bb89-197ebcd0c91f",
   "metadata": {},
   "outputs": [],
   "source": [
    "print('Rango di ---->' , np.linalg.matrix_rank(M))\n",
    "print(\"Con Condizionamento M --> \",np.linalg.cond(M))\n",
    "#La matrice M è a rango massimo, ha condizionamento 18.45, quindi la marice G delle equazioni\n",
    "#normali (di dimensioni 4x4) avrebbe indice\n",
    "#di condizionamento circa 343. Utilizzo il metodo \n",
    "aexp,resexp=qrLS(M,y4)\n"
   ]
  },
  {
   "cell_type": "code",
   "execution_count": null,
   "id": "2a985892-adfa-4e2f-a91f-423dfd734959",
   "metadata": {},
   "outputs": [],
   "source": [
    "xx=np.linspace(np.min(x4),np.max(x4),200)\n",
    "polexp=aexp[0]+aexp[1]*np.exp(-xx)+aexp[2]*np.exp(-2*xx)\n",
    "\n",
    "# Calcolo del polinomio approssimante di grado 1\n",
    "n=1\n",
    "n1=n+1\n",
    "A1=np.vander(x4,increasing=True)[:,:n1]\n",
    "print('Rango di A1 --->',np.linalg.matrix_rank(A1))\n",
    "print(\"Condizionamento di A1---> \",np.linalg.cond(A1))\n",
    "#Matrice a rango massimo e ben condizionata: uso le equazioni normali\n",
    "alpha1=eqnorm(A1,y4)\n",
    "pol1=np.polyval(np.flip(alpha1),xx)\n",
    "\n",
    "#Parabola approssimante\n",
    "n=2\n",
    "n1=n+1\n",
    "A2=np.vander(x4,increasing=True)[:,:n1]\n",
    "print('Rango di A2',np.linalg.matrix_rank(A2))\n",
    "print(\"Condizionamento di A2 \",np.linalg.cond(A2))\n",
    "#Matrice a rango massimo e mediamente mal condizionata: uso qr\n",
    "alpha2,res2=qrLS(A2,y4)\n",
    "pol2=np.polyval(np.flip(alpha2),xx)\n",
    "print(\"quadrato residuo exp\",resexp)\n",
    "print(\"quadrato residuo pol grado 2 \",res2)\n",
    "\n",
    "plt.plot(x4,y4,'ro',xx,polexp,'b--',xx,pol1,'g:',xx,pol2,'m-')\n",
    "plt.legend(['Osservazioni','Esponenziale','Polinomio grado 1','Polinomio grado 2'])"
   ]
  },
  {
   "cell_type": "code",
   "execution_count": null,
   "id": "9de38802-2e3e-45ef-bebd-97d142d6dc1c",
   "metadata": {},
   "outputs": [],
   "source": []
  },
  {
   "cell_type": "code",
   "execution_count": null,
   "id": "96759335-0276-4fda-941d-58340852604e",
   "metadata": {},
   "outputs": [],
   "source": []
  },
  {
   "cell_type": "code",
   "execution_count": null,
   "id": "862eee55-c4d1-4926-aa36-fa43f04a0163",
   "metadata": {},
   "outputs": [],
   "source": []
  }
 ],
 "metadata": {
  "kernelspec": {
   "display_name": "Python 3 (ipykernel)",
   "language": "python",
   "name": "python3"
  },
  "language_info": {
   "codemirror_mode": {
    "name": "ipython",
    "version": 3
   },
   "file_extension": ".py",
   "mimetype": "text/x-python",
   "name": "python",
   "nbconvert_exporter": "python",
   "pygments_lexer": "ipython3",
   "version": "3.11.2"
  }
 },
 "nbformat": 4,
 "nbformat_minor": 5
}
