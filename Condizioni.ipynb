{
 "cells": [
  {
   "cell_type": "code",
   "execution_count": null,
   "id": "4fb9c8bd-7f4e-4c62-a740-f261d308927b",
   "metadata": {
    "tags": []
   },
   "outputs": [],
   "source": [
    "# Import dati dalla prof\n",
    "from scipy.io import loadmat\n",
    "import numpy as np\n",
    "import scipy.linalg as spl\n",
    "import RisolviSis as RS\n",
    "import matplotlib.pyplot as plt\n",
    "dati = loadmat('testE.mat')\n",
    "A=dati[\"A\"] \n",
    "b=dati[\"b\"]\n"
   ]
  },
  {
   "attachments": {},
   "cell_type": "markdown",
   "id": "0e50f690",
   "metadata": {},
   "source": [
    "# m = n ?"
   ]
  },
  {
   "cell_type": "code",
   "execution_count": null,
   "id": "9be49fd6-241e-47a7-8d2f-a5bee30bcdfa",
   "metadata": {
    "tags": []
   },
   "outputs": [],
   "source": [
    "# Innanzittutto devo verificare se il sistema è sovradeterminato o meno\n",
    "# m =/= n il sistema è sovradeterminato.\n",
    "# Inoltre in base ai valori sulle dimensioni posso anche capire quanto sia\n",
    "# grande o meno la matrice e decidere meglio quale algortimo applicare.\n",
    "n, m = A.shape\n",
    "print(\"Dimensione di A:\", n, m)\n"
   ]
  },
  {
   "attachments": {},
   "cell_type": "markdown",
   "id": "3708391e",
   "metadata": {},
   "source": [
    "# Densa o Sparsa ?\n",
    "Questo lo faccio solo se m = n."
   ]
  },
  {
   "cell_type": "code",
   "execution_count": null,
   "id": "b0b9bc39",
   "metadata": {},
   "outputs": [],
   "source": [
    "# Se ho una matrice quadrata controllo se questa sia densa o sparsa:\n",
    "# se più del 33% degli elementi è diverso da 0 allora la matrice è densa.\n",
    "n_zeri = np.count_nonzero(A) / (n * m)\n",
    "perc_n_zeri = n_zeri * 100\n",
    "print(\"Percentuale elementi diversi da zero:\", perc_n_zeri,\"%\")\n"
   ]
  },
  {
   "attachments": {},
   "cell_type": "markdown",
   "id": "8a425854",
   "metadata": {},
   "source": [
    "# Simmetrica ?\n",
    "Solo se la matrice è grande e sparsa: in questo caso usi i metodi iterativi."
   ]
  },
  {
   "cell_type": "code",
   "execution_count": null,
   "id": "9f62254c-8820-466c-9dcf-7db0938930f1",
   "metadata": {
    "tags": []
   },
   "outputs": [],
   "source": [
    "# Se ho una matrice quadrata e grande e sparsa, verifico ora che la matrice sia \n",
    "# simmetrica oppure no: in base a questa valutazione capisco quale metodo \n",
    "# utilizzare.\n",
    "# Se la matrice è uguale alla trasposta allora questa sarà definita positiva.\n",
    "flag = (A == A.T)\n",
    "if (np.all(flag) == False):\n",
    "    print(\"La matrice non è simmetrica\")\n",
    "else:\n",
    "    print(\"La matrice è simmetrica e definita positiva\")\n"
   ]
  },
  {
   "attachments": {},
   "cell_type": "markdown",
   "id": "5d2f1915",
   "metadata": {},
   "source": [
    "# Simmetrica == True?\n",
    "GS SOR, Gradiente, Gradiente coniugato."
   ]
  },
  {
   "attachments": {},
   "cell_type": "markdown",
   "id": "4adae9cf",
   "metadata": {},
   "source": [
    "# Simmetrica == False?\n",
    "Controllo se la diagonale è dominante.\n",
    "\n",
    "# Diagonale dominante?\n",
    "Jacobi, Gauss-Siedel, GS SOR."
   ]
  },
  {
   "cell_type": "code",
   "execution_count": null,
   "id": "5c2761d0",
   "metadata": {},
   "outputs": [],
   "source": [
    "# A questo punto passo ad analizzare la diagonale della matrice: da questo \n",
    "# capisco se la diagonale è dominante o meno e se lo è anche in modo stretto.\n",
    "# A e' a diagonale dominante se il valore assoluto dell'elemento sulla diagonale \n",
    "# e' >= della somma in valore in valore assoluto di tutti i valori sulla\n",
    "# rispettiva riga.\n",
    "def check_diagonale(A):\n",
    "    n = A.shape[0]\n",
    "    flag = True\n",
    "    for i in range(n):\n",
    "       diag_elem = np.abs(A[i, i])\n",
    "       print(\"elemento diagonale:\", diag_elem)\n",
    "       # per tutte le righe: elementi in riga sommati - elemento diagonale.\n",
    "       row_sum = np.sum(np.abs(A[i, :])) - np.abs(A[i, i])\n",
    "       if diag_elem < row_sum:\n",
    "            print(\"Matrice non a diagonale dominante\")\n",
    "            flag = False\n",
    "            return flag\n",
    "    \n",
    "    # Se e' a diagonale dominante hai: Jacobi, Gauss-Siedel e GS SOR\n",
    "    return flag\n",
    "\n",
    "diag = check_diagonale(A)\n",
    "print(\"Matrice a diagonale dominante? \", diag)"
   ]
  },
  {
   "attachments": {},
   "cell_type": "markdown",
   "id": "f506c49d",
   "metadata": {},
   "source": [
    "# Piccola e Densa ?\n",
    "Ti affidi ai metodi di fattorizzazione:\n",
    "- QR: sempre possibile.\n",
    "- LU: determinante di A diverso da 0.\n",
    "- Cholesky: esiste per matrici simmetriche e definite positive."
   ]
  },
  {
   "cell_type": "code",
   "execution_count": null,
   "id": "9e7cebd4",
   "metadata": {},
   "outputs": [],
   "source": [
    "# Vedo se il determinante di A è diverso da 0\n",
    "rank = np.linalg.matrix_rank(A)\n",
    "if(A.shape[0] == rank):\n",
    "    print(\"Rango massimo e il determinante è diverso da 0.\")\n",
    "else:\n",
    "    print(\"Rango non massimo e il determinante è nullo.\")\n"
   ]
  },
  {
   "attachments": {},
   "cell_type": "markdown",
   "id": "227c9a63",
   "metadata": {},
   "source": [
    "# Simmetria ?"
   ]
  },
  {
   "cell_type": "code",
   "execution_count": null,
   "id": "bc63d59b",
   "metadata": {},
   "outputs": [],
   "source": [
    "# Se la matrice è uguale alla trasposta allora questa sarà definita positiva.\n",
    "flag = (A == A.T)\n",
    "if (np.all(flag) == False):\n",
    "    print(\"La matrice non è simmetrica\")\n",
    "else:\n",
    "    print(\"La matrice è simmetrica e definita positiva\")\n"
   ]
  },
  {
   "attachments": {},
   "cell_type": "markdown",
   "id": "c7b8f816-f348-44d4-b6f1-239c4ccf84a0",
   "metadata": {},
   "source": [
    "## Esercizio 2 \n",
    "Si consideri il sistema lineare Ax=b, con A matrice e b termine noto memorizzati nel file ``testF.mat``.Risolvere il sistema utilizzando il metodo più adatto. Commentare i risultati ottenuti  giustificandoli alla luce della teoria. \n",
    "\n",
    "Per la lettura dei dati procedere nel seguente modo:\n",
    "\n",
    "``from scipy.io import loadmat``\n",
    "\n",
    "``import numpy as np``\n",
    "\n",
    "``dati = loadmat('testF.mat')``\n",
    "\n",
    "``A=dati[\"A\"] ``\n",
    "\n",
    "`` b=dati[\"b\"] ``"
   ]
  },
  {
   "cell_type": "code",
   "execution_count": null,
   "id": "a99ccb2f-ed99-42ca-9ec8-c3a599abeaac",
   "metadata": {
    "tags": []
   },
   "outputs": [],
   "source": [
    "import scipy.linalg as spLin\n",
    "dati = loadmat('testF.mat')\n",
    "A1=dati[\"A\"] \n",
    "b1=dati[\"b\"]"
   ]
  },
  {
   "cell_type": "code",
   "execution_count": null,
   "id": "38c1293f-0950-4ac2-b21d-486413ca5b91",
   "metadata": {
    "tags": []
   },
   "outputs": [],
   "source": [
    "m1,n1=A1.shape\n",
    "print(\"Dimensione di A\",m1,n1)"
   ]
  },
  {
   "attachments": {},
   "cell_type": "markdown",
   "id": "2a97570b-7055-4aad-adf9-707529e6322f",
   "metadata": {},
   "source": [
    "Si tratta di un sistema sovraderminato. Verifico se la matrice è a Rango massimo facendo uso della SVD e contando il numero di valori singolari diversi da zero."
   ]
  },
  {
   "cell_type": "code",
   "execution_count": null,
   "id": "d613af54-3465-422e-ad25-71dd37bd8f22",
   "metadata": {
    "tags": []
   },
   "outputs": [],
   "source": [
    " U,s,VT=spLin.svd(A1)  #Attenzione : Restituisce U, Sigma e VT=VTrasposta)\n",
    " thresh= np.spacing(1)*m*s[0] #m=max(m,n)\n",
    " k=np.count_nonzero(s>thresh) #Calcolo del rango della matrice, numero dei valori singolari diversi maggiori della soglia\n",
    " print(\"rango=\",k)\n",
    " if k<n1 :\n",
    "    print(\"La matrice non ha rango massimo\")\n",
    " else:\n",
    "    print(\"La matrice ha rango massimo\")\n"
   ]
  },
  {
   "attachments": {},
   "cell_type": "markdown",
   "id": "3951111d-51b7-48c5-b629-ffa2bc492000",
   "metadata": {},
   "source": [
    "La matrice non è a rango massimo. Utilizzo il metodo SVD per risolvere il sistema sovradeterminato."
   ]
  },
  {
   "cell_type": "code",
   "execution_count": null,
   "id": "3aef606e-65e4-46af-95ec-9e66beeb736e",
   "metadata": {
    "tags": []
   },
   "outputs": [],
   "source": [
    "def SVDLS(A,b):\n",
    "    n=A.shape[1]  # numero di colonne di A\n",
    "    U,s,VT=spLin.svd(A)  #Attenzione : Restituisce U, Sigma e VT=VTrasposta)\n",
    "    V=VT.T\n",
    "     \n",
    "    thresh=np.spacing(1)*m*s[0] \n",
    "    ##Calcolo del rango della matrice, numero dei valori singolari maggiori di una soglia\n",
    "    k=np.count_nonzero(s>thresh)\n",
    "    print(\"rango=\",k)\n",
    "    if k<n:\n",
    "        print(\"La matrice non è a rango massimo\")\n",
    "    else:\n",
    "        print(\"La matrice è a rango massimo\")\n",
    "    d=U.T@b\n",
    "    d1=d[:k].reshape(k,1)\n",
    "    s1=s[:k].reshape(k,1)\n",
    "    #Risolve il sistema diagonale di dimensione kxk avene come matrice dei coefficienti la matrice Sigma\n",
    "    c=d1/s1\n",
    "    x=V[:,:k]@c \n",
    "    residuo=np.linalg.norm(d[k:])**2\n",
    "    return x,residuo\n",
    "     "
   ]
  },
  {
   "cell_type": "code",
   "execution_count": null,
   "id": "be8c1a5a-26cd-429c-ac78-f6cdb701427e",
   "metadata": {
    "tags": []
   },
   "outputs": [],
   "source": [
    "x,residuo=SVDLS(A1,b1)\n",
    "print(\"Soluzione nel senso dei minimi quadrati\\n  \", x)\n",
    "print(\"residuo \",residuo)\n",
    "print(\"Norma soluzione \", np.linalg.norm(x))"
   ]
  },
  {
   "cell_type": "code",
   "execution_count": null,
   "id": "561ad0b8-4cbc-4ca0-8b78-2bb77fefbad9",
   "metadata": {},
   "outputs": [],
   "source": [
    "def qrLS(A,b):\n",
    "    n=A.shape[1]  # numero di colonne di A\n",
    "    Q,R=spLin.qr(A)\n",
    "    h=Q.T@b\n",
    "    x,flag=RS.Usolve(R[0:n,:],h[0:n])\n",
    "    residuo=np.linalg.norm(h[n:])**2\n",
    "    return x,residuo"
   ]
  },
  {
   "cell_type": "code",
   "execution_count": null,
   "id": "4e6ce1f1-fadf-4cba-b45e-7eb95cb66c20",
   "metadata": {},
   "outputs": [],
   "source": [
    "def eqnorm(A,b):\n",
    " \n",
    "    G=A.T@A\n",
    "     \n",
    "    print(\"Indice di condizionamento di G \",np.linalg.cond(G))\n",
    "    f=A.T@b\n",
    "    L=spLin.cholesky(G,lower=True)\n",
    "   \n",
    "    y,flag=RS.Lsolve(L,f)\n",
    "    if flag==0:\n",
    "        x,flag=RS.Usolve(L.T,y)\n",
    "    \n",
    "    \n",
    "    return x"
   ]
  },
  {
   "attachments": {},
   "cell_type": "markdown",
   "id": "5d267660-f6e6-42aa-a6f1-86203047668e",
   "metadata": {},
   "source": [
    "## Esercizio 3"
   ]
  },
  {
   "attachments": {},
   "cell_type": "markdown",
   "id": "3429a399-3b2b-4f5d-9e5c-0d407fd88fbc",
   "metadata": {},
   "source": [
    "Caricare dal  file  Approx_C.mat  le coppie di dati sperimentali (x(i),y(i)),i=1,M) e visto il trend dei dati, scegliere opportunamente  il grado del polinomio con cui approssimare  i dati. Costruirlo con un metodo di approssimazione nel senso dei minimi quadrati a scelta tra quello più opportuno alla luce della teoria, calcolare la norma 2 al quadrato del residuo e visualizzare  il grafico.\n"
   ]
  },
  {
   "cell_type": "code",
   "execution_count": null,
   "id": "c302a772-c637-4ff5-a248-f72ee28d16f3",
   "metadata": {},
   "outputs": [],
   "source": [
    "import scipy.linalg as spLin\n",
    "dati = loadmat('Approx_C.mat')\n",
    "\n",
    "x=dati[\"x\"]\n",
    "y=dati[\"y\"]\n",
    "m=x.shape[0]\n",
    "x=x.reshape(m,)\n",
    "y=y.reshape(m,)\n",
    "plt.plot(x,y,'ro')\n",
    " \n",
    "#Visualizzando il trend dei dati osservo che hanno un andamento di un polinomio cubico\n",
    "n=3\n",
    "n1=n+1\n",
    "A3=np.vander(x,increasing=True)[:,:n1]\n",
    "print('Rango ' , np.linalg.matrix_rank(A3),'Condizionamento ',np.linalg.cond(A3))\n",
    "#La matrice A è a rango massimo e mediamente mal condizionata,\n",
    "#la matrice A^T A, avraà indice di condizionamento il quadrato dell'indice di condizionamento\n",
    "#di A, per cui uso il metodo QR\n",
    "alphaqr,res =qrLS(A3,y )\n",
    "print(\"residuo \",res)\n",
    "xx=np.linspace(np.min(x),np.max(x),200)\n",
    "polQR=np.polyval(np.flip(alphaqr),xx)\n",
    "plt.plot(xx,polQR)\n"
   ]
  },
  {
   "attachments": {},
   "cell_type": "markdown",
   "id": "b9ccdc82-a14a-47fc-8c16-39ce4bc64beb",
   "metadata": {},
   "source": [
    "## Esercizio 4\n"
   ]
  },
  {
   "attachments": {},
   "cell_type": "markdown",
   "id": "02ba2e95-b170-40b6-961c-a51445f3314a",
   "metadata": {},
   "source": [
    "Siano assegnati i punti del piano di coordinate $(x_i, y_i)$, $i=1,\\ldots,4$ con \n",
    "$$\n",
    "\\begin{array}{c}\n",
    "x_1=0, \\quad x_2=4, \\quad x_3=0, \\quad x_4=5\\\\\n",
    "y_1=0, \\quad y_2=0, \\quad y_3=4, \\quad y_4=6.\n",
    "\\end{array}\n",
    "$$ \n"
   ]
  },
  {
   "attachments": {},
   "cell_type": "markdown",
   "id": "2e482dde-6239-4a0b-82e5-4fed687c987f",
   "metadata": {},
   "source": [
    " si costruisca il sistema lineare sovradeterminato ottenuto imponendo il passaggio della circonferenza di equazione $x^2+y^2+a_1x+a_2y+a_3=0$ per i quattro punti assegnati, e si denotino con ${\\bf A}$ e ${\\bf b}$ la matrice dei coefficienti e il termine noto ottenuti;"
   ]
  },
  {
   "attachments": {},
   "cell_type": "markdown",
   "id": "9990b89e-5c4f-40e2-862c-12a7ab46178a",
   "metadata": {},
   "source": [
    "si sfrutti il metodo  più opportuno per ottenere la soluzione ${\\bf a}^*$ del problema ai minimi quadrati $\\min_{{\\bf a} \\in \\mathbb{R}^3} \\|{\\bf A}{\\bf a}-{\\bf b}\\|_2^2$;"
   ]
  },
  {
   "attachments": {},
   "cell_type": "markdown",
   "id": "1965ff3d-7b7b-4513-90c0-4a6bb1531191",
   "metadata": {},
   "source": [
    "si calcoli il valore di $\\|{\\bf A}{\\bf a}^*-{\\bf b}\\|_2^2$ e, dopo averne determinato centro e raggio, si rappresentino in una stessa figura la circonferenza di equazione $x^2+y^2+a^*_1x+a^*_2y+a^*_3=0$ (individuata dalla soluzione ${\\bf a}^*$ del problema ai minimi quadrati) e i quattro punti assegnati dal problema."
   ]
  },
  {
   "attachments": {},
   "cell_type": "markdown",
   "id": "848567a4-847f-4fe8-9e21-340e9e989f56",
   "metadata": {},
   "source": [
    "Si ricorda che data una circonferenza nella forma canonica\n",
    "$$ x^2+y^2+a_1 x+a_2 x+a_3=0$$\n",
    "\n",
    "le coordinate del suo centro sono \n",
    "$$C≡(-a_1/2,-a_2/2)$$\n",
    "\n",
    "e la lunghezza del suo raggio è data da:\n",
    "\n",
    "$$r=\\sqrt{\\frac{a_1^2}{4}+\\frac{a_2^2}{4} -a_3}$$\n",
    "\n",
    "e la circoferenza può essere rappresentata in forma parametrica $C(t),  t \\in [0, 2 \\cdot \\pi]$ e le due componenti parametriche sono $$x(t)= C_0+r\\cdot cos(t);$$ $$ y(t)= C_1+r\\cdot sin(t)$$"
   ]
  },
  {
   "cell_type": "code",
   "execution_count": null,
   "id": "2d46e01e-da81-42e9-b6de-7303e26cdcaa",
   "metadata": {},
   "outputs": [],
   "source": [
    "import math\n",
    "px=np.array([0,4,0,5])\n",
    "py=np.array([0,0,4,6])\n",
    "#Costruisco il sistema lineare sovradeterminato come richiesto\n",
    "A=np.array([[0,0,1],[4,0,1],[0,4,1],[5,6,1]])\n",
    "b=np.array([[0],[-16],[-16],[-61]])\n",
    " \n",
    "a,err=SVDLS(A,b)\n",
    "print(\"Norma 2 al quadrato dell'errore \",err)\n",
    "#Calcolo il centro\n",
    "cx=-a[0]/2\n",
    "cy=-a[1]/2\n",
    "#Calcolo il raggio con la formula data\n",
    "r1=math.sqrt((a[0]**2)/4+(a[1]**2)/4-a[2])\n",
    "t=np.linspace(0,2*math.pi,100)\n",
    "#Costruisco le due componenti parametriche della circonferemza\n",
    "x=cx+r1*np.cos(t)\n",
    "y=cy+r1*np.sin(t)\n",
    "plt.plot(x,y,'r-')\n",
    "plt.plot(px,py,'go')\n",
    "plt.axis('equal')"
   ]
  },
  {
   "attachments": {},
   "cell_type": "markdown",
   "id": "a3eb3ad1-0158-4ffc-9a28-aee767bf4bae",
   "metadata": {},
   "source": [
    "## Esercizio 5\n",
    "\n",
    "Per i dati $(x_i, y_i)$ riportati nei seguenti array\n",
    "\n",
    "x = np.array([0.0004, 0.2507, 0.5008, 2.0007, 8.0013]) \n",
    "\n",
    "y = np.array([0.0007,0.0162, 0.0288, 0.0309, 0.0310])\n",
    "\n",
    "- costruire la retta di regressione;\n",
    "- costruire la parabola approssimante i dati nel senso dei minimi quadrati;\n",
    "- determinare l'approssimazione ai minimi quadrati espressa in termini di\n",
    "basi esponenziali: $y = a + b e^{-x}+ c e^{-2x}$"
   ]
  },
  {
   "attachments": {},
   "cell_type": "markdown",
   "id": "a6336f90-c694-4222-8286-9702558ff2e7",
   "metadata": {},
   "source": [
    "Quale tra le tre approssimazioni risulta la migliore? (Confrontare i gra\f\n",
    "ci e la norma euclidea al quadrato del vettore dei residui)."
   ]
  },
  {
   "cell_type": "code",
   "execution_count": null,
   "id": "e78050ca-d8fb-4ff3-9889-7089722d8a7b",
   "metadata": {},
   "outputs": [],
   "source": [
    "m=5\n",
    "x4 = np.array([0.0004, 0.2507, 0.5008, 2.0007, 8.0013]) \n",
    "y4 = np.array([0.0007,0.0162, 0.0288, 0.0309, 0.0310]) \n",
    "M=np.zeros((5,3))\n",
    "M[:,0]=np.ones((5,))\n",
    "M[:,1]=np.exp(-x4)\n",
    "M[:,2]=np.exp(-2*x4)"
   ]
  },
  {
   "cell_type": "code",
   "execution_count": null,
   "id": "f918e64a-4152-4dd4-bb89-197ebcd0c91f",
   "metadata": {},
   "outputs": [],
   "source": [
    "print('Rango di ---->' , np.linalg.matrix_rank(M))\n",
    "print(\"Con Condizionamento M --> \",np.linalg.cond(M))\n",
    "#La matrice M è a rango massimo, ha condizionamento 18.45, quindi la marice G delle equazioni\n",
    "#normali (di dimensioni 4x4) avrebbe indice\n",
    "#di condizionamento circa 343. Utilizzo il metodo \n",
    "aexp,resexp=qrLS(M,y4)\n"
   ]
  },
  {
   "cell_type": "code",
   "execution_count": null,
   "id": "2a985892-adfa-4e2f-a91f-423dfd734959",
   "metadata": {},
   "outputs": [],
   "source": [
    "xx=np.linspace(np.min(x4),np.max(x4),200)\n",
    "polexp=aexp[0]+aexp[1]*np.exp(-xx)+aexp[2]*np.exp(-2*xx)\n",
    "\n",
    "# Calcolo del polinomio approssimante di grado 1\n",
    "n=1\n",
    "n1=n+1\n",
    "A1=np.vander(x4,increasing=True)[:,:n1]\n",
    "print('Rango di A1 --->',np.linalg.matrix_rank(A1))\n",
    "print(\"Condizionamento di A1---> \",np.linalg.cond(A1))\n",
    "#Matrice a rango massimo e ben condizionata: uso le equazioni normali\n",
    "alpha1=eqnorm(A1,y4)\n",
    "pol1=np.polyval(np.flip(alpha1),xx)\n",
    "\n",
    "#Parabola approssimante\n",
    "n=2\n",
    "n1=n+1\n",
    "A2=np.vander(x4,increasing=True)[:,:n1]\n",
    "print('Rango di A2',np.linalg.matrix_rank(A2))\n",
    "print(\"Condizionamento di A2 \",np.linalg.cond(A2))\n",
    "#Matrice a rango massimo e mediamente mal condizionata: uso qr\n",
    "alpha2,res2=qrLS(A2,y4)\n",
    "pol2=np.polyval(np.flip(alpha2),xx)\n",
    "print(\"quadrato residuo exp\",resexp)\n",
    "print(\"quadrato residuo pol grado 2 \",res2)\n",
    "\n",
    "plt.plot(x4,y4,'ro',xx,polexp,'b--',xx,pol1,'g:',xx,pol2,'m-')\n",
    "plt.legend(['Osservazioni','Esponenziale','Polinomio grado 1','Polinomio grado 2'])"
   ]
  }
 ],
 "metadata": {
  "kernelspec": {
   "display_name": "Python 3 (ipykernel)",
   "language": "python",
   "name": "python3"
  },
  "language_info": {
   "codemirror_mode": {
    "name": "ipython",
    "version": 3
   },
   "file_extension": ".py",
   "mimetype": "text/x-python",
   "name": "python",
   "nbconvert_exporter": "python",
   "pygments_lexer": "ipython3",
   "version": "3.11.2"
  }
 },
 "nbformat": 4,
 "nbformat_minor": 5
}
