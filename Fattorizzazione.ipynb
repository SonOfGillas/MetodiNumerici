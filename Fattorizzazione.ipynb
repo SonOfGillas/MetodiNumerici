{
 "cells": [
  {
   "cell_type": "code",
   "execution_count": 1,
   "id": "4fb9c8bd-7f4e-4c62-a740-f261d308927b",
   "metadata": {
    "tags": []
   },
   "outputs": [],
   "source": [
    "# Import dati dalla prof\n",
    "from scipy.io import loadmat\n",
    "import numpy as np\n",
    "import scipy.linalg as spl\n",
    "import RisolviSis as RS\n",
    "import matplotlib.pyplot as plt\n",
    "dati = loadmat('testC.mat')\n",
    "A = dati[\"A\"]\n",
    "b = dati[\"b\"]\n"
   ]
  },
  {
   "cell_type": "markdown",
   "id": "8ef242ee",
   "metadata": {},
   "source": [
    "### LU"
   ]
  },
  {
   "cell_type": "code",
   "execution_count": 2,
   "id": "fff4a1f4",
   "metadata": {},
   "outputs": [],
   "source": [
    "# Le premesse sono che la matrice A sia non singolare, quindi che\n",
    "# ne esista l'inversa, che A abbia rango massimo e che A abbia\n",
    "# determinante diverso da 0. Quest'ultima è importante perche' rende\n",
    "# la soluzione unica: si vuole dimostrare che esiste una matrice di\n",
    "# permutazione che valida la seguente relazione: PA = LU, con P matrice\n",
    "# di permutazione, A matrice orginale, U matrice triangolare superiore,\n",
    "# L matrice triangolare inferiore con diagonale che presenta tutti i termini\n",
    "# pari a 1.\n",
    "#\n",
    "# Per cercare poi una soluzione valida bisogna soddisfare il seguente sistema\n",
    "# lineare:\n",
    "# { Lz = Pb\n",
    "# { Ux = z\n",
    "def LUSolve(P, L, U, b):\n",
    "    y, flag = RS.Lsolve(L, np.dot(P.T, b))\n",
    "    x, flag = RS.Usolve(U, y)\n",
    "    return x, flag\n"
   ]
  },
  {
   "cell_type": "code",
   "execution_count": 3,
   "id": "eb4f2125",
   "metadata": {},
   "outputs": [
    {
     "name": "stdout",
     "output_type": "stream",
     "text": [
      "240857637445.16205\n",
      "[[1.00000381]\n",
      " [1.00000247]\n",
      " [0.99999234]\n",
      " [1.00000069]\n",
      " [1.00000503]\n",
      " [0.99998593]\n",
      " [1.00001451]\n",
      " [0.99998805]\n",
      " [1.00001079]\n",
      " [0.9999906 ]\n",
      " [1.0000047 ]\n",
      " [1.00000256]\n",
      " [0.99999425]\n",
      " [1.00000528]\n",
      " [1.00000005]\n",
      " [0.99999878]\n",
      " [1.00000745]\n",
      " [0.99998078]\n",
      " [1.00000665]\n",
      " [1.00001741]\n",
      " [0.99999062]\n",
      " [0.99997413]\n",
      " [1.00003399]\n",
      " [0.99997383]\n",
      " [1.0000228 ]\n",
      " [1.00000769]\n",
      " [0.99996167]\n",
      " [1.00003316]\n",
      " [0.99999775]\n",
      " [0.999977  ]\n",
      " [1.00001704]\n",
      " [0.99998903]\n",
      " [1.00001514]\n",
      " [0.99999427]]\n",
      "Errore soluzione LU:  0.0015974684246996228\n"
     ]
    }
   ],
   "source": [
    "# Vedo quanto la matrice e' mal condizionata\n",
    "# così da capire come poter muovermi.\n",
    "cond = np.linalg.cond(A)\n",
    "print(cond)\n",
    "\n",
    "# Risolvo il problema chiamando la funzione\n",
    "# di scipy.linalg che mi da' gratis la\n",
    "# fattorizzazione.\n",
    "P, L, U = spl.lu(A)\n",
    "sol, flag = LUSolve(P, L, U, b)\n",
    "\n",
    "# Soluzione\n",
    "print(sol)\n",
    "\n",
    "# Di quanto ci discostiamo dalla soluzione esatta?\n",
    "x_esatta = np.ones_like(b)\n",
    "err = np.linalg.norm(sol - x_esatta) / np.linalg.norm(x_esatta)\n",
    "print(\"Errore soluzione LU: \", err * 100)\n"
   ]
  },
  {
   "cell_type": "markdown",
   "id": "1c4dd213",
   "metadata": {},
   "source": [
    "### LU con pivotaggio a perno massimo"
   ]
  },
  {
   "cell_type": "code",
   "execution_count": null,
   "id": "fc04eacb",
   "metadata": {},
   "outputs": [],
   "source": [
    "# Vedo quanto la matrice e' mal condizionata\n",
    "# così da capire come poter muovermi.\n",
    "cond = np.linalg.cond(A)\n",
    "print(cond)\n",
    "\n",
    "# Le regole di partenza sono sempre le stesse viste per\n",
    "# la fattorizzazione LU classica: A a rango massimo, matrice\n",
    "# di permutazione P da ricercare e soddisfare il sistema\n",
    "# lineare che trova la soluzione. Quest'ultima richiesta\n",
    "# può essere semplificata nel seguente modo.\n",
    "#\n",
    "# Uso un algoritmo in place: la fattorizzazione LU\n",
    "# e' stabile in senso debole in quanto la matrice L\n",
    "# viene costruita indipendentemente dalle\n",
    "# caratteristiche di A mentre U dipende in maniera\n",
    "# esponenziale dall’ordine della matrice.\n",
    "PV, L, U = spl.lu(A)\n",
    "P = PV.T\n",
    "y, flag = RS.Lsolve(L, P@b)\n",
    "\n",
    "if (flag == 0):\n",
    "    sol, flag1 = RS.Usolve(U, y)\n",
    "\n",
    "# Soluzione\n",
    "print(sol)\n",
    "\n",
    "# Di quanto ci discostiamo dalla soluzione esatta?\n",
    "x_esatta = np.ones_like(b)\n",
    "err = np.linalg.norm(sol - x_esatta) / np.linalg.norm(x_esatta)\n",
    "print(\"Errore soluzione LU: \", err * 100)\n"
   ]
  },
  {
   "cell_type": "markdown",
   "id": "2cf7a8ec",
   "metadata": {},
   "source": [
    "### QR"
   ]
  },
  {
   "cell_type": "code",
   "execution_count": 4,
   "id": "d717c2f5",
   "metadata": {},
   "outputs": [
    {
     "name": "stdout",
     "output_type": "stream",
     "text": [
      "240857637445.16205\n",
      "[[0.99999866]\n",
      " [1.0000074 ]\n",
      " [0.99999084]\n",
      " [1.00000206]\n",
      " [1.00000139]\n",
      " [0.99999907]\n",
      " [0.99999946]\n",
      " [1.00000128]\n",
      " [0.99999915]\n",
      " [1.0000005 ]\n",
      " [1.00000026]\n",
      " [0.99999841]\n",
      " [1.00000221]\n",
      " [0.9999984 ]\n",
      " [1.00000092]\n",
      " [1.00000004]\n",
      " [0.99999765]\n",
      " [1.00000349]\n",
      " [0.99999819]\n",
      " [0.99999853]\n",
      " [1.00000255]\n",
      " [0.99999922]\n",
      " [1.00000023]\n",
      " [0.99999887]\n",
      " [0.99999994]\n",
      " [1.00000533]\n",
      " [0.99999209]\n",
      " [1.00000569]\n",
      " [0.99999533]\n",
      " [1.00000744]\n",
      " [0.99998963]\n",
      " [1.0000077 ]\n",
      " [0.99999495]\n",
      " [1.00000153]]\n",
      "Errore soluzione QR:  0.0004158978680821349\n"
     ]
    }
   ],
   "source": [
    "# Se la matrice che dobbiamo analizzare non\n",
    "# e' simmetrica e nemmeno definita positiva\n",
    "# posso usare una fattorizzazione che è sempre\n",
    "# valida: Q matrice matrice ortogonale e R\n",
    "# matrice triangolare superiore non singolare\n",
    "# per soddisfare il seguente sistema lineare:\n",
    "# { Qz = b\n",
    "# { Rx = z\n",
    "#\n",
    "# Vedo l'indice di condizionamento e fattorizzo\n",
    "cond = np.linalg.cond(A)\n",
    "print(cond)\n",
    "Q, R = spl.qr(A)\n",
    "n = A.shape[0]\n",
    "\n",
    "# Qz = b\n",
    "z = Q.T @ b\n",
    "\n",
    "# Rx = z - la matrice è triangolare superiore quindi devo per forza sfruttare la sua relativa\n",
    "# risoluzione,Usolve()\n",
    "sol, flag = RS.Usolve(R, z)\n",
    "print(sol)\n",
    "\n",
    "# Di quanto ci discostiamo dalla soluzione esatta?\n",
    "# L'errore relativo e' solitamente più piccolo\n",
    "# nel caso in cui la soluzione sia calcolata con\n",
    "# il metodo QR. L'algoritmo è stabile in senso forte.\n",
    "x_esatta = np.ones_like(b)\n",
    "err = np.linalg.norm(sol - x_esatta) / np.linalg.norm(x_esatta)\n",
    "print(\"Errore soluzione QR: \", err * 100)\n"
   ]
  },
  {
   "cell_type": "markdown",
   "id": "c0d9d4dc",
   "metadata": {},
   "source": [
    "### Cholesky"
   ]
  },
  {
   "cell_type": "code",
   "execution_count": 5,
   "id": "05b233f2",
   "metadata": {},
   "outputs": [
    {
     "name": "stdout",
     "output_type": "stream",
     "text": [
      "240857637445.16205\n"
     ]
    },
    {
     "ename": "LinAlgError",
     "evalue": "9-th leading minor of the array is not positive definite",
     "output_type": "error",
     "traceback": [
      "\u001b[1;31m---------------------------------------------------------------------------\u001b[0m",
      "\u001b[1;31mLinAlgError\u001b[0m                               Traceback (most recent call last)",
      "\u001b[1;32mC:\\Users\\SONOFG~1\\AppData\\Local\\Temp/ipykernel_22532/2505338249.py\u001b[0m in \u001b[0;36m<module>\u001b[1;34m\u001b[0m\n\u001b[0;32m     14\u001b[0m \u001b[1;33m\u001b[0m\u001b[0m\n\u001b[0;32m     15\u001b[0m \u001b[1;31m# Genero la matrice L\u001b[0m\u001b[1;33m\u001b[0m\u001b[1;33m\u001b[0m\u001b[0m\n\u001b[1;32m---> 16\u001b[1;33m \u001b[0mL\u001b[0m \u001b[1;33m=\u001b[0m \u001b[0mspl\u001b[0m\u001b[1;33m.\u001b[0m\u001b[0mcholesky\u001b[0m\u001b[1;33m(\u001b[0m\u001b[0mA\u001b[0m\u001b[1;33m,\u001b[0m \u001b[0mlower\u001b[0m\u001b[1;33m=\u001b[0m\u001b[1;32mTrue\u001b[0m\u001b[1;33m)\u001b[0m\u001b[1;33m\u001b[0m\u001b[1;33m\u001b[0m\u001b[0m\n\u001b[0m\u001b[0;32m     17\u001b[0m \u001b[1;33m\u001b[0m\u001b[0m\n\u001b[0;32m     18\u001b[0m \u001b[1;31m# Risolvo il sistema\u001b[0m\u001b[1;33m\u001b[0m\u001b[1;33m\u001b[0m\u001b[0m\n",
      "\u001b[1;32m~\\anaconda3\\lib\\site-packages\\scipy\\linalg\\decomp_cholesky.py\u001b[0m in \u001b[0;36mcholesky\u001b[1;34m(a, lower, overwrite_a, check_finite)\u001b[0m\n\u001b[0;32m     86\u001b[0m \u001b[1;33m\u001b[0m\u001b[0m\n\u001b[0;32m     87\u001b[0m     \"\"\"\n\u001b[1;32m---> 88\u001b[1;33m     c, lower = _cholesky(a, lower=lower, overwrite_a=overwrite_a, clean=True,\n\u001b[0m\u001b[0;32m     89\u001b[0m                          check_finite=check_finite)\n\u001b[0;32m     90\u001b[0m     \u001b[1;32mreturn\u001b[0m \u001b[0mc\u001b[0m\u001b[1;33m\u001b[0m\u001b[1;33m\u001b[0m\u001b[0m\n",
      "\u001b[1;32m~\\anaconda3\\lib\\site-packages\\scipy\\linalg\\decomp_cholesky.py\u001b[0m in \u001b[0;36m_cholesky\u001b[1;34m(a, lower, overwrite_a, clean, check_finite)\u001b[0m\n\u001b[0;32m     35\u001b[0m     \u001b[0mc\u001b[0m\u001b[1;33m,\u001b[0m \u001b[0minfo\u001b[0m \u001b[1;33m=\u001b[0m \u001b[0mpotrf\u001b[0m\u001b[1;33m(\u001b[0m\u001b[0ma1\u001b[0m\u001b[1;33m,\u001b[0m \u001b[0mlower\u001b[0m\u001b[1;33m=\u001b[0m\u001b[0mlower\u001b[0m\u001b[1;33m,\u001b[0m \u001b[0moverwrite_a\u001b[0m\u001b[1;33m=\u001b[0m\u001b[0moverwrite_a\u001b[0m\u001b[1;33m,\u001b[0m \u001b[0mclean\u001b[0m\u001b[1;33m=\u001b[0m\u001b[0mclean\u001b[0m\u001b[1;33m)\u001b[0m\u001b[1;33m\u001b[0m\u001b[1;33m\u001b[0m\u001b[0m\n\u001b[0;32m     36\u001b[0m     \u001b[1;32mif\u001b[0m \u001b[0minfo\u001b[0m \u001b[1;33m>\u001b[0m \u001b[1;36m0\u001b[0m\u001b[1;33m:\u001b[0m\u001b[1;33m\u001b[0m\u001b[1;33m\u001b[0m\u001b[0m\n\u001b[1;32m---> 37\u001b[1;33m         raise LinAlgError(\"%d-th leading minor of the array is not positive \"\n\u001b[0m\u001b[0;32m     38\u001b[0m                           \"definite\" % info)\n\u001b[0;32m     39\u001b[0m     \u001b[1;32mif\u001b[0m \u001b[0minfo\u001b[0m \u001b[1;33m<\u001b[0m \u001b[1;36m0\u001b[0m\u001b[1;33m:\u001b[0m\u001b[1;33m\u001b[0m\u001b[1;33m\u001b[0m\u001b[0m\n",
      "\u001b[1;31mLinAlgError\u001b[0m: 9-th leading minor of the array is not positive definite"
     ]
    }
   ],
   "source": [
    "# Il metodo si applica alle matrici simmetriche\n",
    "# e definite positive dalle quali è possibile\n",
    "# ottenere una matrice L triangolare inferiore\n",
    "# che presenta elementi diagonali positivi tali\n",
    "# per cui vale la relazione A = L * L.T.\n",
    "# Il sistema lineare da soddisfare in questo caso\n",
    "# e':\n",
    "# { Ly = b\n",
    "# { L.T x = y\n",
    "#\n",
    "# Vedo l'indice di condizionamento e fattorizzo\n",
    "cond = np.linalg.cond(A)\n",
    "print(cond)\n",
    "\n",
    "# Genero la matrice L\n",
    "L = spl.cholesky(A, lower=True)\n",
    "\n",
    "# Risolvo il sistema\n",
    "y, flag = RS.Lsolve(L, b)\n",
    "sol, flag = RS.Usolve(L.T, y)\n",
    "print(sol)\n",
    "\n",
    "# Di quanto ci discostiamo dalla soluzione esatta?\n",
    "# L'algoritmo è stabile in senso forte.\n",
    "x_esatta = np.ones_like(b)\n",
    "err = np.linalg.norm(sol - x_esatta) / np.linalg.norm(x_esatta)\n",
    "print(\"Errore soluzione Cholesky: \", err * 100)\n"
   ]
  },
  {
   "cell_type": "code",
   "execution_count": null,
   "id": "1dc08fdb-cd76-4a6c-bb1b-97be9c274fb7",
   "metadata": {},
   "outputs": [],
   "source": []
  }
 ],
 "metadata": {
  "kernelspec": {
   "display_name": "Python 3 (ipykernel)",
   "language": "python",
   "name": "python3"
  },
  "language_info": {
   "codemirror_mode": {
    "name": "ipython",
    "version": 3
   },
   "file_extension": ".py",
   "mimetype": "text/x-python",
   "name": "python",
   "nbconvert_exporter": "python",
   "pygments_lexer": "ipython3",
   "version": "3.9.7"
  }
 },
 "nbformat": 4,
 "nbformat_minor": 5
}
