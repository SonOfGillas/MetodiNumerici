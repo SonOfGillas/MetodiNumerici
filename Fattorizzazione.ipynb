{
 "cells": [
  {
   "cell_type": "code",
   "execution_count": 1,
   "id": "4fb9c8bd-7f4e-4c62-a740-f261d308927b",
   "metadata": {
    "tags": []
   },
   "outputs": [],
   "source": [
    "# Import dati dalla prof\n",
    "from scipy.io import loadmat\n",
    "import numpy as np\n",
    "import scipy.linalg as spl\n",
    "import RisolviSis as RS\n",
    "import matplotlib.pyplot as plt\n",
    "dati = loadmat('testC.mat')\n",
    "A=dati[\"A\"] \n",
    "b=dati[\"b\"]\n"
   ]
  },
  {
   "attachments": {},
   "cell_type": "markdown",
   "id": "8ef242ee",
   "metadata": {},
   "source": [
    "# LU"
   ]
  },
  {
   "cell_type": "code",
   "execution_count": 2,
   "id": "fff4a1f4",
   "metadata": {},
   "outputs": [],
   "source": [
    "# Le premesse sono che la matrice A sia non singolare, \n",
    "# abbia quindi determinante diverso da 0, che rende la soluzione\n",
    "# unica: lo scopo e' di attuare opportune trasformazioni \n",
    "# in modo tale da eliminare successivamente le incognite dalle \n",
    "# varie equazioni fino a ridursi ad un sistema triangolare superiore \n",
    "# con matrice dei coefficienti U, termine noto trasformato y, e quindi \n",
    "# costruire la matrice L, triangolare inferiore, memorizzando i \n",
    "# moltiplicatori utilizzati per trasformare la matrice del sistema A in \n",
    "# triangolare superiore.\n",
    "# Esiste quindi una matrice di permutazione che garantisce la seguente\n",
    "# relazione: PA = LU"
   ]
  },
  {
   "cell_type": "code",
   "execution_count": null,
   "id": "eb4f2125",
   "metadata": {},
   "outputs": [],
   "source": []
  },
  {
   "attachments": {},
   "cell_type": "markdown",
   "id": "2cf7a8ec",
   "metadata": {},
   "source": [
    "# QR"
   ]
  },
  {
   "cell_type": "code",
   "execution_count": null,
   "id": "d717c2f5",
   "metadata": {},
   "outputs": [],
   "source": []
  },
  {
   "cell_type": "code",
   "execution_count": null,
   "id": "36cb63cd",
   "metadata": {},
   "outputs": [],
   "source": []
  },
  {
   "attachments": {},
   "cell_type": "markdown",
   "id": "c0d9d4dc",
   "metadata": {},
   "source": [
    "# Cholesky"
   ]
  },
  {
   "cell_type": "code",
   "execution_count": null,
   "id": "05b233f2",
   "metadata": {},
   "outputs": [],
   "source": []
  },
  {
   "cell_type": "code",
   "execution_count": null,
   "id": "3a7d3263",
   "metadata": {},
   "outputs": [],
   "source": []
  }
 ],
 "metadata": {
  "kernelspec": {
   "display_name": "Python 3 (ipykernel)",
   "language": "python",
   "name": "python3"
  },
  "language_info": {
   "codemirror_mode": {
    "name": "ipython",
    "version": 3
   },
   "file_extension": ".py",
   "mimetype": "text/x-python",
   "name": "python",
   "nbconvert_exporter": "python",
   "pygments_lexer": "ipython3",
   "version": "3.11.2"
  }
 },
 "nbformat": 4,
 "nbformat_minor": 5
}
