{
 "cells": [
  {
   "cell_type": "code",
   "execution_count": null,
   "id": "4fb9c8bd-7f4e-4c62-a740-f261d308927b",
   "metadata": {
    "tags": []
   },
   "outputs": [],
   "source": [
    "# Import dati dalla prof\n",
    "from scipy.io import loadmat\n",
    "import numpy as np\n",
    "import scipy.linalg as spl\n",
    "import RisolviSis as RS\n",
    "import matplotlib.pyplot as plt\n",
    "dati = loadmat('testC.mat')\n",
    "A=dati[\"A\"] \n",
    "b=dati[\"b\"]\n"
   ]
  },
  {
   "attachments": {},
   "cell_type": "markdown",
   "id": "8ef242ee",
   "metadata": {},
   "source": [
    "# LU"
   ]
  },
  {
   "cell_type": "code",
   "execution_count": null,
   "id": "fff4a1f4",
   "metadata": {},
   "outputs": [],
   "source": [
    "# Le premesse sono che la matrice A sia non singolare, quindi che\n",
    "# ne esista l'inversa, che A abbia rango massimo e che A abbia \n",
    "# determinante diverso da 0. Quest'ultima è importante perche' rende \n",
    "# la soluzione unica: si vuole dimostrare che esiste una matrice di \n",
    "# permutazione che valida la seguente relazione: PA = LU, con P matrice\n",
    "# di permutazione, A matrice orginale, U matrice triangolare superiore,\n",
    "# L matrice triangolare inferiore con diagonale che presenta tutti i termini\n",
    "# pari a 1.\n",
    "# \n",
    "# Per cercare poi una soluzione valida bisogna soddisfare il seguente sistema\n",
    "# lineare:\n",
    "# { Lz = Pb\n",
    "# { Ux = z\n",
    "def LUSolve(P, L, U, b):\n",
    "    y, flag = RS.Lsolve(L, np.dot(P, b))\n",
    "    x, flag = RS.Usolve(U, y)\n",
    "    return x, flag\n",
    "    \n"
   ]
  },
  {
   "cell_type": "code",
   "execution_count": null,
   "id": "eb4f2125",
   "metadata": {},
   "outputs": [],
   "source": [
    "# Vedo quanto la matrice e' mal condizionata\n",
    "# così da capire come poter muovermi.\n",
    "cond = np.linalg.cond(A)\n",
    "print(cond)\n",
    "\n",
    "# Risolvo il problema chiamando la funzione\n",
    "# di scipy.linalg che mi da' gratis la\n",
    "# fattorizzazione.\n",
    "P, L, U = spl.lu(A)\n",
    "sol, flag = LUSolve(P.T, L, U, b)\n",
    "\n",
    "# Soluzione\n",
    "print(sol)\n",
    "#print(np.linalg.norm(z[n:])**2)\n",
    "\n",
    "# Di quanto ci discostiamo dalla soluzione esatta?\n",
    "x_esatta = np.ones_like(b)\n",
    "err = np.linalg.norm(sol - x_esatta) / np.linalg.norm(x_esatta)\n",
    "print(\"Errore soluzione LU: \", err * 100)\n"
   ]
  },
  {
   "attachments": {},
   "cell_type": "markdown",
   "id": "1c4dd213",
   "metadata": {},
   "source": [
    "# LU con pivotaggio a perno massimo"
   ]
  },
  {
   "cell_type": "code",
   "execution_count": null,
   "metadata": {},
   "outputs": [],
   "source": [
    "# Vedo quanto la matrice e' mal condizionata\n",
    "# così da capire come poter muovermi.\n",
    "cond = np.linalg.cond(A)\n",
    "print(cond)\n",
    "\n",
    "# Le regole di partenza sono sempre le stesse viste per\n",
    "# la fattorizzazione LU classica: A a rango massimo, matrice\n",
    "# di permutazione P da ricercare e soddisfare il sistema\n",
    "# lineare che trova la soluzione. Quest'ultima richiesta\n",
    "# può essere semplificata nel seguente modo.\n",
    "#\n",
    "# Uso un algoritmo in place: la fattorizzazione LU\n",
    "# e' stabile in senso debole in quanto la matrice L\n",
    "# viene costruita indipendentemente dalle\n",
    "# caratteristiche di A mentre U dipende in maniera \n",
    "# esponenziale dall’ordine della matrice.\n",
    "PV, L, U = spl.lu(A)\n",
    "P = PV.T\n",
    "y, flag = RS.Lsolve(L, P@b)\n",
    "\n",
    "if(flag==0):\n",
    "    sol, flag1 = RS.Usolve(U, y)\n",
    "\n",
    "# Soluzione\n",
    "print(sol)\n",
    "#print(np.linalg.norm(z[n:])**2)\n",
    "\n",
    "# Di quanto ci discostiamo dalla soluzione esatta?\n",
    "x_esatta = np.ones_like(b)\n",
    "err = np.linalg.norm(sol - x_esatta) / np.linalg.norm(x_esatta)\n",
    "print(\"Errore soluzione LU: \", err * 100)\n"
   ]
  },
  {
   "attachments": {},
   "cell_type": "markdown",
   "id": "2cf7a8ec",
   "metadata": {},
   "source": [
    "# QR"
   ]
  },
  {
   "cell_type": "code",
   "execution_count": null,
   "id": "d717c2f5",
   "metadata": {},
   "outputs": [],
   "source": [
    "# Se la matrice che dobbiamo analizzare non\n",
    "# e' simmetrica e nemmeno definita positiva\n",
    "# posso usare una fattorizzazione che è sempre\n",
    "# valida: Q matrice matrice ortogonale e R\n",
    "# matrice triangolare superiore non singolare\n",
    "# per soddisfare il seguente sistema lineare:\n",
    "# { Qz = b\n",
    "# { Rx = z\n",
    "#\n",
    "# Vedo l'indice di condizionamento e fattorizzo\n",
    "cond = np.linalg.cond(A)\n",
    "print(cond)\n",
    "Q, R = spl.qr(A)\n",
    "n = A.shape[0]\n",
    "\n",
    "# Qz = b\n",
    "z = Q.T @ b\n",
    "\n",
    "# Rx = z - la matrice è triangolare superiore quindi devo per forza sfruttare la sua relativa\n",
    "# risoluzione,Usolve()\n",
    "sol, flag = RS.Usolve(R, z)\n",
    "print(sol)\n",
    "#print(np.linalg.norm(z[n:])**2)\n",
    "\n",
    "# Di quanto ci discostiamo dalla soluzione esatta?\n",
    "# L'errore relativo e' solitamente più piccolo \n",
    "# nel caso in cui la soluzione sia calcolata con \n",
    "# il metodo QR. L'algoritmo è stabile in senso forte.\n",
    "x_esatta = np.ones_like(b)\n",
    "err = np.linalg.norm(sol - x_esatta) / np.linalg.norm(x_esatta)\n",
    "print(\"Errore soluzione QR: \", err * 100)"
   ]
  },
  {
   "attachments": {},
   "cell_type": "markdown",
   "id": "c0d9d4dc",
   "metadata": {},
   "source": [
    "# Cholesky"
   ]
  },
  {
   "cell_type": "code",
   "execution_count": null,
   "id": "05b233f2",
   "metadata": {},
   "outputs": [],
   "source": [
    "# Il metodo si applica alle matrici simmetriche\n",
    "# e definite positive dalle quali è possibile\n",
    "# ottenere una matrice L triangolare inferiore\n",
    "# che presenta elementi diagonali positivi tali\n",
    "# per cui vale la relazione A = L * L.T.\n",
    "# Il sistema lineare da soddisfare in questo caso\n",
    "# e':\n",
    "# { Ly = b\n",
    "# { L.T x = y\n",
    "#\n",
    "# Vedo l'indice di condizionamento e fattorizzo\n",
    "cond = np.linalg.cond(A)\n",
    "print(cond)\n",
    "\n",
    "# Genero la matrice L\n",
    "L = spl.cholesky(A, lower=True)\n",
    "\n",
    "# Risolvo il sistema\n",
    "y, flag = RS.Lsolve(L, b)\n",
    "sol, flag = RS.Usolve(L.T, y)\n",
    "print(sol)\n",
    "\n",
    "# Di quanto ci discostiamo dalla soluzione esatta?\n",
    "# L'algoritmo è stabile in senso forte.\n",
    "x_esatta = np.ones_like(b)\n",
    "err = np.linalg.norm(sol - x_esatta) / np.linalg.norm(x_esatta)\n",
    "print(\"Errore soluzione Cholesky: \", err * 100)"
   ]
  }
 ],
 "metadata": {
  "kernelspec": {
   "display_name": "Python 3 (ipykernel)",
   "language": "python",
   "name": "python3"
  },
  "language_info": {
   "codemirror_mode": {
    "name": "ipython",
    "version": 3
   },
   "file_extension": ".py",
   "mimetype": "text/x-python",
   "name": "python",
   "nbconvert_exporter": "python",
   "pygments_lexer": "ipython3",
   "version": "3.11.2"
  }
 },
 "nbformat": 4,
 "nbformat_minor": 5
}
