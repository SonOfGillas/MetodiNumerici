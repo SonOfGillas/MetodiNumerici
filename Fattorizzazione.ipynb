{
 "cells": [
  {
   "cell_type": "code",
   "execution_count": 22,
   "id": "4fb9c8bd-7f4e-4c62-a740-f261d308927b",
   "metadata": {
    "tags": []
   },
   "outputs": [],
   "source": [
    "# Import dati dalla prof\n",
    "from scipy.io import loadmat\n",
    "import numpy as np\n",
    "import scipy.linalg as spl\n",
    "import RisolviSis as RS\n",
    "import matplotlib.pyplot as plt\n",
    "dati = loadmat('testC.mat')\n",
    "A=dati[\"A\"] \n",
    "b=dati[\"b\"]\n"
   ]
  },
  {
   "attachments": {},
   "cell_type": "markdown",
   "id": "8ef242ee",
   "metadata": {},
   "source": [
    "# LU"
   ]
  },
  {
   "cell_type": "code",
   "execution_count": 23,
   "id": "fff4a1f4",
   "metadata": {},
   "outputs": [],
   "source": [
    "# Le premesse sono che la matrice A sia non singolare, quindi che\n",
    "# ne esista l'inversa, che A abbia rango massimo e che A abbia \n",
    "# determinante diverso da 0. Quest'ultima è importante perche' rende \n",
    "# la soluzione unica: si vuole dimostrare che esiste una matrice di \n",
    "# permutazione che valida la seguente relazione: PA = LU, con P matrice\n",
    "# di permutazione, A matrice orginale, U matrice triangolare superiore,\n",
    "# L matrice triangolare inferiore con diagonale che presenta tutti i termini\n",
    "# pari a 1.\n",
    "# \n",
    "# Per cercare poi una soluzione valida bisogna soddisfare il seguente sistema\n",
    "# lineare:\n",
    "# { Lz = Pb\n",
    "# { Ux = z\n",
    "def LUSolve(P, L, U, b):\n",
    "    y, flag = RS.Lsolve(L, np.dot(P, b))\n",
    "    x, flag = RS.Usolve(U, y)\n",
    "    return x, flag\n",
    "    \n"
   ]
  },
  {
   "cell_type": "code",
   "execution_count": 24,
   "id": "eb4f2125",
   "metadata": {},
   "outputs": [
    {
     "name": "stdout",
     "output_type": "stream",
     "text": [
      "240857865245.18906\n",
      "[[0.99999809]\n",
      " [1.00000417]\n",
      " [0.99999816]\n",
      " [0.99999147]\n",
      " [1.00001249]\n",
      " [0.99998914]\n",
      " [1.00001039]\n",
      " [0.99999202]\n",
      " [1.00000473]\n",
      " [0.99999491]\n",
      " [1.00001011]\n",
      " [0.99998921]\n",
      " [1.00000102]\n",
      " [1.0000048 ]\n",
      " [0.9999948 ]\n",
      " [1.00001215]\n",
      " [0.99998687]\n",
      " [1.00000252]\n",
      " [1.00001442]\n",
      " [0.99997639]\n",
      " [1.00002119]\n",
      " [0.99998085]\n",
      " [1.00001285]\n",
      " [0.99998977]\n",
      " [1.00001907]\n",
      " [0.99997343]\n",
      " [1.00001735]\n",
      " [0.99998485]\n",
      " [1.00002096]\n",
      " [0.99997703]\n",
      " [1.00002234]\n",
      " [0.99998855]\n",
      " [1.00001109]\n",
      " [0.99999548]]\n",
      "Errore soluzione LU:  0.0013697646509024611\n"
     ]
    }
   ],
   "source": [
    "# Vedo quanto la matrice e' mal condizionata\n",
    "# così da capire come poter muovermi.\n",
    "cond = np.linalg.cond(A)\n",
    "print(cond)\n",
    "\n",
    "# Risolvo il problema chiamando la funzione\n",
    "# di scipy.linalg che mi da' gratis la\n",
    "# fattorizzazione.\n",
    "P, L, U = spl.lu(A)\n",
    "sol, flag = LUSolve(P.T, L, U, b)\n",
    "print(sol)\n",
    "\n",
    "# Di quanto ci discostiamo dalla soluzione esatta?\n",
    "x_esatta = np.ones_like(b)\n",
    "err = np.linalg.norm(sol - x_esatta) / np.linalg.norm(x_esatta)\n",
    "print(\"Errore soluzione LU: \", err * 100)\n"
   ]
  },
  {
   "attachments": {},
   "cell_type": "markdown",
   "id": "1c4dd213",
   "metadata": {},
   "source": [
    "# LU con pivotaggio a perno massimo"
   ]
  },
  {
   "cell_type": "code",
   "execution_count": 25,
   "metadata": {},
   "outputs": [
    {
     "name": "stdout",
     "output_type": "stream",
     "text": [
      "240857865245.18906\n",
      "Errore soluzione LU:  0.0013697646509024611\n"
     ]
    }
   ],
   "source": [
    "# Vedo quanto la matrice e' mal condizionata\n",
    "# così da capire come poter muovermi.\n",
    "cond = np.linalg.cond(A)\n",
    "print(cond)\n",
    "\n",
    "# Le regole di partenza sono sempre le stesse viste per\n",
    "# la fattorizzazione LU classica: A a rango massimo, matrice\n",
    "# di permutazione P da ricercare e soddisfare il sistema\n",
    "# lineare che trova la soluzione. Quest'ultima richiesta\n",
    "# può essere semplificata nel seguente modo.\n",
    "#\n",
    "# Uso un algoritmo in place: la fattorizzazione LU\n",
    "# e' stabile in senso debole in quanto la matrice L\n",
    "# viene costruita indipendentemente dalle\n",
    "# caratteristiche di A mentre U dipende in maniera \n",
    "# esponenziale dall’ordine della matrice.\n",
    "PV, L, U = spl.lu(A)\n",
    "P = PV.T\n",
    "y, flag = RS.Lsolve(L, P@b)\n",
    "\n",
    "if(flag==0):\n",
    "    sol, flag1 = RS.Usolve(U, y)\n",
    "\n",
    "# Di quanto ci discostiamo dalla soluzione esatta?\n",
    "x_esatta = np.ones_like(b)\n",
    "err = np.linalg.norm(sol - x_esatta) / np.linalg.norm(x_esatta)\n",
    "print(\"Errore soluzione LU: \", err * 100)\n"
   ]
  },
  {
   "attachments": {},
   "cell_type": "markdown",
   "id": "2cf7a8ec",
   "metadata": {},
   "source": [
    "# QR"
   ]
  },
  {
   "cell_type": "code",
   "execution_count": null,
   "id": "d717c2f5",
   "metadata": {},
   "outputs": [],
   "source": []
  },
  {
   "cell_type": "code",
   "execution_count": null,
   "id": "36cb63cd",
   "metadata": {},
   "outputs": [],
   "source": []
  },
  {
   "attachments": {},
   "cell_type": "markdown",
   "id": "c0d9d4dc",
   "metadata": {},
   "source": [
    "# Cholesky"
   ]
  },
  {
   "cell_type": "code",
   "execution_count": null,
   "id": "05b233f2",
   "metadata": {},
   "outputs": [],
   "source": []
  },
  {
   "cell_type": "code",
   "execution_count": null,
   "id": "3a7d3263",
   "metadata": {},
   "outputs": [],
   "source": []
  }
 ],
 "metadata": {
  "kernelspec": {
   "display_name": "Python 3 (ipykernel)",
   "language": "python",
   "name": "python3"
  },
  "language_info": {
   "codemirror_mode": {
    "name": "ipython",
    "version": 3
   },
   "file_extension": ".py",
   "mimetype": "text/x-python",
   "name": "python",
   "nbconvert_exporter": "python",
   "pygments_lexer": "ipython3",
   "version": "3.11.2"
  }
 },
 "nbformat": 4,
 "nbformat_minor": 5
}
