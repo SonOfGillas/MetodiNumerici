{
 "cells": [
  {
   "cell_type": "code",
   "execution_count": 2,
   "id": "c8f3c1b5",
   "metadata": {},
   "outputs": [],
   "source": [
    "# Import dati dalla prof\n",
    "from scipy.io import loadmat\n",
    "import numpy as np\n",
    "import scipy.linalg as spl\n",
    "import RisolviSis as RS\n",
    "import matplotlib.pyplot as plt\n",
    "dati = loadmat('testC.mat')\n",
    "A = dati[\"A\"]\n",
    "b = dati[\"b\"]\n"
   ]
  },
  {
   "attachments": {},
   "cell_type": "markdown",
   "id": "17dd57aa",
   "metadata": {},
   "source": [
    "# Formula di Lagrange"
   ]
  },
  {
   "cell_type": "code",
   "execution_count": 3,
   "id": "f90f726b",
   "metadata": {},
   "outputs": [],
   "source": [
    "def plagr(x_nodi, k):\n",
    "    \"\"\"\n",
    "    Restituisce i coefficienti del k-esimo pol di\n",
    "    Lagrange associato ai punti del vettore xnodi\n",
    "    \"\"\"\n",
    "    x_zeri = np.zeros_like(x_nodi)\n",
    "    n = x_nodi.size\n",
    "    if k == 0:\n",
    "        x_zeri = x_nodi[1:n]\n",
    "    else:\n",
    "        x_zeri = np.append(x_nodi[0 : k], x_nodi[k + 1 : n])\n",
    "\n",
    "    num = np.poly(x_zeri)\n",
    "    den = np.polyval(num, x_nodi[k])\n",
    "\n",
    "    # Il polinomio interpolatore è unico\n",
    "    p = num / den\n",
    "\n",
    "    return p\n"
   ]
  },
  {
   "cell_type": "code",
   "execution_count": 4,
   "id": "fa738e8d",
   "metadata": {},
   "outputs": [],
   "source": [
    "# Costruisce n+1 polinomi di Lagrange che rappresentano una base per lo spazio\n",
    "# dei polinomi di grado <= n: ai coeffienti di questi polinomi corrispondono una\n",
    "# matrice identità e il vettore soluzione.\n",
    "def InterpL(x, f, xx):\n",
    "    \"\"\"\n",
    "       %funzione che determina in un insieme di punti il valore del polinomio\n",
    "       %interpolante ottenuto dalla formula di Lagrange.\n",
    "       % DATI INPUT\n",
    "       %  x  vettore con i nodi dell'interpolazione\n",
    "       %  f  vettore con i valori dei nodi \n",
    "       %  xx vettore con i punti in cui si vuole calcolare il polinomio\n",
    "       % DATI OUTPUT\n",
    "       %  y vettore contenente i valori assunti dal polinomio interpolante\n",
    "       %\n",
    "    \"\"\"\n",
    "    n = x.size\n",
    "    m = xx.size\n",
    "    L = np.zeros((m, n))\n",
    "    for k in range(n):\n",
    "        p = plagr(x, k)\n",
    "        # Il polinomio di Lagrange k-esimo valutato nei punti xx\n",
    "        L[:, k] = np.polyval(p, xx)\n",
    "\n",
    "    return np.dot(L, f)\n"
   ]
  }
 ],
 "metadata": {
  "kernelspec": {
   "display_name": "Python 3 (ipykernel)",
   "language": "python",
   "name": "python3"
  },
  "language_info": {
   "codemirror_mode": {
    "name": "ipython",
    "version": 3
   },
   "file_extension": ".py",
   "mimetype": "text/x-python",
   "name": "python",
   "nbconvert_exporter": "python",
   "pygments_lexer": "ipython3",
   "version": "3.11.2"
  }
 },
 "nbformat": 4,
 "nbformat_minor": 5
}
