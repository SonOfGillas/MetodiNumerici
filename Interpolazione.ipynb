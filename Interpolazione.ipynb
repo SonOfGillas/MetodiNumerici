{
 "cells": [
  {
   "cell_type": "code",
   "execution_count": 47,
   "id": "c8f3c1b5",
   "metadata": {},
   "outputs": [],
   "source": [
    "# Import dati dalla prof\n",
    "from scipy.io import loadmat\n",
    "import numpy as np\n",
    "import scipy.linalg as spl\n",
    "import RisolviSis as RS\n",
    "import matplotlib.pyplot as plt\n",
    "dati = loadmat('Approx_C.mat')\n",
    "A = dati[\"x\"]\n",
    "B = dati[\"y\"]\n"
   ]
  },
  {
   "attachments": {},
   "cell_type": "markdown",
   "id": "17dd57aa",
   "metadata": {},
   "source": [
    "### Formula di Lagrange"
   ]
  },
  {
   "cell_type": "code",
   "execution_count": 48,
   "id": "f90f726b",
   "metadata": {},
   "outputs": [],
   "source": [
    "# Date le coppie (x_i, y_i) che rappresentano dei nodi di interpolazione,\n",
    "# si definiscono x i nodi e y le valutazioni di un fenoemeno in quei nodi.\n",
    "# Determinare un polinomio di interpolazione significa innanzitutto determinarne\n",
    "# i suoi coefficienti, tali che soddisfino la condizione di interpolazione \n",
    "# P(x_i) = y_i.\n",
    "# Successivamente a ciò si potranno determinare dati che stanno sia dentro \n",
    "# (interpolazione) che fuori (estrapolazione) dal range dei dati forniti.\n",
    "# Il polinomio è facilmente rappresentabile come una matrice di Vandermonde,\n",
    "# che ricordiamo essere molto mal condizionata e quindi soggetta a grossi \n",
    "# errori se sottoposta anche a minime perturbazioni, a cui è associato un \n",
    "# vettore colonna della valutazione del fenomeno nei nodi.\n",
    "# In questo caso il sistema lineare ammette una ed una sola soluzione se e \n",
    "# solo se la matrice è quadrata ed il rango è massimo. La matrice di Vandermonde \n",
    "# ha sempre rango massimo se tutti gli x_i sono distinti, conseguentemente il \n",
    "# polinomio interpolatore esiste sempre ed è unico.\n",
    "# Al crescere del numero dei punti di interpolazione, e quindi del grado del \n",
    "# polinomio interpolatore non si ha la convergenza del polinomio interpolatore \n",
    "# alla funzione che ha generato i dati: ha al centro dell’intervallo una buona \n",
    "# approssimazione e delle fitte oscillazioni agli estremi.\n",
    "def plagr(x_nodi, k):\n",
    "    \"\"\"\n",
    "    Restituisce i coefficienti del k-esimo pol di\n",
    "    Lagrange associato ai punti del vettore xnodi\n",
    "    \"\"\"\n",
    "    x_zeri = np.zeros_like(x_nodi)\n",
    "    n = x_nodi.size\n",
    "    if k == 0:\n",
    "        x_zeri = x_nodi[1:n]\n",
    "    else:\n",
    "        x_zeri = np.append(x_nodi[0 : k], x_nodi[k + 1 : n])\n",
    "\n",
    "    num = np.poly(x_zeri)\n",
    "    den = np.polyval(num, x_nodi[k])\n",
    "\n",
    "    # Il polinomio interpolatore è unico\n",
    "    p = num / den\n",
    "\n",
    "    return p\n"
   ]
  },
  {
   "cell_type": "code",
   "execution_count": 49,
   "id": "fa738e8d",
   "metadata": {},
   "outputs": [],
   "source": [
    "# Costruisce n+1 polinomi di Lagrange che rappresentano una base per lo spazio\n",
    "# dei polinomi di grado <= n: ai coeffienti di questi polinomi corrispondono una\n",
    "# matrice identità e il vettore soluzione.\n",
    "def InterpL(x, f, xx):\n",
    "    \"\"\"\n",
    "       %funzione che determina in un insieme di punti il valore del polinomio\n",
    "       %interpolante ottenuto dalla formula di Lagrange.\n",
    "       % DATI INPUT\n",
    "       %  x  vettore con i nodi dell'interpolazione\n",
    "       %  f  vettore con i valori dei nodi \n",
    "       %  xx vettore con i punti in cui si vuole calcolare il polinomio\n",
    "       % DATI OUTPUT\n",
    "       %  y vettore contenente i valori assunti dal polinomio interpolante\n",
    "       %\n",
    "    \"\"\"\n",
    "    n = x.size\n",
    "    m = xx.size\n",
    "    L = np.zeros((m, n))\n",
    "    for k in range(n):\n",
    "        p = plagr(x, k)\n",
    "        # Il polinomio di Lagrange k-esimo valutato nei punti xx\n",
    "        # La costante di Lebesgue risulta essere il coefficiente di amplificazione degli errori \n",
    "        # relativi sui dati e pertanto identifica il numero di condizionamento del problema \n",
    "        # di interpolazione polinomiale\n",
    "        L[:, k] = np.polyval(p, xx)\n",
    "\n",
    "    return np.dot(L, f)\n"
   ]
  },
  {
   "attachments": {},
   "cell_type": "markdown",
   "id": "341a6668",
   "metadata": {},
   "source": [
    "### Errori di interpolazione"
   ]
  },
  {
   "cell_type": "code",
   "execution_count": 50,
   "id": "f35d3251",
   "metadata": {},
   "outputs": [],
   "source": [
    "# L'errore risulta minimo se si scelgono gli x_i come zeri del polinomio di\n",
    "# Chebichev: all’aumentare del numero dei punti di interpolazione si ha la\n",
    "# convergenza del polinomio interpolatore alla funzione che ha generato di dati.\n",
    "# La crescita dell'errore in questo caso é logaritmica anziché esponenziale.\n",
    "def Cheb(a, b, n):\n",
    "    t1 = (a + b) / 2\n",
    "    t2 = (b - a) / 2\n",
    "    diff = []\n",
    "    x = np.zeros((n + 1 , ))\n",
    "\n",
    "    for k in range(n + 1):\n",
    "        x[k] = t1 + t2 * np.cos(((2 * k + 1) / (2 * (n + 1)) * np.pi))\n",
    "    return x\n"
   ]
  },
  {
   "attachments": {},
   "cell_type": "markdown",
   "id": "41294102",
   "metadata": {},
   "source": [
    "### Trend dei dati"
   ]
  },
  {
   "cell_type": "code",
   "execution_count": 51,
   "id": "ef0d7be9",
   "metadata": {},
   "outputs": [
    {
     "name": "stdout",
     "output_type": "stream",
     "text": [
      "Rango  4 Condizionamento  138.04106498526866\n",
      "residuo  28054.66293085903\n"
     ]
    },
    {
     "data": {
      "text/plain": [
       "[<matplotlib.lines.Line2D at 0x1c267aae310>]"
      ]
     },
     "execution_count": 51,
     "metadata": {},
     "output_type": "execute_result"
    },
    {
     "data": {
      "image/png": "[encoded data removed]",
      "text/plain": [
       "<Figure size 640x480 with 1 Axes>"
      ]
     },
     "metadata": {},
     "output_type": "display_data"
    }
   ],
   "source": [
    "dati = loadmat('Approx_C.mat')\n",
    "x = dati[\"x\"]\n",
    "y = dati[\"y\"]\n",
    "m = x.shape[0]\n",
    "x = x.reshape(m,)\n",
    "y = y.reshape(m,)\n",
    "plt.plot(x, y, 'ro')\n",
    "\n",
    "# Visualizzando il trend dei dati osservo che hanno un andamento di un polinomio cubico\n",
    "n = 3\n",
    "n1 = n + 1\n",
    "A3 = np.vander(x, increasing=True)[:, :n1]\n",
    "print('Rango ', np.linalg.matrix_rank(A3),\n",
    "      'Condizionamento ', np.linalg.cond(A3))\n",
    "# La matrice A è a rango massimo e mediamente mal condizionata,\n",
    "# la matrice A^T A, avraà indice di condizionamento il quadrato dell'indice di condizionamento\n",
    "# di A, per cui uso il metodo QR\n",
    "alphaqr, res = QRLS(A3, y)\n",
    "print(\"residuo \", res)\n",
    "xx = np.linspace(np.min(x), np.max(x), 200)\n",
    "polQR = np.polyval(np.flip(alphaqr), xx)\n",
    "plt.plot(xx, polQR)\n"
   ]
  }
 ],
 "metadata": {
  "kernelspec": {
   "display_name": "Python 3 (ipykernel)",
   "language": "python",
   "name": "python3"
  },
  "language_info": {
   "codemirror_mode": {
    "name": "ipython",
    "version": 3
   },
   "file_extension": ".py",
   "mimetype": "text/x-python",
   "name": "python",
   "nbconvert_exporter": "python",
   "pygments_lexer": "ipython3",
   "version": "3.11.2"
  }
 },
 "nbformat": 4,
 "nbformat_minor": 5
}
