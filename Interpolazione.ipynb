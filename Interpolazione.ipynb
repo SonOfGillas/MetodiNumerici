{
 "cells": [
  {
   "cell_type": "code",
   "execution_count": 4,
   "id": "c8f3c1b5",
   "metadata": {},
   "outputs": [],
   "source": [
    "# Import dati dalla prof\n",
    "from scipy.io import loadmat\n",
    "import numpy as np\n",
    "import scipy.linalg as spl\n",
    "import RisolviSis as RS\n",
    "import matplotlib.pyplot as plt\n",
    "dati = loadmat('testC.mat')\n",
    "A = dati[\"A\"]\n",
    "b = dati[\"b\"]\n"
   ]
  },
  {
   "attachments": {},
   "cell_type": "markdown",
   "id": "8f0e2cff",
   "metadata": {},
   "source": []
  },
  {
   "cell_type": "code",
   "execution_count": 5,
   "id": "f90f726b",
   "metadata": {},
   "outputs": [],
   "source": [
    "def plagr(xnodi, k):\n",
    "    \"\"\"\n",
    "    Restituisce i coefficienti del k-esimo pol di\n",
    "    Lagrange associato ai punti del vettore xnodi\n",
    "    \"\"\"\n",
    "    xzeri = np.zeros_like(xnodi)\n",
    "    n = xnodi.size\n",
    "    if k == 0:\n",
    "        xzeri = xnodi[1:n]\n",
    "    else:\n",
    "        xzeri = np.append(xnodi[0:k], xnodi[k+1:n])\n",
    "\n",
    "    num = np.poly(xzeri)\n",
    "    den = np.polyval(num, xnodi[k])\n",
    "\n",
    "    p = num/den\n",
    "\n",
    "    return p\n"
   ]
  },
  {
   "attachments": {},
   "cell_type": "markdown",
   "id": "547c6e01",
   "metadata": {},
   "source": []
  },
  {
   "cell_type": "code",
   "execution_count": 6,
   "id": "fa738e8d",
   "metadata": {},
   "outputs": [],
   "source": [
    "def InterpL(x, f, xx):\n",
    "    \"\"\"\n",
    "       %funzione che determina in un insieme di punti il valore del polinomio\n",
    "       %interpolante ottenuto dalla formula di Lagrange.\n",
    "       % DATI INPUT\n",
    "       %  x  vettore con i nodi dell'interpolazione\n",
    "       %  f  vettore con i valori dei nodi \n",
    "       %  xx vettore con i punti in cui si vuole calcolare il polinomio\n",
    "       % DATI OUTPUT\n",
    "       %  y vettore contenente i valori assunti dal polinomio interpolante\n",
    "       %\n",
    "    \"\"\"\n",
    "    n = x.size\n",
    "    m = xx.size\n",
    "    L = np.zeros((m, n))\n",
    "    for k in range(n):\n",
    "        p = plagr(x, k)\n",
    "        L[:, k] = np.polyval(p, xx)\n",
    "\n",
    "    return np.dot(L, f)\n"
   ]
  }
 ],
 "metadata": {
  "kernelspec": {
   "display_name": "Python 3 (ipykernel)",
   "language": "python",
   "name": "python3"
  },
  "language_info": {
   "codemirror_mode": {
    "name": "ipython",
    "version": 3
   },
   "file_extension": ".py",
   "mimetype": "text/x-python",
   "name": "python",
   "nbconvert_exporter": "python",
   "pygments_lexer": "ipython3",
   "version": "3.11.2"
  }
 },
 "nbformat": 4,
 "nbformat_minor": 5
}
