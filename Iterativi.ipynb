{
 "cells": [
  {
   "cell_type": "code",
   "execution_count": 21,
   "id": "4fb9c8bd-7f4e-4c62-a740-f261d308927b",
   "metadata": {
    "tags": []
   },
   "outputs": [],
   "source": [
    "# Import dati dalla prof\n",
    "from scipy.io import loadmat\n",
    "import numpy as np\n",
    "import scipy.linalg as spl\n",
    "import RisolviSis as RS\n",
    "import matplotlib.pyplot as plt\n",
    "dati = loadmat('testE.mat')\n",
    "A=dati[\"A\"] \n",
    "b=dati[\"b\"]\n"
   ]
  },
  {
   "cell_type": "code",
   "execution_count": 22,
   "id": "35f1425b",
   "metadata": {},
   "outputs": [],
   "source": [
    "def creaPoisson(n):\n",
    "    #costruire una matrice di Poisson\n",
    "    d=np.ones((n))*4\n",
    "    e=-np.ones((n-1,))\n",
    "    f=-np.ones((n-3,))\n",
    "    A=np.diag(d)+np.diag(e,-1)+np.diag(e,1)+np.diag(f,-3)+np.diag(f,3)\n",
    "    return A"
   ]
  },
  {
   "attachments": {},
   "cell_type": "markdown",
   "id": "8ef242ee",
   "metadata": {},
   "source": [
    "# Jacobi"
   ]
  },
  {
   "cell_type": "code",
   "execution_count": 23,
   "id": "4fe69b81",
   "metadata": {},
   "outputs": [],
   "source": [
    "def jacobi(A, b, x0, toll, itmax):\n",
    "    # La dichiaro per buona norma anche se Python ha scope di lettura che va anche al di fuori\n",
    "    # dell'ambito della funzione\n",
    "    n = A.shape[0]\n",
    "    # Estraggo la diagonale dalla matrice A\n",
    "    d = np.diag(A)\n",
    "    # Costruisco la matrice diagonale\n",
    "    D = np.diag(d)\n",
    "    # Creo la matrice triangola inferiore da A, -1 perchè escludo la diagonale\n",
    "    E = np.tril(A, - 1)\n",
    "    # Estraggo dalla matrice A la sua matrice triangolare superiore, con diagonale nulla\n",
    "    F = np.triu(A, 1)\n",
    "\n",
    "    # M = D, Si costruisce la matrice M\n",
    "    N = - (E + F)\n",
    "\n",
    "    # Cercando il raggio spettrale, devo vede che questo sia minore di 1 affinché ci sia una veloce\n",
    "    # convergenza del metodo iterativo. Inversa di una matrice diagonale è una matrice diagonale con\n",
    "    # elementi inversi\n",
    "    invM = np.diag(1/d)\n",
    "    T = np.dot(invM, N)\n",
    "\n",
    "    # Il raggio spettrale di una matrice è il suo autovalore di modulo massimo\n",
    "    autT = np.linalg.eigvals(T)\n",
    "    rho = np.max(np.abs(autT))\n",
    "    print(\"Raggio spettrale:    \", rho)\n",
    "    if (rho > 1):\n",
    "        print(\"Raggio spettrale maggiore di 1, nessuna soluzione\")\n",
    "\n",
    "    # Cuore dell'algoritmo: inizializzo il contatore delle iterazioni. Tengo traccia del vettore\n",
    "    # degli errori per poi fare un grafico rappresentativo\n",
    "    it = 0\n",
    "    err_vet = []\n",
    "    err = 1000\n",
    "\n",
    "    # Imposto le condizioni di convergenza ad itmax iterate e alla quantità di errore maggiore\n",
    "    # rispetto ad una determinata tolleranza. Moltiplicare per una matrice diagonale significa\n",
    "    # dividere una matrice per la diagonale stessa\n",
    "    while it <= itmax and err >= toll:\n",
    "        x = (b + np.dot(N, x0)) / d.reshape(n, 1)\n",
    "        # Se c'è convergenza le soluzioni non cambiano più\n",
    "        err = np.linalg.norm(x - x0) / np.linalg.norm(x)\n",
    "        err_vet.append(err)\n",
    "        # Al passo successivo, x0 sarà la x del passo precedente\n",
    "        x0 = x.copy()\n",
    "        it += 1\n",
    "\n",
    "    return x, it, err_vet\n"
   ]
  },
  {
   "cell_type": "code",
   "execution_count": 24,
   "id": "97c9bd3c",
   "metadata": {},
   "outputs": [
    {
     "name": "stdout",
     "output_type": "stream",
     "text": [
      "Raggio spettrale:     0.9997193113493907\n",
      "Soluzione:    [[8.99279621e-01]\n",
      " [8.03220479e-01]\n",
      " [7.14349387e-01]\n",
      " [6.29432376e-01]\n",
      " [5.53322600e-01]\n",
      " [4.80462632e-01]\n",
      " [4.17309198e-01]\n",
      " [3.56738665e-01]\n",
      " [3.06035512e-01]\n",
      " [2.57314444e-01]\n",
      " [2.17970305e-01]\n",
      " [1.80092847e-01]\n",
      " [1.50611692e-01]\n",
      " [1.22175870e-01]\n",
      " [1.00860069e-01]\n",
      " [8.02611226e-02]\n",
      " [6.53994858e-02]\n",
      " [5.10103859e-02]\n",
      " [4.10246060e-02]\n",
      " [3.13379437e-02]\n",
      " [2.48753514e-02]\n",
      " [1.85943965e-02]\n",
      " [1.45680764e-02]\n",
      " [1.06474492e-02]\n",
      " [8.23390178e-03]\n",
      " [5.87921576e-03]\n",
      " [4.48793308e-03]\n",
      " [3.12797959e-03]\n",
      " [2.35717274e-03]\n",
      " [1.60227636e-03]\n",
      " [1.19207780e-03]\n",
      " [7.89573413e-04]\n",
      " [5.80019956e-04]\n",
      " [3.74000796e-04]\n",
      " [2.71302188e-04]\n",
      " [1.70140693e-04]\n",
      " [1.21890325e-04]\n",
      " [7.42701895e-05]\n",
      " [5.25542973e-05]\n",
      " [3.10806006e-05]\n",
      " [2.17256616e-05]\n",
      " [1.24574608e-05]\n",
      " [8.60385108e-06]\n",
      " [4.77985502e-06]\n",
      " [3.26476963e-06]\n",
      " [1.76277765e-06]\n",
      " [1.19974433e-06]\n",
      " [6.54347831e-07]\n",
      " [4.72766344e-07]\n",
      " [3.38570974e-07]\n",
      " [3.38570974e-07]\n",
      " [4.72766343e-07]\n",
      " [6.54347831e-07]\n",
      " [1.19974433e-06]\n",
      " [1.76277765e-06]\n",
      " [3.26476963e-06]\n",
      " [4.77985502e-06]\n",
      " [8.60385108e-06]\n",
      " [1.24574608e-05]\n",
      " [2.17256616e-05]\n",
      " [3.10806006e-05]\n",
      " [5.25542973e-05]\n",
      " [7.42701895e-05]\n",
      " [1.21890325e-04]\n",
      " [1.70140693e-04]\n",
      " [2.71302188e-04]\n",
      " [3.74000796e-04]\n",
      " [5.80019956e-04]\n",
      " [7.89573413e-04]\n",
      " [1.19207780e-03]\n",
      " [1.60227636e-03]\n",
      " [2.35717274e-03]\n",
      " [3.12797959e-03]\n",
      " [4.48793308e-03]\n",
      " [5.87921576e-03]\n",
      " [8.23390178e-03]\n",
      " [1.06474492e-02]\n",
      " [1.45680764e-02]\n",
      " [1.85943965e-02]\n",
      " [2.48753514e-02]\n",
      " [3.13379437e-02]\n",
      " [4.10246060e-02]\n",
      " [5.10103859e-02]\n",
      " [6.53994858e-02]\n",
      " [8.02611226e-02]\n",
      " [1.00860069e-01]\n",
      " [1.22175870e-01]\n",
      " [1.50611692e-01]\n",
      " [1.80092847e-01]\n",
      " [2.17970305e-01]\n",
      " [2.57314444e-01]\n",
      " [3.06035512e-01]\n",
      " [3.56738665e-01]\n",
      " [4.17309198e-01]\n",
      " [4.80462632e-01]\n",
      " [5.53322600e-01]\n",
      " [6.29432376e-01]\n",
      " [7.14349387e-01]\n",
      " [8.03220479e-01]\n",
      " [8.99279621e-01]]\n",
      "Iterazioni:   101\n"
     ]
    },
    {
     "data": {
      "image/png": "[encoded data removed]",
      "text/plain": [
       "<Figure size 640x480 with 1 Axes>"
      ]
     },
     "metadata": {},
     "output_type": "display_data"
    }
   ],
   "source": [
    "# Creo il vettore colonna. Il vettore in questione, senza reshape è un array 1D che non è adatto\n",
    "# alle operazioni con vettori colonna\n",
    "n = A.shape[0]\n",
    "b = np.sum(A, axis=1).reshape(n, 1)\n",
    "# Posso scegliere un qualunque vettore iniziale\n",
    "x0 = np.zeros((n, 1))\n",
    "itmax = 100\n",
    "toll = 1e-8\n",
    "xJ, itJ, err_vetJ = jacobi(A, b, x0, toll, itmax)\n",
    "\n",
    "print(\"Soluzione:   \", xJ)\n",
    "print(\"Iterazioni:  \", itJ)\n",
    "\n",
    "plt.semilogy(np.arange(itJ), err_vetJ)\n",
    "plt.show()\n"
   ]
  },
  {
   "attachments": {},
   "cell_type": "markdown",
   "id": "2cf7a8ec",
   "metadata": {},
   "source": [
    "# Gauss-Siedel"
   ]
  },
  {
   "cell_type": "code",
   "execution_count": 25,
   "id": "df374ca3",
   "metadata": {},
   "outputs": [],
   "source": [
    "def gauss_seidel(A, b, x0, toll, itmax):\n",
    "    # La dichiaro per buona norma anche se Python ha scope di lettura che va anche al di fuori\n",
    "    # dell'ambito della funzione\n",
    "    d = np.diag(A)\n",
    "    D = np.diag(d)\n",
    "    E = np.tril(A, - 1)\n",
    "    F = np.triu(A, 1)\n",
    "\n",
    "    # Devo introdurre un parametro omega che riduca il più possibile il raggio spettrale\n",
    "    M = D + E\n",
    "    N = -F\n",
    "    invM = np.linalg.inv(M)\n",
    "    T = np.dot(invM, N)\n",
    "\n",
    "    # Il raggio spettrale di una matrice è il suo autovalore di modulo massimo\n",
    "    autT = np.linalg.eigvals(T)\n",
    "    rho = np.max(np.abs(autT))\n",
    "    print(\"Raggio spettrale:    \", rho)\n",
    "    if (rho > 1):\n",
    "        print(\"Raggio spettrale maggiore di 1, nessuna soluzione\")\n",
    "\n",
    "    # Cuore dell'algoritmo: inizializzo il contatore delle iterazioni. Tengo traccia del vettore\n",
    "    # degli errori per poi fare un grafico rappresentativo\n",
    "    it = 0\n",
    "    err_vet = []\n",
    "    err = 1000\n",
    "\n",
    "    # Imposto le condizioni di convergenza ad itmax iterate e alla quantità di errore maggiore\n",
    "    # rispetto ad una determinata tolleranza. Moltiplicare per una matrice diagonale significa\n",
    "    # dividere una matrice per la diagonale stessa\n",
    "    while it <= itmax and err >= toll:\n",
    "        temp = b - np.dot(F, x0)\n",
    "        x, flag = RS.Lsolve(M, temp)\n",
    "        err = np.linalg.norm(x - x0) / np.linalg.norm(x)\n",
    "        err_vet.append(err)\n",
    "        x0 = x.copy()\n",
    "        it += 1\n",
    "\n",
    "    return x, it, err_vet\n"
   ]
  },
  {
   "cell_type": "code",
   "execution_count": 26,
   "id": "b858f3e7",
   "metadata": {},
   "outputs": [
    {
     "name": "stdout",
     "output_type": "stream",
     "text": [
      "Raggio spettrale:     0.19431515030791588\n",
      "Soluzione GS:     [[1.]\n",
      " [1.]\n",
      " [1.]]\n",
      "Iterazioni GS:    13\n"
     ]
    },
    {
     "data": {
      "image/png": "[encoded data removed]",
      "text/plain": [
       "<Figure size 640x480 with 1 Axes>"
      ]
     },
     "metadata": {},
     "output_type": "display_data"
    }
   ],
   "source": [
    "A = np.array([[4, 1, 3], [3, 4, 1], [1, 1, 17]])\n",
    "n = A.shape[0]\n",
    "b = np.sum(A, axis=1).reshape(n, 1)\n",
    "# Posso scegliere un qualunque vettore iniziale\n",
    "x0 = np.zeros((n, 1))\n",
    "itmax = 100\n",
    "toll = 1e-8\n",
    "xG, itG, err_vetG = gauss_seidel(A, b, x0, toll, itmax)\n",
    "\n",
    "print(\"Soluzione GS:    \", xG)\n",
    "print(\"Iterazioni GS:   \", itG)\n",
    "\n",
    "plt.semilogy(np.arange(itG), err_vetG)\n",
    "plt.show()\n"
   ]
  },
  {
   "attachments": {},
   "cell_type": "markdown",
   "id": "c0d9d4dc",
   "metadata": {},
   "source": [
    "# Gauss-Siedel SOR"
   ]
  },
  {
   "cell_type": "code",
   "execution_count": 27,
   "id": "a2d1f15f",
   "metadata": {},
   "outputs": [],
   "source": [
    "def gauss_seidel_sor(A, b, x0, omega, toll, itmax):\n",
    "    # La dichiaro per buona norma anche se Python ha scope di lettura che va anche al di fuori\n",
    "    # dell'ambito della funzione\n",
    "    errore = 1000\n",
    "    d = np.diag(A)\n",
    "    D = np.diag(d)\n",
    "    Dinv = np.diag(1/d)\n",
    "    E = np.tril(A, -1)\n",
    "    F = np.triu(A, 1)\n",
    "\n",
    "    # Devo introdurre un parametro omega che riduca il più possibile il raggio spettrale\n",
    "    Momega = D+omega*E\n",
    "    Nomega = (1-omega)*D-omega*F\n",
    "    T = np.dot(np.linalg.inv(Momega), Nomega)\n",
    "\n",
    "    # Il raggio spettrale di una matrice è il suo autovalore di modulo massimo\n",
    "    autovalori = np.linalg.eigvals(T)\n",
    "    raggiospettrale = np.max(np.abs(autovalori))\n",
    "    print(\"raggio spettrale Gauss-Seidel SOR \", raggiospettrale)\n",
    "\n",
    "    # Cuore dell'algoritmo: inizializzo il contatore delle iterazioni. Tengo traccia del vettore\n",
    "    # degli errori per poi fare un grafico rappresentativo\n",
    "    M = D+E\n",
    "    N = -F\n",
    "    it = 0\n",
    "    xold = x0.copy()\n",
    "    xnew = x0.copy()\n",
    "    er_vet = []\n",
    "\n",
    "    # Imposto le condizioni di convergenza ad itmax iterate e alla quantità di errore maggiore\n",
    "    # rispetto ad una determinata tolleranza. Moltiplicare per una matrice diagonale significa\n",
    "    # dividere una matrice per la diagonale stessa\n",
    "    while it <= itmax and errore >= toll:\n",
    "        temp = b-np.dot(F, xold)\n",
    "        xtilde, flag = RS.Lsolve(M, temp)\n",
    "        xnew = (1-omega)*xold+omega*xtilde\n",
    "        errore = np.linalg.norm(xnew-xold)/np.linalg.norm(xnew)\n",
    "        er_vet.append(errore)\n",
    "        xold = xnew.copy()\n",
    "        it = it+1\n",
    "    return xnew, it, er_vet\n"
   ]
  },
  {
   "cell_type": "code",
   "execution_count": 28,
   "id": "4cf8a385",
   "metadata": {},
   "outputs": [
    {
     "name": "stdout",
     "output_type": "stream",
     "text": [
      "raggio spettrale Gauss-Seidel SOR  0.46537983832374846\n",
      "Soluzione GSS:     [[1.]\n",
      " [1.]\n",
      " [1.]]\n",
      "Iterazioni GSS:    24\n"
     ]
    },
    {
     "data": {
      "image/png": "[encoded data removed]",
      "text/plain": [
       "<Figure size 640x480 with 1 Axes>"
      ]
     },
     "metadata": {},
     "output_type": "display_data"
    }
   ],
   "source": [
    "A = np.array([[4, 1, 3], [3, 4, 1], [1, 1, 17]])\n",
    "n = A.shape[0]\n",
    "b = np.sum(A, axis=1).reshape(n, 1)\n",
    "# Posso scegliere un qualunque vettore iniziale\n",
    "x0 = np.zeros((n, 1))\n",
    "# omega deve avere un valore tra 0 e 2\n",
    "omega = 1.4\n",
    "itmax = 100\n",
    "toll = 1e-8\n",
    "xG, itG, err_vetG = gauss_seidel_sor(A, b, x0, omega, toll, itmax)\n",
    "\n",
    "print(\"Soluzione GSS:    \", xG)\n",
    "print(\"Iterazioni GSS:   \", itG)\n",
    "\n",
    "plt.semilogy(np.arange(itG), err_vetG)\n",
    "plt.show()\n"
   ]
  },
  {
   "attachments": {},
   "cell_type": "markdown",
   "id": "5a540fef",
   "metadata": {},
   "source": [
    "# Gradiente"
   ]
  },
  {
   "cell_type": "code",
   "execution_count": 29,
   "id": "088b37d4",
   "metadata": {},
   "outputs": [],
   "source": [
    "def steepestdescent(A,b,x0,itmax,tol):\n",
    "    n,m=A.shape\n",
    "    if n!=m:\n",
    "        print(\"Matrice non quadrata\")\n",
    "        return [],[]\n",
    "    \n",
    "   # inizializzare le variabili necessarie\n",
    "    x = x0\n",
    "    r = A.dot(x)-b\n",
    "    p = -r\n",
    "    it = 0\n",
    "    nb=np.linalg.norm(b)\n",
    "    errore=np.linalg.norm(r)/nb\n",
    "    vec_sol=[]\n",
    "    vec_sol.append(x)\n",
    "    vet_r=[]\n",
    "    vet_r.append(errore)\n",
    "     \n",
    "# utilizzare il metodo del gradiente per trovare la soluzione\n",
    "    while errore>= tol and it< itmax:\n",
    "        it=it+1\n",
    "        Ap=A.dot(p)\n",
    "        rTr=np.dot(r.T, r)\n",
    "        alpha = rTr / np.dot(p.T, Ap)\n",
    "                \n",
    "        x = x + alpha*p\n",
    "        vec_sol.append(x)\n",
    "        r=r+alpha*Ap\n",
    "        errore=np.linalg.norm(r)/nb\n",
    "        vet_r.append(errore)\n",
    "        p = -r \n",
    "        \n",
    "    \n",
    "    return x,vet_r,vec_sol,it\n"
   ]
  },
  {
   "attachments": {},
   "cell_type": "markdown",
   "id": "5cca186a",
   "metadata": {},
   "source": [
    "# Gradiente Coniugato"
   ]
  },
  {
   "cell_type": "code",
   "execution_count": 30,
   "id": "e22c91ce",
   "metadata": {},
   "outputs": [],
   "source": [
    "def conjugate_gradient(A,b,x0,itmax,tol):\n",
    "    n,m=A.shape\n",
    "    if n!=m:\n",
    "        print(\"Matrice non quadrata\")\n",
    "        return [],[]\n",
    "    \n",
    "    \n",
    "   # inizializzare le variabili necessarie\n",
    "    x = x0\n",
    "    r = A.dot(x)-b\n",
    "    p = -r\n",
    "    it = 0\n",
    "    nb=np.linalg.norm(b)\n",
    "    errore=np.linalg.norm(r)/nb\n",
    "    vec_sol=[]\n",
    "    vec_sol.append(x0)\n",
    "    vet_r=[]\n",
    "    vet_r.append(errore)\n",
    "# utilizzare il metodo del gradiente coniugato per trovare la soluzione\n",
    "    while errore >= tol and it< itmax:\n",
    "        it=it+1\n",
    "        Ap=A.dot(p)\n",
    "        rtr=np.dot(r.T, r)\n",
    "        alpha = rtr / np.dot(p.T, Ap)\n",
    "        x = x + alpha *p\n",
    "        vec_sol.append(x)\n",
    "        r=r+alpha*Ap\n",
    "        gamma=np.dot(r.T,r)/rtr\n",
    "        errore=np.linalg.norm(r)/nb\n",
    "        vet_r.append(errore)\n",
    "        p = -r+gamma*p\n",
    "   \n",
    "    \n",
    "    return x,vet_r,vec_sol,it"
   ]
  },
  {
   "cell_type": "code",
   "execution_count": 31,
   "id": "983e7f1b",
   "metadata": {},
   "outputs": [
    {
     "name": "stdout",
     "output_type": "stream",
     "text": [
      "Condizionameto di A 81429.27286835498\n",
      "Iterazioni Gradiente  10000\n",
      "Iterazioni Gradiente Coniugato  241\n",
      "81429.27286835498\n"
     ]
    },
    {
     "data": {
      "image/png": "[encoded data removed]",
      "text/plain": [
       "<Figure size 640x480 with 1 Axes>"
      ]
     },
     "metadata": {},
     "output_type": "display_data"
    }
   ],
   "source": [
    "n=1000\n",
    "A=creaPoisson(n)\n",
    "print(\"Condizionameto di A\", np.linalg.cond(A))\n",
    "b=np.sum(A,axis=1).reshape(n,1)\n",
    "toll=1e-8\n",
    "it_max=10000\n",
    "n=A.shape[0]\n",
    "x0=np.zeros_like(b)\n",
    "\n",
    "x_gr,vet_r_gr,vec_sol_gr,itG=steepestdescent(A,b,x0,it_max,toll)\n",
    "print(\"Iterazioni Gradiente \",itG)\n",
    "x_cg,vet_r_cg,vec_sol_cg,itCG=conjugate_gradient(A,b,x0,it_max,toll)\n",
    "print(\"Iterazioni Gradiente Coniugato \",itCG)\n",
    "plt.semilogy(np.arange(itG+1),vet_r_gr,np.arange(itCG+1),vet_r_cg)\n",
    "print(np.linalg.cond(A))"
   ]
  }
 ],
 "metadata": {
  "kernelspec": {
   "display_name": "Python 3 (ipykernel)",
   "language": "python",
   "name": "python3"
  },
  "language_info": {
   "codemirror_mode": {
    "name": "ipython",
    "version": 3
   },
   "file_extension": ".py",
   "mimetype": "text/x-python",
   "name": "python",
   "nbconvert_exporter": "python",
   "pygments_lexer": "ipython3",
   "version": "3.11.2"
  }
 },
 "nbformat": 4,
 "nbformat_minor": 5
}
