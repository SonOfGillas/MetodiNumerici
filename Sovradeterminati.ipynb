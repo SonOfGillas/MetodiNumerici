{
 "cells": [
  {
   "cell_type": "code",
   "execution_count": 7,
   "id": "09528be8",
   "metadata": {},
   "outputs": [],
   "source": [
    "# Import dati dalla prof\n",
    "from scipy.io import loadmat\n",
    "import numpy as np\n",
    "import scipy.linalg as spl\n",
    "import RisolviSis as RS\n",
    "import matplotlib.pyplot as plt\n",
    "dati = loadmat('testF.mat')\n",
    "A1 = dati[\"A\"] \n",
    "b1 = dati[\"b\"]\n"
   ]
  },
  {
   "attachments": {},
   "cell_type": "markdown",
   "id": "f031356f",
   "metadata": {},
   "source": [
    "# Equazioni Normali"
   ]
  },
  {
   "cell_type": "code",
   "execution_count": 8,
   "id": "8a484376",
   "metadata": {},
   "outputs": [],
   "source": [
    "# Se la matrice A ha rango massimo ed è ben condizionata.\n",
    "def eqnorm(A, b):\n",
    "\n",
    "    G = A.T @ A\n",
    "\n",
    "    print(\"Indice di condizionamento di G \", np.linalg.cond(G))\n",
    "    f = A.T @ b\n",
    "    L = spl.cholesky(G, lower=True)\n",
    "\n",
    "    y, flag = RisolviSis.Lsolve(L, f)\n",
    "    \n",
    "    if flag == 0:\n",
    "        x, flag = RisolviSis.Usolve(L.T, y)\n",
    "\n",
    "    return x\n"
   ]
  },
  {
   "cell_type": "code",
   "execution_count": null,
   "id": "fc702893",
   "metadata": {},
   "outputs": [],
   "source": []
  },
  {
   "attachments": {},
   "cell_type": "markdown",
   "id": "681298ec",
   "metadata": {},
   "source": [
    "# QRLS"
   ]
  },
  {
   "cell_type": "code",
   "execution_count": 9,
   "id": "53c058eb",
   "metadata": {},
   "outputs": [],
   "source": [
    "# Se A ha rango massimo ed è mediamente mal condizionata.\n",
    "def qrLS(A, b):\n",
    "    n = A.shape[1]\n",
    "    Q, R = spl.qr(A)\n",
    "    \n",
    "    # Risolvo il sistema triangolare superiore: prime n righe e tutte le colonne\n",
    "    # per avere una matrice quadrata\n",
    "    h = Q.T @ b\n",
    "    x, flag = RisolviSis.Usolve(R[0:n, :], h[0:n])\n",
    "    residuo = np.linalg.norm(h[n:])**2\n",
    "\n",
    "    return x, residuo\n"
   ]
  },
  {
   "cell_type": "code",
   "execution_count": null,
   "id": "966044ab",
   "metadata": {},
   "outputs": [],
   "source": []
  },
  {
   "attachments": {},
   "cell_type": "markdown",
   "id": "cc672c47",
   "metadata": {},
   "source": [
    "# SVDLS"
   ]
  },
  {
   "cell_type": "code",
   "execution_count": 10,
   "id": "231c0b48",
   "metadata": {},
   "outputs": [],
   "source": [
    "# Se A non ha rango massimo.\n",
    "def SVDLS(A, b):\n",
    "    n = A.shape[1] # numero di colonne di A\n",
    "    m = A.shape[0] # numero di righe\n",
    "    # Attenzione : Restituisce U, Sigma e VT=VTrasposta)\n",
    "    U, s, VT = spl.svd(A)\n",
    "    V = VT.T\n",
    "    # Calcolo del rango della matrice, numero dei valori singolari maggiori di una soglia\n",
    "    thresh = np.spacing(1) * m * s[0]\n",
    "    k = np.count_nonzero(s > thresh)\n",
    "    \n",
    "    print(k)\n",
    "    if (k < n):\n",
    "        print(\"La matrice non è a rango massimo\")\n",
    "    else:\n",
    "        print(\"La matrice è a rango massimo\")\n",
    "    \n",
    "    d = U.T@b\n",
    "    d1 = d[:k].reshape(k, 1)\n",
    "    s1 = s[:k].reshape(k, 1)\n",
    "    # Risolve il sistema diagonale di dimensione kxk avene come matrice dei coefficienti la matrice Sigma\n",
    "    c = d1/s1\n",
    "    x = V[:, :k] @ c\n",
    "    residuo = np.linalg.norm(d[k:])**2\n",
    "    return x, residuo\n"
   ]
  },
  {
   "cell_type": "code",
   "execution_count": 11,
   "id": "98989828",
   "metadata": {},
   "outputs": [
    {
     "name": "stdout",
     "output_type": "stream",
     "text": [
      "La matrice non è a rango massimo\n",
      "Soluzione nel senso dei minimi quadrati\n",
      "   [[ 8.93308674e-01]\n",
      " [ 5.99593662e-02]\n",
      " [-1.00818890e-04]\n",
      " [ 1.00000000e+00]\n",
      " [ 1.00000000e+00]\n",
      " [ 1.00000000e+00]\n",
      " [ 1.00000000e+00]\n",
      " [ 1.00000000e+00]\n",
      " [ 1.00000000e+00]\n",
      " [ 1.00000000e+00]\n",
      " [ 1.00000000e+00]\n",
      " [ 1.00000000e+00]\n",
      " [ 1.00000000e+00]\n",
      " [ 1.00000000e+00]\n",
      " [ 1.00000000e+00]\n",
      " [ 1.08594726e+00]\n",
      " [ 1.16319260e+00]\n",
      " [ 9.47694272e-01]\n",
      " [ 9.09857191e-01]]\n",
      "residuo  8.36982653034658e-27\n",
      "Norma soluzione  4.130358162106173\n"
     ]
    }
   ],
   "source": [
    "x, residuo = SVDLS(A1, b1)\n",
    "print(\"Soluzione nel senso dei minimi quadrati\\n  \", x)\n",
    "print(\"residuo \", residuo)\n",
    "print(\"Norma soluzione \", np.linalg.norm(x))\n"
   ]
  }
 ],
 "metadata": {
  "kernelspec": {
   "display_name": "Python 3 (ipykernel)",
   "language": "python",
   "name": "python3"
  },
  "language_info": {
   "codemirror_mode": {
    "name": "ipython",
    "version": 3
   },
   "file_extension": ".py",
   "mimetype": "text/x-python",
   "name": "python",
   "nbconvert_exporter": "python",
   "pygments_lexer": "ipython3",
   "version": "3.11.2"
  }
 },
 "nbformat": 4,
 "nbformat_minor": 5
}
