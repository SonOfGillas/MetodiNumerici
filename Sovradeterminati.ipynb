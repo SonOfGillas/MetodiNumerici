{
 "cells": [
  {
   "cell_type": "code",
   "execution_count": 2,
   "id": "09528be8",
   "metadata": {},
   "outputs": [],
   "source": [
    "# Import dati dalla prof\n",
    "from scipy.io import loadmat\n",
    "import numpy as np\n",
    "import scipy.linalg as spl\n",
    "import RisolviSis as RS\n",
    "import matplotlib.pyplot as plt\n",
    "import math\n",
    "dati = loadmat('testF.mat')\n",
    "A1 = dati[\"A\"]\n",
    "b1 = dati[\"b\"]\n"
   ]
  },
  {
   "cell_type": "markdown",
   "id": "f031356f",
   "metadata": {},
   "source": [
    "### Equazioni Normali"
   ]
  },
  {
   "cell_type": "code",
   "execution_count": 4,
   "id": "8a484376",
   "metadata": {},
   "outputs": [],
   "source": [
    "# La risoluzione di un sistema sovradeterminato risulta essere un problema mal posto\n",
    "# in quanto potrebbe accadere che la soluzione non esista o non sia unica. Per\n",
    "# renderlo ben posto lo si riformula come \"risoluzione nel senso dei minimi quadrati\"\n",
    "# Definito un vettore residuo r(x) = Ax - b, cerchiamo una x* che rende minima\n",
    "# la norma 2 al quadrato del residuo.\n",
    "def eqnorm(A, b):\n",
    "\n",
    "    # Se la matrice A ha rango massimo ed è ben condizionata (condizione necessaria)\n",
    "    # possiamo procedere con il metodo delle equazioni normali: poniamo G = A.T @ A,\n",
    "    # matrice simmetrica che viene associata alla x che si vuole cercare andando\n",
    "    # a definire una funzione F(x) per la quale il gradiente si annulli.\n",
    "    # Questa nuova matrice sarà quadrata n x n con determinante diverso da 0.\n",
    "    G = A.T @ A\n",
    "\n",
    "    print(\"Indice di condizionamento di G \", np.linalg.cond(G))\n",
    "\n",
    "    # Il problema descritto precedentemente si può risolvere facilmente grazie alla\n",
    "    # risoluzione del seguente sistema lineare: G x = A.T b. Siccome G è simmetrica\n",
    "    # e definita positiva, il sistema può essere risolto utilizzando il metodo\n",
    "    # di Cholesky. In questo modo sono anche sicuro che il risultato ottenuto sia\n",
    "    # un minimo della funzione F(x).\n",
    "    f = A.T @ b\n",
    "    L = spl.cholesky(G, lower=True)\n",
    "\n",
    "    y, flag = RS.Lsolve(L, f)\n",
    "\n",
    "    if (flag == 0):\n",
    "        x, flag = RS.Usolve(L.T, y)\n",
    "\n",
    "    return x\n"
   ]
  },
  {
   "cell_type": "code",
   "execution_count": 11,
   "id": "fc702893",
   "metadata": {},
   "outputs": [
    {
     "data": {
      "text/plain": [
       "' sol = eqnorm(A1, b1)\\nprint(\"Soluzione nel senso dei minimi quadrati:\\n  \", sol)\\nprint(\"Norma soluzione: \", np.linalg.norm(sol))\\n\\n# Di quanto ci discostiamo dalla soluzione esatta?\\nx_esatta = np.ones_like(sol)\\nerr = np.linalg.norm(sol - x_esatta) / np.linalg.norm(x_esatta)\\nprint(\"Errore soluzione Eqnorm: \", err * 100) '"
      ]
     },
     "execution_count": 11,
     "metadata": {},
     "output_type": "execute_result"
    }
   ],
   "source": [
    "# La soluzione del problema dei minimi quadrati mediante equazioni normali richiede\n",
    "# solo che la matrice A del sistema sovradeterminato A x = b abbia rango massimo.\n",
    "# L’idea è di individuare una trasformazione ortogonale che, applicata al residuo\n",
    "# r = Ax-b, lo trasformi in modo tale da rendere più facile la soluzione del problema\n",
    "# di minimizzarne la norma: le trasformazioni ortogonali lasciano inalterata la\n",
    "# norma 2 di un vettore.\n",
    "\n",
    "\"\"\" sol = eqnorm(A1, b1)\n",
    "print(\"Soluzione nel senso dei minimi quadrati:\\n  \", sol)\n",
    "print(\"Norma soluzione: \", np.linalg.norm(sol))\n",
    "\n",
    "# Di quanto ci discostiamo dalla soluzione esatta?\n",
    "x_esatta = np.ones_like(sol)\n",
    "err = np.linalg.norm(sol - x_esatta) / np.linalg.norm(x_esatta)\n",
    "print(\"Errore soluzione Eqnorm: \", err * 100) \"\"\"\n"
   ]
  },
  {
   "cell_type": "markdown",
   "id": "681298ec",
   "metadata": {},
   "source": [
    "### QRLS"
   ]
  },
  {
   "cell_type": "code",
   "execution_count": 5,
   "id": "53c058eb",
   "metadata": {},
   "outputs": [],
   "source": [
    "# La risoluzione di un sistema sovradeterminato risulta essere un problema mal posto\n",
    "# in quanto potrebbe accadere che la soluzione non esista o non sia unica. Per\n",
    "# renderlo ben posto lo si riformula come \"risoluzione nel senso dei minimi quadrati\"\n",
    "# Definito un vettore residuo r(x) = Ax - b, cerchiamo una x* che rende minima\n",
    "# la norma 2 al quadrato del residuo.\n",
    "# Se A ha rango massimo ed è mediamente mal condizionata si può usare il metodo QR\n",
    "# per la soluzione del problema dei minimi quadrati, calcolando i due fattori Q\n",
    "# ed R di A, lavorando sempre solo sulla matrice A, senza dover passare alla matrice\n",
    "# A.T @ A che è molto più mal condizionata e sfruttando una fattorizzazione abbastanza\n",
    "# stabile. Sotto queste condizioni il risultato sarà molto più preciso di altri metodi.\n",
    "def QRLS(A, b):\n",
    "    n = A.shape[1]\n",
    "    Q, R = spl.qr(A)\n",
    "\n",
    "    # Risolvo il sistema triangolare superiore: prime n righe e tutte le colonne\n",
    "    # per avere una matrice quadrata\n",
    "    h = Q.T @ b\n",
    "    x, flag = RS.Usolve(R[0:n, :], h[0:n])\n",
    "    residuo = np.linalg.norm(h[n:])**2\n",
    "\n",
    "    return x, residuo\n"
   ]
  },
  {
   "cell_type": "code",
   "execution_count": null,
   "id": "966044ab",
   "metadata": {},
   "outputs": [],
   "source": [
    "sol, residuo = QRLS(A1, b1)\n",
    "print(\"Soluzione nel senso dei minimi quadrati:\\n  \", sol)\n",
    "print(\"Residuo: \", residuo)\n",
    "print(\"Norma soluzione: \", np.linalg.norm(sol))\n",
    "\n",
    "# Di quanto ci discostiamo dalla soluzione esatta?\n",
    "x_esatta = np.ones_like(sol)\n",
    "err = np.linalg.norm(sol - x_esatta) / np.linalg.norm(x_esatta)\n",
    "print(\"Errore soluzione QRLS: \", err * 100)\n"
   ]
  },
  {
   "cell_type": "markdown",
   "id": "cc672c47",
   "metadata": {},
   "source": [
    "### SVDLS"
   ]
  },
  {
   "cell_type": "code",
   "execution_count": 6,
   "id": "231c0b48",
   "metadata": {},
   "outputs": [],
   "source": [
    "# La risoluzione di un sistema sovradeterminato risulta essere un problema mal posto\n",
    "# in quanto potrebbe accadere che la soluzione non esista o non sia unica. Per\n",
    "# renderlo ben posto lo si riformula come \"risoluzione nel senso dei minimi quadrati\"\n",
    "# Definito un vettore residuo r(x) = Ax - b, cerchiamo una x* che rende minima\n",
    "# la norma 2 al quadrato del residuo.\n",
    "# Se A non ha rango massimo si sfrutta il metodo di decomposizione ai valori singolari,\n",
    "# secondo il quale la matrice A viene decomposto in due vettori U e V.T detti rispettivamente\n",
    "# vettori singolari sinistri e destri per cui valgono le seguenti proprietà:\n",
    "# - tutti i valori singolari sono reali >= 0\n",
    "# - il rapporto tra il massimo e il minimo dei singolari ci dà l'indice di condizionamento\n",
    "#   di A\n",
    "# - i valori singolari non nulli ci dicono quale é il rango di A.\n",
    "# - il primo dei valori singolari é sempre il massimo.\n",
    "def SVDLS(A, b):\n",
    "    n = A.shape[1]  # numero di colonne di A\n",
    "    m = A.shape[0]  # numero di righe\n",
    "\n",
    "    # La decomposizione di A\n",
    "    U, s, V_T = spl.svd(A)\n",
    "    V = V_T.T\n",
    "\n",
    "    # Calcolo del rango della matrice, numero dei valori singolari maggiori di una soglia\n",
    "    thresh = np.spacing(1) * m * s[0]\n",
    "    k = np.count_nonzero(s > thresh)\n",
    "\n",
    "    # Controllo sul rango\n",
    "    print(\"Rango: \", k)\n",
    "    if (k < n):\n",
    "        print(\"La matrice non è a rango massimo\")\n",
    "    else:\n",
    "        print(\"La matrice è a rango massimo\")\n",
    "\n",
    "    # La condizione aggiuntiva che inseriamo per risolvere il problema dei minimi\n",
    "    # quadrati: minimizzo il residuo cercando una soluzione fra le infinite di\n",
    "    # norma minima.\n",
    "    d = U.T @ b\n",
    "    d1 = d[:k].reshape(k, 1)\n",
    "    s1 = s[:k].reshape(k, 1)\n",
    "    # Risolve il sistema diagonale di dimensione kxk avene come matrice dei\n",
    "    # coefficienti la matrice Sigma.\n",
    "    c = d1 / s1\n",
    "    x = V[:, :k] @ c\n",
    "    residuo = np.linalg.norm(d[k:])**2\n",
    "    return x, residuo\n"
   ]
  },
  {
   "cell_type": "code",
   "execution_count": null,
   "id": "98989828",
   "metadata": {},
   "outputs": [],
   "source": [
    "sol, residuo = SVDLS(A1, b1)\n",
    "print(\"Soluzione nel senso dei minimi quadrati:\\n  \", sol)\n",
    "print(\"Residuo: \", residuo)\n",
    "print(\"Norma soluzione: \", np.linalg.norm(sol))\n",
    "\n",
    "# Di quanto ci discostiamo dalla soluzione esatta?\n",
    "x_esatta = np.ones_like(sol)\n",
    "err = np.linalg.norm(sol - x_esatta) / np.linalg.norm(x_esatta)\n",
    "print(\"Errore soluzione SVDLS: \", err * 100)\n"
   ]
  },
  {
   "cell_type": "markdown",
   "id": "10da6cbb",
   "metadata": {},
   "source": [
    "### Confronti"
   ]
  },
  {
   "cell_type": "code",
   "execution_count": 7,
   "id": "fe990d4b",
   "metadata": {},
   "outputs": [
    {
     "name": "stdout",
     "output_type": "stream",
     "text": [
      "Condizionamento di A:  356547012997.1385\n",
      "Indice di condizionamento di G  1.7553532258796628e+20\n",
      "Errore eqn 0.0015167608393093837 %\n",
      "Errore qr 0.0001793601604944298 %\n",
      "Rango:  5\n",
      "La matrice è a rango massimo\n",
      "Errore svd 0.00017936005855011229 %\n"
     ]
    },
    {
     "data": {
      "image/png": "[encoded data removed]",
      "text/plain": [
       "<Figure size 432x288 with 1 Axes>"
      ]
     },
     "metadata": {
      "needs_background": "light"
     },
     "output_type": "display_data"
    }
   ],
   "source": [
    "# Vediamo quanto è precisa l'approssimazione con ogni algoritmo.\n",
    "x = np.arange(10, 10.6, 0.5 / 5)\n",
    "y = np.array([11.0320, 11.1263, 11.1339, 11.1339, 11.1993, 11.1844])\n",
    "\n",
    "# Grado del polinomio e gradi di libertà.\n",
    "n = 4\n",
    "n1 = n + 1\n",
    "A = np.vander(x, increasing=True)[:, :n1]\n",
    "\n",
    "# Indice di condizionamento della matrice.\n",
    "condA = np.linalg.cond(A)\n",
    "print(\"Condizionamento di A: \", condA)\n",
    "xv = np.linspace(np.min(x), np.max(x), 100)\n",
    "\n",
    "# Con il metodo delle equazioni normali.\n",
    "alpha_eqn = eqnorm(A, y)\n",
    "pol_eqn = np.polyval(np.flip(alpha_eqn), xv)\n",
    "errore_eqn = np.linalg.norm(y - np.polyval(np.flip(alpha_eqn), x))**2\n",
    "plt.plot(xv, pol_eqn, x, y, 'ro')\n",
    "print(\"Errore eqn\", errore_eqn, \"%\")\n",
    "\n",
    "# Con il metodo QRLS.\n",
    "alpha_qr, residuo_qr = QRLS(A, y)\n",
    "pol_qr = np.polyval(np.flip(alpha_qr), xv)\n",
    "plt.plot(xv, pol_qr, 'b')\n",
    "print(\"Errore qr\", residuo_qr, \"%\")\n",
    "\n",
    "# Con il metodo SVDLS.\n",
    "alpha_svd, residuo_svd = SVDLS(A, y)\n",
    "pol_svd = np.polyval(np.flip(alpha_svd), xv)\n",
    "plt.plot(xv, pol_svd, 'm--')\n",
    "print(\"Errore svd\", residuo_svd, \"%\")\n",
    "\n",
    "# A causa dell'elevato mal condizionamento di G il metodo delle\n",
    "# equazioni normali non approssima i dati in maniera accurata. Gli\n",
    "# altri due metodi sono invece più precisi.\n",
    "plt.legend(['Equazioni Normali', 'Osservazioni', 'QRLS', 'SVDLS'])\n",
    "plt.show()\n"
   ]
  },
  {
   "cell_type": "markdown",
   "id": "9c3fcd4f",
   "metadata": {},
   "source": [
    "### Approssimazioni di dati sperimentali: cerchio"
   ]
  },
  {
   "cell_type": "code",
   "execution_count": 12,
   "id": "61da2177",
   "metadata": {},
   "outputs": [
    {
     "name": "stdout",
     "output_type": "stream",
     "text": [
      "Rango:  3\n",
      "La matrice è a rango massimo\n",
      "Norma 2 al quadrato dell'errore  36.698412698412625\n"
     ]
    },
    {
     "data": {
      "text/plain": [
       "(-1.0609720865369214, 6.681792039720544, -0.994885297355498, 6.748853551323755)"
      ]
     },
     "execution_count": 12,
     "metadata": {},
     "output_type": "execute_result"
    },
    {
     "data": {
      "image/png": "[encoded data removed]",
      "text/plain": [
       "<Figure size 432x288 with 1 Axes>"
      ]
     },
     "metadata": {
      "needs_background": "light"
     },
     "output_type": "display_data"
    }
   ],
   "source": [
    "# Dati un insieme di punti\n",
    "px = np.array([0, 4, 0, 5])\n",
    "py = np.array([0, 0, 4, 6])\n",
    "\n",
    "# Costruisco il sistema lineare sovradeterminato come richiesto:\n",
    "# A matrice dei coefficienti e b dato dai termini noti.\n",
    "A = np.array([[0, 0, 1], [4, 0, 1], [0, 4, 1], [5, 6, 1]])\n",
    "b = np.array([[0], [-16], [-16], [-61]])\n",
    "\n",
    "# Applico l'algoritmo.\n",
    "a, err = SVDLS(A, b)\n",
    "print(\"Norma 2 al quadrato dell'errore \", err)\n",
    "\n",
    "# Calcolo il centro\n",
    "cx = -a[0]/2\n",
    "cy = -a[1]/2\n",
    "\n",
    "# Calcolo il raggio con la formula data\n",
    "r = math.sqrt((a[0]**2) / 4 + (a[1]**2) / 4 - a[2])\n",
    "t = np.linspace(0, 2 * math.pi, 100)\n",
    "\n",
    "# Costruisco le due componenti parametriche della circonferemza\n",
    "x = cx + r * np.cos(t)\n",
    "y = cy + r * np.sin(t)\n",
    "plt.plot(x, y, 'r-')\n",
    "plt.plot(px, py, 'go')\n",
    "plt.axis('equal')\n"
   ]
  },
  {
   "cell_type": "markdown",
   "id": "60e4780b",
   "metadata": {},
   "source": [
    "### Approssimazioni di dati sperimentali: miglior approssimazione"
   ]
  },
  {
   "cell_type": "code",
   "execution_count": 14,
   "id": "52c215b9",
   "metadata": {},
   "outputs": [
    {
     "name": "stdout",
     "output_type": "stream",
     "text": [
      "[[1.00000000e+00 9.99600080e-01 9.99200320e-01 9.98800720e-01]\n",
      " [1.00000000e+00 7.78255813e-01 6.05682111e-01 4.71375624e-01]\n",
      " [1.00000000e+00 6.06045629e-01 3.67291305e-01 2.22595290e-01]\n",
      " [1.00000000e+00 1.35240582e-01 1.82900149e-02 2.47355226e-03]\n",
      " [1.00000000e+00 3.35026810e-04 1.12242963e-07 3.76044019e-11]]\n",
      "Rango di M ----> 4\n",
      "Con Condizionamento M -->  114.47174272768642\n",
      "Rango di A1 ---> 2\n",
      "Condizionamento di A1--->  4.663457775986457\n",
      "Indice di condizionamento di G  21.747838428408542\n",
      "Rango di A2 3\n",
      "Condizionamento di A2  65.6749352562479\n",
      "quadrato residuo exp 1.0354563483156568e-05\n",
      "quadrato residuo pol grado 2  0.0002364635594024983\n"
     ]
    },
    {
     "data": {
      "text/plain": [
       "<matplotlib.legend.Legend at 0x1ab19f21b50>"
      ]
     },
     "execution_count": 14,
     "metadata": {},
     "output_type": "execute_result"
    },
    {
     "data": {
      "image/png": "[encoded data removed]",
      "text/plain": [
       "<Figure size 432x288 with 1 Axes>"
      ]
     },
     "metadata": {
      "needs_background": "light"
     },
     "output_type": "display_data"
    }
   ],
   "source": [
    "m = 5\n",
    "x4 = np.array([0.0004, 0.2507, 0.5008, 2.0007, 8.0013]) #[0.001, 0.08, 0.3, 0.6, 2.8 ]\n",
    "y4 = np.array([0.0007, 0.0162, 0.0288, 0.0309, 0.0310])\n",
    "M = np.zeros((5, 4))\n",
    "M[:, 0] = np.ones((5,))\n",
    "M[:, 1] = np.exp(-x4)\n",
    "M[:, 2] = np.exp(-2 * x4)\n",
    "M[:, 3] = np.exp(-3 * x4)\n",
    "\n",
    "print(M)\n",
    "\n",
    "print('Rango di M ---->', np.linalg.matrix_rank(M))\n",
    "print(\"Con Condizionamento M --> \", np.linalg.cond(M))\n",
    "\n",
    "# La matrice M è a rango massimo, ha condizionamento 18.45, quindi la marice G delle equazioni\n",
    "# normali (di dimensioni 4x4) avrebbe indice\n",
    "# di condizionamento circa 343. Utilizzo il metodo\n",
    "aexp, resexp = QRLS(M, y4)\n",
    "xx = np.linspace(np.min(x4), np.max(x4), 200)\n",
    "polexp = aexp[0]+aexp[1]*np.exp(-xx)+aexp[2]*np.exp(-2*xx)+aexp[3]*np.exp(-3 * xx)\n",
    "\n",
    "# Calcolo del polinomio approssimante di grado 1\n",
    "n = 1\n",
    "n1 = n+1\n",
    "A1 = np.vander(x4, increasing=True)[:, :n1]\n",
    "print('Rango di A1 --->', np.linalg.matrix_rank(A1))\n",
    "print(\"Condizionamento di A1---> \", np.linalg.cond(A1))\n",
    "\n",
    "# Matrice a rango massimo e ben condizionata: uso le equazioni normali\n",
    "alpha1 = eqnorm(A1, y4)\n",
    "pol1 = np.polyval(np.flip(alpha1), xx)\n",
    "\n",
    "# Parabola approssimante\n",
    "n = 2\n",
    "n1 = n+1\n",
    "A2 = np.vander(x4, increasing=True)[:, :n1]\n",
    "print('Rango di A2', np.linalg.matrix_rank(A2))\n",
    "print(\"Condizionamento di A2 \", np.linalg.cond(A2))\n",
    "\n",
    "# Matrice a rango massimo e mediamente mal condizionata: uso qr\n",
    "alpha2, res2 = QRLS(A2, y4)\n",
    "pol2 = np.polyval(np.flip(alpha2), xx)\n",
    "print(\"quadrato residuo exp\", resexp)\n",
    "print(\"quadrato residuo pol grado 2 \", res2)\n",
    "\n",
    "plt.plot(x4, y4, 'ro', xx, polexp, 'b--', xx, pol1, 'g:', xx, pol2, 'm-')\n",
    "plt.legend(['Osservazioni', 'Esponenziale',\n",
    "           'Polinomio grado 1', 'Polinomio grado 2'])\n"
   ]
  },
  {
   "cell_type": "code",
   "execution_count": null,
   "id": "8d03383e-1b29-4a42-a213-19d1a88c38f8",
   "metadata": {},
   "outputs": [],
   "source": []
  }
 ],
 "metadata": {
  "kernelspec": {
   "display_name": "Python 3 (ipykernel)",
   "language": "python",
   "name": "python3"
  },
  "language_info": {
   "codemirror_mode": {
    "name": "ipython",
    "version": 3
   },
   "file_extension": ".py",
   "mimetype": "text/x-python",
   "name": "python",
   "nbconvert_exporter": "python",
   "pygments_lexer": "ipython3",
   "version": "3.9.7"
  }
 },
 "nbformat": 4,
 "nbformat_minor": 5
}
