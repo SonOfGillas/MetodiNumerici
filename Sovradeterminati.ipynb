{
 "cells": [
  {
   "attachments": {},
   "cell_type": "markdown",
   "id": "f031356f",
   "metadata": {},
   "source": [
    "# Equazioni Normali"
   ]
  },
  {
   "cell_type": "code",
   "execution_count": null,
   "id": "8a484376",
   "metadata": {},
   "outputs": [],
   "source": [
    "# Se la matrice A ha rango massimo ed è ben condizionata.\n",
    "def eqnorm(A, b):\n",
    "\n",
    "    G = A.T @ A\n",
    "\n",
    "    print(\"Indice di condizionamento di G \", np.linalg.cond(G))\n",
    "    f = A.T @ b\n",
    "    L = spLin.cholesky(G, lower=True)\n",
    "\n",
    "    y, flag = RisolviSis.Lsolve(L, f)\n",
    "    \n",
    "    if flag == 0:\n",
    "        x, flag = RisolviSis.Usolve(L.T, y)\n",
    "\n",
    "    return x\n"
   ]
  },
  {
   "cell_type": "code",
   "execution_count": null,
   "id": "fc702893",
   "metadata": {},
   "outputs": [],
   "source": []
  },
  {
   "attachments": {},
   "cell_type": "markdown",
   "id": "681298ec",
   "metadata": {},
   "source": [
    "# QRLS"
   ]
  },
  {
   "cell_type": "code",
   "execution_count": null,
   "id": "53c058eb",
   "metadata": {},
   "outputs": [],
   "source": [
    "# Se A ha rango massimo ed è mediamente mal condizionata.\n",
    "def qrLS(A, b):\n",
    "    n = A.shape[1]\n",
    "    Q, R = spLin.qr(A)\n",
    "    \n",
    "    # Risolvo il sistema triangolare superiore: prime n righe e tutte le colonne\n",
    "    # per avere una matrice quadrata\n",
    "    h = Q.T @ b\n",
    "    x, flag = RisolviSis.Usolve(R[0:n, :], h[0:n])\n",
    "    residuo = np.linalg.norm(h[n:])**2\n",
    "\n",
    "    return x, residuo\n"
   ]
  },
  {
   "cell_type": "code",
   "execution_count": null,
   "id": "966044ab",
   "metadata": {},
   "outputs": [],
   "source": []
  },
  {
   "attachments": {},
   "cell_type": "markdown",
   "id": "cc672c47",
   "metadata": {},
   "source": [
    "# SVDLS"
   ]
  },
  {
   "cell_type": "code",
   "execution_count": null,
   "id": "231c0b48",
   "metadata": {},
   "outputs": [],
   "source": [
    "# Se A non ha rango massimo.\n",
    "def SVDLS(A, b):\n",
    "    n = A.shape[1]  # numero di colonne di A\n",
    "    # Attenzione : Restituisce U, Sigma e VT=VTrasposta)\n",
    "    U, s, VT = spLin.svd(A)\n",
    "    V = VT.T\n",
    "    # Calcolo del rango della matrice, numero dei valori singolari maggiori di una soglia\n",
    "    thresh = np.spacing(1)*m*s[0]\n",
    "    k = np.count_nonzero(s > thresh)\n",
    "    print(\"rango=\", k)\n",
    "    d = U.T@b\n",
    "    d1 = d[:k].reshape(k, 1)\n",
    "    s1 = s[:k].reshape(k, 1)\n",
    "    # Risolve il sistema diagonale di dimensione kxk avene come matrice dei coefficienti la matrice Sigma\n",
    "    c = d1/s1\n",
    "    x = V[:, :k]@c\n",
    "    residuo = np.linalg.norm(d[k:])**2\n",
    "    return x, residuo\n"
   ]
  },
  {
   "cell_type": "code",
   "execution_count": null,
   "id": "98989828",
   "metadata": {},
   "outputs": [],
   "source": []
  }
 ],
 "metadata": {
  "kernelspec": {
   "display_name": "Python 3 (ipykernel)",
   "language": "python",
   "name": "python3"
  },
  "language_info": {
   "codemirror_mode": {
    "name": "ipython",
    "version": 3
   },
   "file_extension": ".py",
   "mimetype": "text/x-python",
   "name": "python",
   "nbconvert_exporter": "python",
   "pygments_lexer": "ipython3",
   "version": "3.11.2"
  }
 },
 "nbformat": 4,
 "nbformat_minor": 5
}
