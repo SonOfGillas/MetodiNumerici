{
 "cells": [
  {
   "cell_type": "code",
   "execution_count": 1,
   "id": "4fb9c8bd-7f4e-4c62-a740-f261d308927b",
   "metadata": {
    "tags": []
   },
   "outputs": [],
   "source": [
    "# Import dati dalla prof\n",
    "import numpy as np\n",
    "import sympy as sym\n",
    "from sympy.utilities.lambdify import lambdify\n",
    "import RisolviSis as RS\n",
    "import matplotlib.pyplot as plt\n"
   ]
  },
  {
   "attachments": {},
   "cell_type": "markdown",
   "id": "26a2fa75",
   "metadata": {},
   "source": [
    "### Scrivere una funzione simbolica"
   ]
  },
  {
   "cell_type": "code",
   "execution_count": 2,
   "id": "6907172a",
   "metadata": {},
   "outputs": [],
   "source": [
    "def f(x): \n",
    "    return 1 / x - 1 / (x + 0.04)\n",
    "\n",
    "# utilizzo 10.0 per avere un numpy array x con dtype float.\n",
    "x = 10.0**np.arange(21)\n",
    "fx = f(x)\n"
   ]
  },
  {
   "attachments": {},
   "cell_type": "markdown",
   "id": "8d265848",
   "metadata": {},
   "source": [
    "### Indice di condizionamento"
   ]
  },
  {
   "cell_type": "code",
   "execution_count": 3,
   "id": "c3d3b637",
   "metadata": {},
   "outputs": [
    {
     "name": "stdout",
     "output_type": "stream",
     "text": [
      "Derivata: (s + 0.04)**(-2) - 1/s**2\n",
      " x  \n",
      " [1.e+00 1.e+01 1.e+02 1.e+03 1.e+04 1.e+05 1.e+06 1.e+07 1.e+08 1.e+09\n",
      " 1.e+10 1.e+11 1.e+12 1.e+13 1.e+14 1.e+15 1.e+16 1.e+17 1.e+18 1.e+19\n",
      " 1.e+20]\n",
      " spacing  \n",
      " [2.22044605e-16 1.77635684e-15 1.42108547e-14 1.13686838e-13\n",
      " 1.81898940e-12 1.45519152e-11 1.16415322e-10 1.86264515e-09\n",
      " 1.49011612e-08 1.19209290e-07 1.90734863e-06 1.52587891e-05\n",
      " 1.22070312e-04 1.95312500e-03 1.56250000e-02 1.25000000e-01\n",
      " 2.00000000e+00 1.60000000e+01 1.28000000e+02 2.04800000e+03\n",
      " 1.63840000e+04]\n",
      "condizionamento  [1.96153846 1.99601594 1.99960016 1.99996    1.999996   1.9999996\n",
      " 1.99999996 2.00000006 1.99999999 2.00000257 2.00000086 2.00052087\n",
      " 2.00731911 1.98035137 2.13162821        inf        inf        inf\n",
      "        nan        nan        nan]\n"
     ]
    },
    {
     "name": "stderr",
     "output_type": "stream",
     "text": [
      "C:\\Users\\andre\\AppData\\Local\\Temp\\ipykernel_24880\\4116767192.py:9: RuntimeWarning: divide by zero encountered in divide\n",
      "  condizionamento = np.abs(df_numerica(x) * x / f_numerica(x))\n",
      "C:\\Users\\andre\\AppData\\Local\\Temp\\ipykernel_24880\\4116767192.py:9: RuntimeWarning: invalid value encountered in divide\n",
      "  condizionamento = np.abs(df_numerica(x) * x / f_numerica(x))\n"
     ]
    }
   ],
   "source": [
    "s = sym.symbols('s')\n",
    "fs = 1 / s - 1 / (s + 0.04)\n",
    "dfs = sym.diff(fs, s, 1)\n",
    "print(\"Derivata: {}\".format(dfs))\n",
    "\n",
    "df_numerica = lambdify(s, dfs, np)\n",
    "f_numerica = lambdify(s, fs, np)\n",
    "\n",
    "condizionamento = np.abs(df_numerica(x) * x / f_numerica(x))\n",
    "spacing = np.spacing(x)\n",
    "print(\" x \", '\\n', x)\n",
    "print(\" spacing \", '\\n', spacing)\n",
    "print(\"condizionamento \", condizionamento)\n",
    "# Si nota che per x da 10**15 in avanti, l'indice di condizionamento esplode.\n",
    "# Ricavare perchè per questo valore di x si ha questa situazione, ricorrendo\n",
    "# ad un'analisi dello valore di spacing per ciascun valore di x. Si vede\n",
    "# che per l'intervallo dell'asse reale a cui x=10**15 appartiene\n",
    "# lo spacing è 0.125, quindi quando a x=10**15 si somma il valore 0.04 che\n",
    "# è più grande dello spacing, allora 1/(x+0.04) diventa 1/x e quindi l'operazione\n",
    "# differenza produce un valore nullo per f.\n",
    "# Parlare dell'insieme dei numeri finiti, da cosa dipende, come sono distrbuiti\n",
    "# i numeri reali sull'intero asse reale e come sono distributi per\n",
    "# ciascuna potenza della base [beta^p, beta^(p+1)]. Cosa si intende per spacing\n",
    "# Dire cosa è l'indice di condizionamento e cosa misura.\n"
   ]
  },
  {
   "attachments": {},
   "cell_type": "markdown",
   "id": "3850e9ed",
   "metadata": {},
   "source": [
    "### Stabilita'"
   ]
  },
  {
   "cell_type": "code",
   "execution_count": 4,
   "id": "cac4915f",
   "metadata": {},
   "outputs": [
    {
     "name": "stdout",
     "output_type": "stream",
     "text": [
      "Errore sui dati  0.1\n",
      "Errore sui risultati  0.3333333333333333\n"
     ]
    }
   ],
   "source": [
    "xx = 1e14\n",
    "fxx = f(xx)\n",
    "xxp = xx + 0.1 * xx\n",
    "err_d = abs(xx-xxp) / abs(xx)\n",
    "fxxp = f(xxp)\n",
    "err_f = abs(fxxp-fxx) / abs(fxx)\n",
    "print(\"Errore sui dati \", err_d)\n",
    "print(\"Errore sui risultati \", err_f)\n"
   ]
  },
  {
   "attachments": {},
   "cell_type": "markdown",
   "id": "d82f0192",
   "metadata": {},
   "source": [
    "### Formulazione stabile"
   ]
  },
  {
   "cell_type": "code",
   "execution_count": null,
   "id": "2dd55c32",
   "metadata": {},
   "outputs": [],
   "source": [
    "def g(x): \n",
    "    return 0.04/(x*(x+0.04))\n",
    "\n",
    "# Calcoliamo l'errore relativo di f(x) rispetto alla formula equivalente ma numericamente stabile g(x)\n",
    "Erelx = np.abs(f(x)-g(x))/np.abs(g(x))\n",
    "print(\"Errore relativo \", Erelx)\n",
    "plt.loglog(x, Erelx, 'b-')\n"
   ]
  }
 ],
 "metadata": {
  "kernelspec": {
   "display_name": "Python 3 (ipykernel)",
   "language": "python",
   "name": "python3"
  },
  "language_info": {
   "codemirror_mode": {
    "name": "ipython",
    "version": 3
   },
   "file_extension": ".py",
   "mimetype": "text/x-python",
   "name": "python",
   "nbconvert_exporter": "python",
   "pygments_lexer": "ipython3",
   "version": "3.11.2"
  }
 },
 "nbformat": 4,
 "nbformat_minor": 5
}
