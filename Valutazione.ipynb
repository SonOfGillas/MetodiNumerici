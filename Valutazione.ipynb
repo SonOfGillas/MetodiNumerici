{
 "cells": [
  {
   "cell_type": "code",
   "execution_count": 1,
   "id": "4fb9c8bd-7f4e-4c62-a740-f261d308927b",
   "metadata": {
    "tags": []
   },
   "outputs": [],
   "source": [
    "# Import dati dalla prof\n",
    "import numpy as np\n",
    "import sympy as sym\n",
    "from sympy.utilities.lambdify import lambdify\n",
    "import RisolviSis as RS\n",
    "import matplotlib.pyplot as plt\n"
   ]
  },
  {
   "attachments": {},
   "cell_type": "markdown",
   "id": "26a2fa75",
   "metadata": {},
   "source": [
    "### Scrivere una funzione simbolica"
   ]
  },
  {
   "cell_type": "code",
   "execution_count": 2,
   "id": "6907172a",
   "metadata": {},
   "outputs": [],
   "source": [
    "def f(x): \n",
    "    return 1 / x - 1 / (x + 0.04)\n",
    "\n",
    "# utilizzo 10.0 per avere un numpy array x con dtype float.\n",
    "x = 10.0**np.arange(21)\n",
    "fx = f(x)\n"
   ]
  }
 ],
 "metadata": {
  "kernelspec": {
   "display_name": "Python 3 (ipykernel)",
   "language": "python",
   "name": "python3"
  },
  "language_info": {
   "codemirror_mode": {
    "name": "ipython",
    "version": 3
   },
   "file_extension": ".py",
   "mimetype": "text/x-python",
   "name": "python",
   "nbconvert_exporter": "python",
   "pygments_lexer": "ipython3",
   "version": "3.11.2"
  }
 },
 "nbformat": 4,
 "nbformat_minor": 5
}
