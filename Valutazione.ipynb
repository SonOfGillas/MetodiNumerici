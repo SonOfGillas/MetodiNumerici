{
 "cells": [
  {
   "cell_type": "code",
   "execution_count": null,
   "id": "4fb9c8bd-7f4e-4c62-a740-f261d308927b",
   "metadata": {
    "tags": []
   },
   "outputs": [],
   "source": [
    "# Import dati dalla prof\n",
    "import numpy as np\n",
    "import sympy as sym\n",
    "from sympy.utilities.lambdify import lambdify\n",
    "import RisolviSis as RS\n",
    "import matplotlib.pyplot as plt\n"
   ]
  },
  {
   "attachments": {},
   "cell_type": "markdown",
   "id": "26a2fa75",
   "metadata": {},
   "source": [
    "### Scrivere una funzione simbolica"
   ]
  },
  {
   "cell_type": "code",
   "execution_count": null,
   "id": "6907172a",
   "metadata": {},
   "outputs": [],
   "source": [
    "def f(x): \n",
    "    return 1 / x - 1 / (x + 0.04)\n",
    "\n",
    "# utilizzo 10.0 per avere un numpy array x con dtype float.\n",
    "x = 10.0**np.arange(21)\n",
    "fx = f(x)\n"
   ]
  },
  {
   "attachments": {},
   "cell_type": "markdown",
   "id": "8d265848",
   "metadata": {},
   "source": [
    "### Indice di condizionamento"
   ]
  },
  {
   "cell_type": "code",
   "execution_count": null,
   "id": "c3d3b637",
   "metadata": {},
   "outputs": [],
   "source": [
    "s = sym.symbols('s')\n",
    "fs = 1 / s - 1 / (s + 0.04)\n",
    "dfs = sym.diff(fs, s, 1)\n",
    "print(\"Derivata: {}\".format(dfs))\n",
    "\n",
    "df_numerica = lambdify(s, dfs, np)\n",
    "f_numerica = lambdify(s, fs, np)\n",
    "\n",
    "condizionamento = np.abs(df_numerica(x) * x / f_numerica(x))\n",
    "spacing = np.spacing(x)\n",
    "print(\" x \", '\\n', x)\n",
    "print(\" spacing \", '\\n', spacing)\n",
    "print(\"condizionamento \", condizionamento)\n",
    "# Si nota che per x da 10**15 in avanti, l'indice di condizionamento esplode.\n",
    "# Ricavare perchè per questo valore di x si ha questa situazione, ricorrendo\n",
    "# ad un'analisi dello valore di spacing per ciascun valore di x. Si vede\n",
    "# che per l'intervallo dell'asse reale a cui x=10**15 appartiene\n",
    "# lo spacing è 0.125, quindi quando a x=10**15 si somma il valore 0.04 che\n",
    "# è più grande dello spacing, allora 1/(x+0.04) diventa 1/x e quindi l'operazione\n",
    "# differenza produce un valore nullo per f.\n",
    "# Parlare dell'insieme dei numeri finiti, da cosa dipende, come sono distrbuiti\n",
    "# i numeri reali sull'intero asse reale e come sono distributi per\n",
    "# ciascuna potenza della base [beta^p, beta^(p+1)]. Cosa si intende per spacing\n",
    "# Dire cosa è l'indice di condizionamento e cosa misura.\n"
   ]
  },
  {
   "attachments": {},
   "cell_type": "markdown",
   "id": "3850e9ed",
   "metadata": {},
   "source": [
    "### Stabilita'"
   ]
  },
  {
   "cell_type": "code",
   "execution_count": null,
   "id": "cac4915f",
   "metadata": {},
   "outputs": [],
   "source": [
    "xx = 1e14\n",
    "fxx = f(xx)\n",
    "xxp = xx + 0.1 * xx\n",
    "err_d = abs(xx-xxp) / abs(xx)\n",
    "fxxp = f(xxp)\n",
    "err_f = abs(fxxp-fxx) / abs(fxx)\n",
    "print(\"Errore sui dati \", err_d)\n",
    "print(\"Errore sui risultati \", err_f)\n"
   ]
  },
  {
   "attachments": {},
   "cell_type": "markdown",
   "id": "d82f0192",
   "metadata": {},
   "source": [
    "### Formulazione stabile"
   ]
  },
  {
   "cell_type": "code",
   "execution_count": null,
   "id": "2dd55c32",
   "metadata": {},
   "outputs": [],
   "source": [
    "def g(x): \n",
    "    return 0.04 / (x * (x + 0.04))\n",
    "\n",
    "# Calcoliamo l'errore relativo di f(x) rispetto alla formula equivalente ma numericamente stabile g(x)\n",
    "Erelx = np.abs(f(x) - g(x)) / np.abs(g(x))\n",
    "print(\"Errore relativo \", Erelx)\n",
    "plt.loglog(x, Erelx, 'b-')\n"
   ]
  }
 ],
 "metadata": {
  "kernelspec": {
   "display_name": "Python 3 (ipykernel)",
   "language": "python",
   "name": "python3"
  },
  "language_info": {
   "codemirror_mode": {
    "name": "ipython",
    "version": 3
   },
   "file_extension": ".py",
   "mimetype": "text/x-python",
   "name": "python",
   "nbconvert_exporter": "python",
   "pygments_lexer": "ipython3",
   "version": "3.11.2"
  }
 },
 "nbformat": 4,
 "nbformat_minor": 5
}
